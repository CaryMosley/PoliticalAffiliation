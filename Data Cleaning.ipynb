{
 "cells": [
  {
   "cell_type": "markdown",
   "metadata": {},
   "source": [
    "# Data Cleaning\n",
    "\n",
    "Now that we have collected all of our data, we'll need to clean it before we can continue with EDA.\n",
    "\n",
    "## Import Libraries and Data"
   ]
  },
  {
   "cell_type": "code",
   "execution_count": 1,
   "metadata": {},
   "outputs": [],
   "source": [
    "import pandas as pd\n",
    "import matplotlib.pyplot as plt\n",
    "%matplotlib inline\n",
    "import numpy as np\n",
    "\n",
    "# pd.set_option(\"display.max_rows\", None, \"display.max_columns\", None)"
   ]
  },
  {
   "cell_type": "code",
   "execution_count": 2,
   "metadata": {},
   "outputs": [],
   "source": [
    "df = pd.read_csv('city_stats.csv')\n",
    "df.drop(columns = ['Unnamed: 0'],inplace=True)"
   ]
  },
  {
   "cell_type": "code",
   "execution_count": 3,
   "metadata": {},
   "outputs": [
    {
     "data": {
      "text/html": [
       "<div>\n",
       "<style scoped>\n",
       "    .dataframe tbody tr th:only-of-type {\n",
       "        vertical-align: middle;\n",
       "    }\n",
       "\n",
       "    .dataframe tbody tr th {\n",
       "        vertical-align: top;\n",
       "    }\n",
       "\n",
       "    .dataframe thead th {\n",
       "        text-align: right;\n",
       "    }\n",
       "</style>\n",
       "<table border=\"1\" class=\"dataframe\">\n",
       "  <thead>\n",
       "    <tr style=\"text-align: right;\">\n",
       "      <th></th>\n",
       "      <th>CITY</th>\n",
       "      <th>STATE</th>\n",
       "      <th>PA</th>\n",
       "      <th>POP</th>\n",
       "      <th>UNDER_5</th>\n",
       "      <th>UNDER_18</th>\n",
       "      <th>65_OR_OVER</th>\n",
       "      <th>FEMALE</th>\n",
       "      <th>WHITE</th>\n",
       "      <th>BLACK</th>\n",
       "      <th>...</th>\n",
       "      <th>POVERTY</th>\n",
       "      <th>FIRMS</th>\n",
       "      <th>MEN_FIRM</th>\n",
       "      <th>FEM_FIRM</th>\n",
       "      <th>MINOR_FIRM</th>\n",
       "      <th>NON_MINOR_FIRM</th>\n",
       "      <th>VET_FIRM</th>\n",
       "      <th>NON_VET_FIRM</th>\n",
       "      <th>POP_AREA</th>\n",
       "      <th>AREA</th>\n",
       "    </tr>\n",
       "  </thead>\n",
       "  <tbody>\n",
       "    <tr>\n",
       "      <td>0</td>\n",
       "      <td>Montgomery</td>\n",
       "      <td>Alabama</td>\n",
       "      <td>liberal</td>\n",
       "      <td>198218.0</td>\n",
       "      <td>6.8</td>\n",
       "      <td>24.0</td>\n",
       "      <td>13.7</td>\n",
       "      <td>53.0</td>\n",
       "      <td>33.3</td>\n",
       "      <td>60.6</td>\n",
       "      <td>...</td>\n",
       "      <td>21.9</td>\n",
       "      <td>18043.0</td>\n",
       "      <td>8879.0</td>\n",
       "      <td>7459.0</td>\n",
       "      <td>8793.0</td>\n",
       "      <td>8363.0</td>\n",
       "      <td>2352.0</td>\n",
       "      <td>14434.0</td>\n",
       "      <td>1289.5</td>\n",
       "      <td>159.57</td>\n",
       "    </tr>\n",
       "    <tr>\n",
       "      <td>1</td>\n",
       "      <td>Birmingham</td>\n",
       "      <td>Alabama</td>\n",
       "      <td>liberal</td>\n",
       "      <td>209880.0</td>\n",
       "      <td>6.5</td>\n",
       "      <td>20.3</td>\n",
       "      <td>14.2</td>\n",
       "      <td>53.1</td>\n",
       "      <td>25.3</td>\n",
       "      <td>70.5</td>\n",
       "      <td>...</td>\n",
       "      <td>27.2</td>\n",
       "      <td>20738.0</td>\n",
       "      <td>10318.0</td>\n",
       "      <td>8286.0</td>\n",
       "      <td>10605.0</td>\n",
       "      <td>8770.0</td>\n",
       "      <td>2082.0</td>\n",
       "      <td>17113.0</td>\n",
       "      <td>1453.0</td>\n",
       "      <td>146.07</td>\n",
       "    </tr>\n",
       "    <tr>\n",
       "      <td>2</td>\n",
       "      <td>Mobile</td>\n",
       "      <td>Alabama</td>\n",
       "      <td>liberal</td>\n",
       "      <td>189572.0</td>\n",
       "      <td>6.3</td>\n",
       "      <td>21.7</td>\n",
       "      <td>16.0</td>\n",
       "      <td>52.6</td>\n",
       "      <td>44.8</td>\n",
       "      <td>50.6</td>\n",
       "      <td>...</td>\n",
       "      <td>22.0</td>\n",
       "      <td>20118.0</td>\n",
       "      <td>9703.0</td>\n",
       "      <td>8644.0</td>\n",
       "      <td>8808.0</td>\n",
       "      <td>10250.0</td>\n",
       "      <td>2275.0</td>\n",
       "      <td>16639.0</td>\n",
       "      <td>1402.6</td>\n",
       "      <td>139.11</td>\n",
       "    </tr>\n",
       "    <tr>\n",
       "      <td>3</td>\n",
       "      <td>Huntsville</td>\n",
       "      <td>Alabama</td>\n",
       "      <td>liberal</td>\n",
       "      <td>197318.0</td>\n",
       "      <td>6.4</td>\n",
       "      <td>21.1</td>\n",
       "      <td>15.7</td>\n",
       "      <td>51.9</td>\n",
       "      <td>61.6</td>\n",
       "      <td>30.6</td>\n",
       "      <td>...</td>\n",
       "      <td>17.7</td>\n",
       "      <td>16838.0</td>\n",
       "      <td>8211.0</td>\n",
       "      <td>6565.0</td>\n",
       "      <td>4380.0</td>\n",
       "      <td>11515.0</td>\n",
       "      <td>1816.0</td>\n",
       "      <td>13915.0</td>\n",
       "      <td>861.5</td>\n",
       "      <td>209.05</td>\n",
       "    </tr>\n",
       "    <tr>\n",
       "      <td>4</td>\n",
       "      <td>Hoover</td>\n",
       "      <td>Alabama</td>\n",
       "      <td>liberal</td>\n",
       "      <td>85108.0</td>\n",
       "      <td>6.9</td>\n",
       "      <td>25.4</td>\n",
       "      <td>15.6</td>\n",
       "      <td>52.8</td>\n",
       "      <td>72.7</td>\n",
       "      <td>17.4</td>\n",
       "      <td>...</td>\n",
       "      <td>6.7</td>\n",
       "      <td>7982.0</td>\n",
       "      <td>4402.0</td>\n",
       "      <td>2471.0</td>\n",
       "      <td>1371.0</td>\n",
       "      <td>6147.0</td>\n",
       "      <td>831.0</td>\n",
       "      <td>6551.0</td>\n",
       "      <td>1730.6</td>\n",
       "      <td>47.16</td>\n",
       "    </tr>\n",
       "  </tbody>\n",
       "</table>\n",
       "<p>5 rows × 47 columns</p>\n",
       "</div>"
      ],
      "text/plain": [
       "          CITY    STATE       PA       POP  UNDER_5  UNDER_18  65_OR_OVER  \\\n",
       "0  Montgomery   Alabama  liberal  198218.0      6.8      24.0        13.7   \n",
       "1  Birmingham   Alabama  liberal  209880.0      6.5      20.3        14.2   \n",
       "2      Mobile   Alabama  liberal  189572.0      6.3      21.7        16.0   \n",
       "3  Huntsville   Alabama  liberal  197318.0      6.4      21.1        15.7   \n",
       "4      Hoover   Alabama  liberal   85108.0      6.9      25.4        15.6   \n",
       "\n",
       "   FEMALE  WHITE  BLACK  ...  POVERTY    FIRMS  MEN_FIRM  FEM_FIRM  \\\n",
       "0    53.0   33.3   60.6  ...     21.9  18043.0    8879.0    7459.0   \n",
       "1    53.1   25.3   70.5  ...     27.2  20738.0   10318.0    8286.0   \n",
       "2    52.6   44.8   50.6  ...     22.0  20118.0    9703.0    8644.0   \n",
       "3    51.9   61.6   30.6  ...     17.7  16838.0    8211.0    6565.0   \n",
       "4    52.8   72.7   17.4  ...      6.7   7982.0    4402.0    2471.0   \n",
       "\n",
       "   MINOR_FIRM  NON_MINOR_FIRM  VET_FIRM  NON_VET_FIRM  POP_AREA    AREA  \n",
       "0      8793.0          8363.0    2352.0       14434.0    1289.5  159.57  \n",
       "1     10605.0          8770.0    2082.0       17113.0    1453.0  146.07  \n",
       "2      8808.0         10250.0    2275.0       16639.0    1402.6  139.11  \n",
       "3      4380.0         11515.0    1816.0       13915.0     861.5  209.05  \n",
       "4      1371.0          6147.0     831.0        6551.0    1730.6   47.16  \n",
       "\n",
       "[5 rows x 47 columns]"
      ]
     },
     "execution_count": 3,
     "metadata": {},
     "output_type": "execute_result"
    }
   ],
   "source": [
    "df.head()"
   ]
  },
  {
   "cell_type": "code",
   "execution_count": 4,
   "metadata": {},
   "outputs": [
    {
     "data": {
      "text/plain": [
       "(4552, 47)"
      ]
     },
     "execution_count": 4,
     "metadata": {},
     "output_type": "execute_result"
    }
   ],
   "source": [
    "df.shape"
   ]
  },
  {
   "cell_type": "code",
   "execution_count": 5,
   "metadata": {},
   "outputs": [
    {
     "data": {
      "text/plain": [
       "Index(['CITY', 'STATE', 'PA', 'POP', 'UNDER_5', 'UNDER_18', '65_OR_OVER',\n",
       "       'FEMALE', 'WHITE', 'BLACK', 'AMERICAN_INDIAN', 'ASIAN',\n",
       "       'PACIFIC_ISLANDER', 'MULTI_RACE', 'HISPANIC', 'VETERAN', 'FOREIGN',\n",
       "       'HOUSES', 'HOUSE_VAL', 'RENT', 'HOUSEHOLDS', 'PPH', 'YEAR_IN_HOUSE',\n",
       "       'OTHER_HOME_LANG', 'COMPUTER', 'INTERNET', 'HIGH_SCHOOL', 'BACH_DEGREE',\n",
       "       'DISABILITY_UNDER_65', 'NO_INSURANCE', 'LABOR', 'FEM_LABOR',\n",
       "       'HEALTHCARE', 'SHIPMENTS', 'TRAVEL_TIME', 'HOUSEHOLD_INCOME', 'INCOME',\n",
       "       'POVERTY', 'FIRMS', 'MEN_FIRM', 'FEM_FIRM', 'MINOR_FIRM',\n",
       "       'NON_MINOR_FIRM', 'VET_FIRM', 'NON_VET_FIRM', 'POP_AREA', 'AREA'],\n",
       "      dtype='object')"
      ]
     },
     "execution_count": 5,
     "metadata": {},
     "output_type": "execute_result"
    }
   ],
   "source": [
    "df.columns"
   ]
  },
  {
   "cell_type": "markdown",
   "metadata": {},
   "source": [
    "From data collection notebook, we know the columns represent the following data:\n",
    "\n",
    "`CITY` = city <br>\n",
    "`STATE` = state <br>\n",
    "`PA` = political affiliation <br>\n",
    "`POP` = population <br>\n",
    "`UNDER_5` = % of people under age 5 <br>\n",
    "`UNDER_18` = % of people under age 18 <br>\n",
    "`65_OR_OVER` = % of people 65 and older <br>\n",
    "`FEMALE` = % female <br>\n",
    "`WHITE` = % white only <br>\n",
    "`BLACK` = % black only <br>\n",
    "`AMERICAN_INDIAN` = % american indian or alaska native only <br>\n",
    "`ASIAN` = % asian only <br>\n",
    "`PACIFIC_ISLANDER` = % native hawaiian and other pacific islander only <br>\n",
    "`MULTI_RACE` = % two+ races <br>\n",
    "`HISPANIC` = % hispanic <br>\n",
    "`VETERAN` = # of veterans <br>\n",
    "`FOREIGN` = % foreign born <br>\n",
    "`HOUSES` = % of owner occupied houses <br>\n",
    "`HOUSE_VAL` = median value of owner occupied houses <br>\n",
    "`RENT` = median gross rent <br>\n",
    "`HOUSEHOLDS` = households <br>\n",
    "`PPH` = people per household <br>\n",
    "`YEAR_IN_HOUSE` = % of people living in same house for one year or more <br>\n",
    "`OTHER_HOME_LANG` = % of people, 5+ years old, who speak a language other than english at home <br>\n",
    "`COMPUTER` = % of households with computer <br>\n",
    "`INTERNET` = % of households with internet <br>\n",
    "`HIGH_SCHOOL` = % of people, 25+ years old, with high school diploma or higher  <br>\n",
    "`BACH_DEGREE` = % of people, 25+ years old, with bachelors degree or higher <br>\n",
    "`DISABILITY_UNDER_65` = % of people with a disability under 65 years old <br>\n",
    "`NO_INSURANCE` = % of people without health insurance, under 65 years old <br>\n",
    "`LABOR` = % of population in civilian labor force, 16+ years old <br>\n",
    "`FEM_LABOR` = % of female population in civilian labor force, 16+ years old <br>\n",
    "`HEALTHCARE` = healthcare and social assistance revenue (\\$1,000) <br>\n",
    "`SHIPMENTS` = manufacturers shipments (\\$1,000) <br>\n",
    "`TRAVEL_TIME` = average travel time to work (min), 16+ years old <br>\n",
    "`HOUSEHOLD_INCOME` = average household income <br>\n",
    "`INCOME` = per capita income in last 12 months <br>\n",
    "`POVERTY` = % of people in poverty <br>\n",
    "`FIRMS` = all firms <br>\n",
    "`MEN_FIRM` = men owned firms <br>\n",
    "`FEM_FIRM` = female owned firms <br>\n",
    "`MINOR_FIRM` = minority owned firms <br>\n",
    "`NON_MINOR_FIRM` = nonminority owned firms <br>\n",
    "`VET_FIRM` = veteran owned firms <br>\n",
    "`NON_VET_FIRM` = non-veteran owned firms <br>\n",
    "`POP_AREA` = population per square mile <br>\n",
    "`AREA` = land area in square miles <br>\n",
    "\n",
    "We dont need city or state anymore as they are just identifiers, so we remove them below."
   ]
  },
  {
   "cell_type": "code",
   "execution_count": 6,
   "metadata": {},
   "outputs": [],
   "source": [
    "df.drop(columns = ['CITY','STATE'],inplace=True)"
   ]
  },
  {
   "cell_type": "markdown",
   "metadata": {},
   "source": [
    "## Null Values\n",
    "\n",
    "First, we'll check for any null values."
   ]
  },
  {
   "cell_type": "code",
   "execution_count": 7,
   "metadata": {
    "scrolled": true
   },
   "outputs": [
    {
     "data": {
      "text/plain": [
       "PA                     1017\n",
       "POP                    1015\n",
       "UNDER_5                1015\n",
       "UNDER_18               1015\n",
       "65_OR_OVER             1015\n",
       "FEMALE                 1015\n",
       "WHITE                  1015\n",
       "BLACK                  1015\n",
       "AMERICAN_INDIAN        1015\n",
       "ASIAN                  1015\n",
       "PACIFIC_ISLANDER       1015\n",
       "MULTI_RACE             1015\n",
       "HISPANIC               1015\n",
       "VETERAN                1015\n",
       "FOREIGN                1015\n",
       "HOUSES                 1015\n",
       "HOUSE_VAL              1015\n",
       "RENT                   1015\n",
       "HOUSEHOLDS             1015\n",
       "PPH                    1015\n",
       "YEAR_IN_HOUSE          1015\n",
       "OTHER_HOME_LANG        1015\n",
       "COMPUTER               1015\n",
       "INTERNET               1015\n",
       "HIGH_SCHOOL            1015\n",
       "BACH_DEGREE            1015\n",
       "DISABILITY_UNDER_65    1015\n",
       "NO_INSURANCE           1015\n",
       "LABOR                  1015\n",
       "FEM_LABOR              1015\n",
       "HEALTHCARE             1015\n",
       "SHIPMENTS              1015\n",
       "TRAVEL_TIME            1015\n",
       "HOUSEHOLD_INCOME       1015\n",
       "INCOME                 1015\n",
       "POVERTY                1015\n",
       "FIRMS                  1015\n",
       "MEN_FIRM               1015\n",
       "FEM_FIRM               1015\n",
       "MINOR_FIRM             1015\n",
       "NON_MINOR_FIRM         1015\n",
       "VET_FIRM               1015\n",
       "NON_VET_FIRM           1015\n",
       "POP_AREA               1015\n",
       "AREA                   1015\n",
       "dtype: int64"
      ]
     },
     "execution_count": 7,
     "metadata": {},
     "output_type": "execute_result"
    }
   ],
   "source": [
    "df.isnull().sum()"
   ]
  },
  {
   "cell_type": "markdown",
   "metadata": {},
   "source": [
    "Since all but the PA columns have the same number of null values, we assume it's because these pages were not found during data collection. Let's look at the rows with null values to check."
   ]
  },
  {
   "cell_type": "code",
   "execution_count": 8,
   "metadata": {},
   "outputs": [
    {
     "data": {
      "text/html": [
       "<div>\n",
       "<style scoped>\n",
       "    .dataframe tbody tr th:only-of-type {\n",
       "        vertical-align: middle;\n",
       "    }\n",
       "\n",
       "    .dataframe tbody tr th {\n",
       "        vertical-align: top;\n",
       "    }\n",
       "\n",
       "    .dataframe thead th {\n",
       "        text-align: right;\n",
       "    }\n",
       "</style>\n",
       "<table border=\"1\" class=\"dataframe\">\n",
       "  <thead>\n",
       "    <tr style=\"text-align: right;\">\n",
       "      <th></th>\n",
       "      <th>PA</th>\n",
       "      <th>POP</th>\n",
       "      <th>UNDER_5</th>\n",
       "      <th>UNDER_18</th>\n",
       "      <th>65_OR_OVER</th>\n",
       "      <th>FEMALE</th>\n",
       "      <th>WHITE</th>\n",
       "      <th>BLACK</th>\n",
       "      <th>AMERICAN_INDIAN</th>\n",
       "      <th>ASIAN</th>\n",
       "      <th>...</th>\n",
       "      <th>POVERTY</th>\n",
       "      <th>FIRMS</th>\n",
       "      <th>MEN_FIRM</th>\n",
       "      <th>FEM_FIRM</th>\n",
       "      <th>MINOR_FIRM</th>\n",
       "      <th>NON_MINOR_FIRM</th>\n",
       "      <th>VET_FIRM</th>\n",
       "      <th>NON_VET_FIRM</th>\n",
       "      <th>POP_AREA</th>\n",
       "      <th>AREA</th>\n",
       "    </tr>\n",
       "  </thead>\n",
       "  <tbody>\n",
       "    <tr>\n",
       "      <td>90</td>\n",
       "      <td>NaN</td>\n",
       "      <td>NaN</td>\n",
       "      <td>NaN</td>\n",
       "      <td>NaN</td>\n",
       "      <td>NaN</td>\n",
       "      <td>NaN</td>\n",
       "      <td>NaN</td>\n",
       "      <td>NaN</td>\n",
       "      <td>NaN</td>\n",
       "      <td>NaN</td>\n",
       "      <td>...</td>\n",
       "      <td>NaN</td>\n",
       "      <td>NaN</td>\n",
       "      <td>NaN</td>\n",
       "      <td>NaN</td>\n",
       "      <td>NaN</td>\n",
       "      <td>NaN</td>\n",
       "      <td>NaN</td>\n",
       "      <td>NaN</td>\n",
       "      <td>NaN</td>\n",
       "      <td>NaN</td>\n",
       "    </tr>\n",
       "    <tr>\n",
       "      <td>92</td>\n",
       "      <td>NaN</td>\n",
       "      <td>NaN</td>\n",
       "      <td>NaN</td>\n",
       "      <td>NaN</td>\n",
       "      <td>NaN</td>\n",
       "      <td>NaN</td>\n",
       "      <td>NaN</td>\n",
       "      <td>NaN</td>\n",
       "      <td>NaN</td>\n",
       "      <td>NaN</td>\n",
       "      <td>...</td>\n",
       "      <td>NaN</td>\n",
       "      <td>NaN</td>\n",
       "      <td>NaN</td>\n",
       "      <td>NaN</td>\n",
       "      <td>NaN</td>\n",
       "      <td>NaN</td>\n",
       "      <td>NaN</td>\n",
       "      <td>NaN</td>\n",
       "      <td>NaN</td>\n",
       "      <td>NaN</td>\n",
       "    </tr>\n",
       "    <tr>\n",
       "      <td>94</td>\n",
       "      <td>NaN</td>\n",
       "      <td>NaN</td>\n",
       "      <td>NaN</td>\n",
       "      <td>NaN</td>\n",
       "      <td>NaN</td>\n",
       "      <td>NaN</td>\n",
       "      <td>NaN</td>\n",
       "      <td>NaN</td>\n",
       "      <td>NaN</td>\n",
       "      <td>NaN</td>\n",
       "      <td>...</td>\n",
       "      <td>NaN</td>\n",
       "      <td>NaN</td>\n",
       "      <td>NaN</td>\n",
       "      <td>NaN</td>\n",
       "      <td>NaN</td>\n",
       "      <td>NaN</td>\n",
       "      <td>NaN</td>\n",
       "      <td>NaN</td>\n",
       "      <td>NaN</td>\n",
       "      <td>NaN</td>\n",
       "    </tr>\n",
       "    <tr>\n",
       "      <td>96</td>\n",
       "      <td>NaN</td>\n",
       "      <td>NaN</td>\n",
       "      <td>NaN</td>\n",
       "      <td>NaN</td>\n",
       "      <td>NaN</td>\n",
       "      <td>NaN</td>\n",
       "      <td>NaN</td>\n",
       "      <td>NaN</td>\n",
       "      <td>NaN</td>\n",
       "      <td>NaN</td>\n",
       "      <td>...</td>\n",
       "      <td>NaN</td>\n",
       "      <td>NaN</td>\n",
       "      <td>NaN</td>\n",
       "      <td>NaN</td>\n",
       "      <td>NaN</td>\n",
       "      <td>NaN</td>\n",
       "      <td>NaN</td>\n",
       "      <td>NaN</td>\n",
       "      <td>NaN</td>\n",
       "      <td>NaN</td>\n",
       "    </tr>\n",
       "    <tr>\n",
       "      <td>101</td>\n",
       "      <td>NaN</td>\n",
       "      <td>NaN</td>\n",
       "      <td>NaN</td>\n",
       "      <td>NaN</td>\n",
       "      <td>NaN</td>\n",
       "      <td>NaN</td>\n",
       "      <td>NaN</td>\n",
       "      <td>NaN</td>\n",
       "      <td>NaN</td>\n",
       "      <td>NaN</td>\n",
       "      <td>...</td>\n",
       "      <td>NaN</td>\n",
       "      <td>NaN</td>\n",
       "      <td>NaN</td>\n",
       "      <td>NaN</td>\n",
       "      <td>NaN</td>\n",
       "      <td>NaN</td>\n",
       "      <td>NaN</td>\n",
       "      <td>NaN</td>\n",
       "      <td>NaN</td>\n",
       "      <td>NaN</td>\n",
       "    </tr>\n",
       "  </tbody>\n",
       "</table>\n",
       "<p>5 rows × 45 columns</p>\n",
       "</div>"
      ],
      "text/plain": [
       "      PA  POP  UNDER_5  UNDER_18  65_OR_OVER  FEMALE  WHITE  BLACK  \\\n",
       "90   NaN  NaN      NaN       NaN         NaN     NaN    NaN    NaN   \n",
       "92   NaN  NaN      NaN       NaN         NaN     NaN    NaN    NaN   \n",
       "94   NaN  NaN      NaN       NaN         NaN     NaN    NaN    NaN   \n",
       "96   NaN  NaN      NaN       NaN         NaN     NaN    NaN    NaN   \n",
       "101  NaN  NaN      NaN       NaN         NaN     NaN    NaN    NaN   \n",
       "\n",
       "     AMERICAN_INDIAN  ASIAN  ...  POVERTY  FIRMS  MEN_FIRM  FEM_FIRM  \\\n",
       "90               NaN    NaN  ...      NaN    NaN       NaN       NaN   \n",
       "92               NaN    NaN  ...      NaN    NaN       NaN       NaN   \n",
       "94               NaN    NaN  ...      NaN    NaN       NaN       NaN   \n",
       "96               NaN    NaN  ...      NaN    NaN       NaN       NaN   \n",
       "101              NaN    NaN  ...      NaN    NaN       NaN       NaN   \n",
       "\n",
       "     MINOR_FIRM  NON_MINOR_FIRM  VET_FIRM  NON_VET_FIRM  POP_AREA  AREA  \n",
       "90          NaN             NaN       NaN           NaN       NaN   NaN  \n",
       "92          NaN             NaN       NaN           NaN       NaN   NaN  \n",
       "94          NaN             NaN       NaN           NaN       NaN   NaN  \n",
       "96          NaN             NaN       NaN           NaN       NaN   NaN  \n",
       "101         NaN             NaN       NaN           NaN       NaN   NaN  \n",
       "\n",
       "[5 rows x 45 columns]"
      ]
     },
     "execution_count": 8,
     "metadata": {},
     "output_type": "execute_result"
    }
   ],
   "source": [
    "df[df.isna().any(axis=1)].head()"
   ]
  },
  {
   "cell_type": "markdown",
   "metadata": {},
   "source": [
    "As we can see, except for 2 cities whose political affiliation (PA) is not known, when one value is null, so are all other values. This means we were not able to collect the data for these cities during our web scraping. Let's go ahead and remove these empty rows."
   ]
  },
  {
   "cell_type": "code",
   "execution_count": 9,
   "metadata": {},
   "outputs": [
    {
     "data": {
      "text/plain": [
       "(3535, 45)"
      ]
     },
     "execution_count": 9,
     "metadata": {},
     "output_type": "execute_result"
    }
   ],
   "source": [
    "df.dropna(inplace=True)\n",
    "df.shape"
   ]
  },
  {
   "cell_type": "markdown",
   "metadata": {},
   "source": [
    "The real missing values in our data would show up as 0s, since this is what would be pulled from the census site. Let's take a look at these."
   ]
  },
  {
   "cell_type": "code",
   "execution_count": 10,
   "metadata": {
    "scrolled": true
   },
   "outputs": [
    {
     "data": {
      "text/html": [
       "<div>\n",
       "<style scoped>\n",
       "    .dataframe tbody tr th:only-of-type {\n",
       "        vertical-align: middle;\n",
       "    }\n",
       "\n",
       "    .dataframe tbody tr th {\n",
       "        vertical-align: top;\n",
       "    }\n",
       "\n",
       "    .dataframe thead th {\n",
       "        text-align: right;\n",
       "    }\n",
       "</style>\n",
       "<table border=\"1\" class=\"dataframe\">\n",
       "  <thead>\n",
       "    <tr style=\"text-align: right;\">\n",
       "      <th></th>\n",
       "      <th>index</th>\n",
       "      <th>zero_count</th>\n",
       "      <th>percent_of_total</th>\n",
       "    </tr>\n",
       "  </thead>\n",
       "  <tbody>\n",
       "    <tr>\n",
       "      <td>0</td>\n",
       "      <td>PACIFIC_ISLANDER</td>\n",
       "      <td>2249</td>\n",
       "      <td>63.6</td>\n",
       "    </tr>\n",
       "    <tr>\n",
       "      <td>1</td>\n",
       "      <td>SHIPMENTS</td>\n",
       "      <td>1464</td>\n",
       "      <td>41.4</td>\n",
       "    </tr>\n",
       "    <tr>\n",
       "      <td>2</td>\n",
       "      <td>HEALTHCARE</td>\n",
       "      <td>720</td>\n",
       "      <td>20.4</td>\n",
       "    </tr>\n",
       "    <tr>\n",
       "      <td>3</td>\n",
       "      <td>AMERICAN_INDIAN</td>\n",
       "      <td>640</td>\n",
       "      <td>18.1</td>\n",
       "    </tr>\n",
       "    <tr>\n",
       "      <td>4</td>\n",
       "      <td>MINOR_FIRM</td>\n",
       "      <td>302</td>\n",
       "      <td>8.5</td>\n",
       "    </tr>\n",
       "    <tr>\n",
       "      <td>5</td>\n",
       "      <td>ASIAN</td>\n",
       "      <td>230</td>\n",
       "      <td>6.5</td>\n",
       "    </tr>\n",
       "    <tr>\n",
       "      <td>6</td>\n",
       "      <td>VET_FIRM</td>\n",
       "      <td>200</td>\n",
       "      <td>5.7</td>\n",
       "    </tr>\n",
       "    <tr>\n",
       "      <td>7</td>\n",
       "      <td>BLACK</td>\n",
       "      <td>77</td>\n",
       "      <td>2.2</td>\n",
       "    </tr>\n",
       "    <tr>\n",
       "      <td>8</td>\n",
       "      <td>MULTI_RACE</td>\n",
       "      <td>21</td>\n",
       "      <td>0.6</td>\n",
       "    </tr>\n",
       "    <tr>\n",
       "      <td>9</td>\n",
       "      <td>HISPANIC</td>\n",
       "      <td>12</td>\n",
       "      <td>0.3</td>\n",
       "    </tr>\n",
       "    <tr>\n",
       "      <td>10</td>\n",
       "      <td>NON_MINOR_FIRM</td>\n",
       "      <td>10</td>\n",
       "      <td>0.3</td>\n",
       "    </tr>\n",
       "    <tr>\n",
       "      <td>11</td>\n",
       "      <td>HOUSE_VAL</td>\n",
       "      <td>6</td>\n",
       "      <td>0.2</td>\n",
       "    </tr>\n",
       "    <tr>\n",
       "      <td>12</td>\n",
       "      <td>FOREIGN</td>\n",
       "      <td>5</td>\n",
       "      <td>0.1</td>\n",
       "    </tr>\n",
       "    <tr>\n",
       "      <td>13</td>\n",
       "      <td>MEN_FIRM</td>\n",
       "      <td>4</td>\n",
       "      <td>0.1</td>\n",
       "    </tr>\n",
       "    <tr>\n",
       "      <td>14</td>\n",
       "      <td>RENT</td>\n",
       "      <td>3</td>\n",
       "      <td>0.1</td>\n",
       "    </tr>\n",
       "    <tr>\n",
       "      <td>15</td>\n",
       "      <td>POP_AREA</td>\n",
       "      <td>3</td>\n",
       "      <td>0.1</td>\n",
       "    </tr>\n",
       "    <tr>\n",
       "      <td>16</td>\n",
       "      <td>AREA</td>\n",
       "      <td>3</td>\n",
       "      <td>0.1</td>\n",
       "    </tr>\n",
       "    <tr>\n",
       "      <td>17</td>\n",
       "      <td>NON_VET_FIRM</td>\n",
       "      <td>3</td>\n",
       "      <td>0.1</td>\n",
       "    </tr>\n",
       "    <tr>\n",
       "      <td>18</td>\n",
       "      <td>FEM_FIRM</td>\n",
       "      <td>3</td>\n",
       "      <td>0.1</td>\n",
       "    </tr>\n",
       "    <tr>\n",
       "      <td>19</td>\n",
       "      <td>FIRMS</td>\n",
       "      <td>3</td>\n",
       "      <td>0.1</td>\n",
       "    </tr>\n",
       "    <tr>\n",
       "      <td>20</td>\n",
       "      <td>HOUSEHOLD_INCOME</td>\n",
       "      <td>3</td>\n",
       "      <td>0.1</td>\n",
       "    </tr>\n",
       "    <tr>\n",
       "      <td>21</td>\n",
       "      <td>LABOR</td>\n",
       "      <td>1</td>\n",
       "      <td>0.0</td>\n",
       "    </tr>\n",
       "    <tr>\n",
       "      <td>22</td>\n",
       "      <td>TRAVEL_TIME</td>\n",
       "      <td>1</td>\n",
       "      <td>0.0</td>\n",
       "    </tr>\n",
       "    <tr>\n",
       "      <td>23</td>\n",
       "      <td>POVERTY</td>\n",
       "      <td>1</td>\n",
       "      <td>0.0</td>\n",
       "    </tr>\n",
       "    <tr>\n",
       "      <td>24</td>\n",
       "      <td>INCOME</td>\n",
       "      <td>1</td>\n",
       "      <td>0.0</td>\n",
       "    </tr>\n",
       "    <tr>\n",
       "      <td>25</td>\n",
       "      <td>NO_INSURANCE</td>\n",
       "      <td>1</td>\n",
       "      <td>0.0</td>\n",
       "    </tr>\n",
       "    <tr>\n",
       "      <td>26</td>\n",
       "      <td>YEAR_IN_HOUSE</td>\n",
       "      <td>1</td>\n",
       "      <td>0.0</td>\n",
       "    </tr>\n",
       "    <tr>\n",
       "      <td>27</td>\n",
       "      <td>OTHER_HOME_LANG</td>\n",
       "      <td>1</td>\n",
       "      <td>0.0</td>\n",
       "    </tr>\n",
       "    <tr>\n",
       "      <td>28</td>\n",
       "      <td>FEM_LABOR</td>\n",
       "      <td>1</td>\n",
       "      <td>0.0</td>\n",
       "    </tr>\n",
       "    <tr>\n",
       "      <td>29</td>\n",
       "      <td>UNDER_5</td>\n",
       "      <td>1</td>\n",
       "      <td>0.0</td>\n",
       "    </tr>\n",
       "    <tr>\n",
       "      <td>30</td>\n",
       "      <td>POP</td>\n",
       "      <td>0</td>\n",
       "      <td>0.0</td>\n",
       "    </tr>\n",
       "    <tr>\n",
       "      <td>31</td>\n",
       "      <td>FEMALE</td>\n",
       "      <td>0</td>\n",
       "      <td>0.0</td>\n",
       "    </tr>\n",
       "    <tr>\n",
       "      <td>32</td>\n",
       "      <td>65_OR_OVER</td>\n",
       "      <td>0</td>\n",
       "      <td>0.0</td>\n",
       "    </tr>\n",
       "    <tr>\n",
       "      <td>33</td>\n",
       "      <td>UNDER_18</td>\n",
       "      <td>0</td>\n",
       "      <td>0.0</td>\n",
       "    </tr>\n",
       "    <tr>\n",
       "      <td>34</td>\n",
       "      <td>WHITE</td>\n",
       "      <td>0</td>\n",
       "      <td>0.0</td>\n",
       "    </tr>\n",
       "    <tr>\n",
       "      <td>35</td>\n",
       "      <td>COMPUTER</td>\n",
       "      <td>0</td>\n",
       "      <td>0.0</td>\n",
       "    </tr>\n",
       "    <tr>\n",
       "      <td>36</td>\n",
       "      <td>VETERAN</td>\n",
       "      <td>0</td>\n",
       "      <td>0.0</td>\n",
       "    </tr>\n",
       "    <tr>\n",
       "      <td>37</td>\n",
       "      <td>HOUSES</td>\n",
       "      <td>0</td>\n",
       "      <td>0.0</td>\n",
       "    </tr>\n",
       "    <tr>\n",
       "      <td>38</td>\n",
       "      <td>HOUSEHOLDS</td>\n",
       "      <td>0</td>\n",
       "      <td>0.0</td>\n",
       "    </tr>\n",
       "    <tr>\n",
       "      <td>39</td>\n",
       "      <td>PPH</td>\n",
       "      <td>0</td>\n",
       "      <td>0.0</td>\n",
       "    </tr>\n",
       "    <tr>\n",
       "      <td>40</td>\n",
       "      <td>INTERNET</td>\n",
       "      <td>0</td>\n",
       "      <td>0.0</td>\n",
       "    </tr>\n",
       "    <tr>\n",
       "      <td>41</td>\n",
       "      <td>HIGH_SCHOOL</td>\n",
       "      <td>0</td>\n",
       "      <td>0.0</td>\n",
       "    </tr>\n",
       "    <tr>\n",
       "      <td>42</td>\n",
       "      <td>BACH_DEGREE</td>\n",
       "      <td>0</td>\n",
       "      <td>0.0</td>\n",
       "    </tr>\n",
       "    <tr>\n",
       "      <td>43</td>\n",
       "      <td>DISABILITY_UNDER_65</td>\n",
       "      <td>0</td>\n",
       "      <td>0.0</td>\n",
       "    </tr>\n",
       "    <tr>\n",
       "      <td>44</td>\n",
       "      <td>PA</td>\n",
       "      <td>0</td>\n",
       "      <td>0.0</td>\n",
       "    </tr>\n",
       "  </tbody>\n",
       "</table>\n",
       "</div>"
      ],
      "text/plain": [
       "                  index  zero_count  percent_of_total\n",
       "0      PACIFIC_ISLANDER        2249              63.6\n",
       "1             SHIPMENTS        1464              41.4\n",
       "2            HEALTHCARE         720              20.4\n",
       "3       AMERICAN_INDIAN         640              18.1\n",
       "4            MINOR_FIRM         302               8.5\n",
       "5                 ASIAN         230               6.5\n",
       "6              VET_FIRM         200               5.7\n",
       "7                 BLACK          77               2.2\n",
       "8            MULTI_RACE          21               0.6\n",
       "9              HISPANIC          12               0.3\n",
       "10       NON_MINOR_FIRM          10               0.3\n",
       "11            HOUSE_VAL           6               0.2\n",
       "12              FOREIGN           5               0.1\n",
       "13             MEN_FIRM           4               0.1\n",
       "14                 RENT           3               0.1\n",
       "15             POP_AREA           3               0.1\n",
       "16                 AREA           3               0.1\n",
       "17         NON_VET_FIRM           3               0.1\n",
       "18             FEM_FIRM           3               0.1\n",
       "19                FIRMS           3               0.1\n",
       "20     HOUSEHOLD_INCOME           3               0.1\n",
       "21                LABOR           1               0.0\n",
       "22          TRAVEL_TIME           1               0.0\n",
       "23              POVERTY           1               0.0\n",
       "24               INCOME           1               0.0\n",
       "25         NO_INSURANCE           1               0.0\n",
       "26        YEAR_IN_HOUSE           1               0.0\n",
       "27      OTHER_HOME_LANG           1               0.0\n",
       "28            FEM_LABOR           1               0.0\n",
       "29              UNDER_5           1               0.0\n",
       "30                  POP           0               0.0\n",
       "31               FEMALE           0               0.0\n",
       "32           65_OR_OVER           0               0.0\n",
       "33             UNDER_18           0               0.0\n",
       "34                WHITE           0               0.0\n",
       "35             COMPUTER           0               0.0\n",
       "36              VETERAN           0               0.0\n",
       "37               HOUSES           0               0.0\n",
       "38           HOUSEHOLDS           0               0.0\n",
       "39                  PPH           0               0.0\n",
       "40             INTERNET           0               0.0\n",
       "41          HIGH_SCHOOL           0               0.0\n",
       "42          BACH_DEGREE           0               0.0\n",
       "43  DISABILITY_UNDER_65           0               0.0\n",
       "44                   PA           0               0.0"
      ]
     },
     "execution_count": 10,
     "metadata": {},
     "output_type": "execute_result"
    }
   ],
   "source": [
    "zeroes = pd.DataFrame(df.isin([0]).sum().sort_values(ascending=False),columns=['zero_count']).reset_index()\n",
    "zeroes['percent_of_total'] = zeroes['zero_count'].apply(lambda x: round(x/len(df),3)*100)\n",
    "zeroes"
   ]
  },
  {
   "cell_type": "markdown",
   "metadata": {},
   "source": [
    "We can see we're missing a lot of data for healthcare revenue and manufacturing shipments values, so we'll drop these columns instead of losing so many rows. For percentages of native hawaiian, other pacific islander, american indian, or alaska native only, we know these 0s to be accurate, so we won't drop them."
   ]
  },
  {
   "cell_type": "code",
   "execution_count": 11,
   "metadata": {},
   "outputs": [],
   "source": [
    "df.drop(columns = ['HEALTHCARE','SHIPMENTS'],inplace=True)"
   ]
  },
  {
   "cell_type": "markdown",
   "metadata": {},
   "source": [
    "For those features which are less than 10% zeroes, we'll need to do some feature engineering. We do notice however some columns which have less than 10 zeroes. We should be able to remove these without affecting our data too much. We selected some of these to remove below."
   ]
  },
  {
   "cell_type": "code",
   "execution_count": 12,
   "metadata": {},
   "outputs": [],
   "source": [
    "columns = ['UNDER_5','AREA','FIRMS','POVERTY','FOREIGN','OTHER_HOME_LANG','HOUSE_VAL','RENT','HOUSEHOLD_INCOME', 'NON_MINOR_FIRM']\n",
    "for column in columns:\n",
    "    df = df[df[column] != 0]"
   ]
  },
  {
   "cell_type": "code",
   "execution_count": 13,
   "metadata": {
    "scrolled": true
   },
   "outputs": [
    {
     "data": {
      "text/html": [
       "<div>\n",
       "<style scoped>\n",
       "    .dataframe tbody tr th:only-of-type {\n",
       "        vertical-align: middle;\n",
       "    }\n",
       "\n",
       "    .dataframe tbody tr th {\n",
       "        vertical-align: top;\n",
       "    }\n",
       "\n",
       "    .dataframe thead th {\n",
       "        text-align: right;\n",
       "    }\n",
       "</style>\n",
       "<table border=\"1\" class=\"dataframe\">\n",
       "  <thead>\n",
       "    <tr style=\"text-align: right;\">\n",
       "      <th></th>\n",
       "      <th>index</th>\n",
       "      <th>zero_count</th>\n",
       "      <th>percent_of_total</th>\n",
       "    </tr>\n",
       "  </thead>\n",
       "  <tbody>\n",
       "    <tr>\n",
       "      <td>0</td>\n",
       "      <td>PACIFIC_ISLANDER</td>\n",
       "      <td>2227</td>\n",
       "      <td>63.5</td>\n",
       "    </tr>\n",
       "    <tr>\n",
       "      <td>1</td>\n",
       "      <td>AMERICAN_INDIAN</td>\n",
       "      <td>629</td>\n",
       "      <td>17.9</td>\n",
       "    </tr>\n",
       "    <tr>\n",
       "      <td>2</td>\n",
       "      <td>MINOR_FIRM</td>\n",
       "      <td>297</td>\n",
       "      <td>8.5</td>\n",
       "    </tr>\n",
       "    <tr>\n",
       "      <td>3</td>\n",
       "      <td>ASIAN</td>\n",
       "      <td>219</td>\n",
       "      <td>6.2</td>\n",
       "    </tr>\n",
       "    <tr>\n",
       "      <td>4</td>\n",
       "      <td>VET_FIRM</td>\n",
       "      <td>192</td>\n",
       "      <td>5.5</td>\n",
       "    </tr>\n",
       "    <tr>\n",
       "      <td>5</td>\n",
       "      <td>BLACK</td>\n",
       "      <td>75</td>\n",
       "      <td>2.1</td>\n",
       "    </tr>\n",
       "    <tr>\n",
       "      <td>6</td>\n",
       "      <td>MULTI_RACE</td>\n",
       "      <td>19</td>\n",
       "      <td>0.5</td>\n",
       "    </tr>\n",
       "    <tr>\n",
       "      <td>7</td>\n",
       "      <td>HISPANIC</td>\n",
       "      <td>10</td>\n",
       "      <td>0.3</td>\n",
       "    </tr>\n",
       "    <tr>\n",
       "      <td>8</td>\n",
       "      <td>RENT</td>\n",
       "      <td>0</td>\n",
       "      <td>0.0</td>\n",
       "    </tr>\n",
       "    <tr>\n",
       "      <td>9</td>\n",
       "      <td>HOUSE_VAL</td>\n",
       "      <td>0</td>\n",
       "      <td>0.0</td>\n",
       "    </tr>\n",
       "    <tr>\n",
       "      <td>10</td>\n",
       "      <td>HOUSES</td>\n",
       "      <td>0</td>\n",
       "      <td>0.0</td>\n",
       "    </tr>\n",
       "    <tr>\n",
       "      <td>11</td>\n",
       "      <td>FOREIGN</td>\n",
       "      <td>0</td>\n",
       "      <td>0.0</td>\n",
       "    </tr>\n",
       "    <tr>\n",
       "      <td>12</td>\n",
       "      <td>VETERAN</td>\n",
       "      <td>0</td>\n",
       "      <td>0.0</td>\n",
       "    </tr>\n",
       "    <tr>\n",
       "      <td>13</td>\n",
       "      <td>AREA</td>\n",
       "      <td>0</td>\n",
       "      <td>0.0</td>\n",
       "    </tr>\n",
       "    <tr>\n",
       "      <td>14</td>\n",
       "      <td>PPH</td>\n",
       "      <td>0</td>\n",
       "      <td>0.0</td>\n",
       "    </tr>\n",
       "    <tr>\n",
       "      <td>15</td>\n",
       "      <td>WHITE</td>\n",
       "      <td>0</td>\n",
       "      <td>0.0</td>\n",
       "    </tr>\n",
       "    <tr>\n",
       "      <td>16</td>\n",
       "      <td>FEMALE</td>\n",
       "      <td>0</td>\n",
       "      <td>0.0</td>\n",
       "    </tr>\n",
       "    <tr>\n",
       "      <td>17</td>\n",
       "      <td>65_OR_OVER</td>\n",
       "      <td>0</td>\n",
       "      <td>0.0</td>\n",
       "    </tr>\n",
       "    <tr>\n",
       "      <td>18</td>\n",
       "      <td>UNDER_18</td>\n",
       "      <td>0</td>\n",
       "      <td>0.0</td>\n",
       "    </tr>\n",
       "    <tr>\n",
       "      <td>19</td>\n",
       "      <td>UNDER_5</td>\n",
       "      <td>0</td>\n",
       "      <td>0.0</td>\n",
       "    </tr>\n",
       "    <tr>\n",
       "      <td>20</td>\n",
       "      <td>POP</td>\n",
       "      <td>0</td>\n",
       "      <td>0.0</td>\n",
       "    </tr>\n",
       "    <tr>\n",
       "      <td>21</td>\n",
       "      <td>HOUSEHOLDS</td>\n",
       "      <td>0</td>\n",
       "      <td>0.0</td>\n",
       "    </tr>\n",
       "    <tr>\n",
       "      <td>22</td>\n",
       "      <td>OTHER_HOME_LANG</td>\n",
       "      <td>0</td>\n",
       "      <td>0.0</td>\n",
       "    </tr>\n",
       "    <tr>\n",
       "      <td>23</td>\n",
       "      <td>YEAR_IN_HOUSE</td>\n",
       "      <td>0</td>\n",
       "      <td>0.0</td>\n",
       "    </tr>\n",
       "    <tr>\n",
       "      <td>24</td>\n",
       "      <td>POP_AREA</td>\n",
       "      <td>0</td>\n",
       "      <td>0.0</td>\n",
       "    </tr>\n",
       "    <tr>\n",
       "      <td>25</td>\n",
       "      <td>NON_VET_FIRM</td>\n",
       "      <td>0</td>\n",
       "      <td>0.0</td>\n",
       "    </tr>\n",
       "    <tr>\n",
       "      <td>26</td>\n",
       "      <td>NON_MINOR_FIRM</td>\n",
       "      <td>0</td>\n",
       "      <td>0.0</td>\n",
       "    </tr>\n",
       "    <tr>\n",
       "      <td>27</td>\n",
       "      <td>FEM_FIRM</td>\n",
       "      <td>0</td>\n",
       "      <td>0.0</td>\n",
       "    </tr>\n",
       "    <tr>\n",
       "      <td>28</td>\n",
       "      <td>MEN_FIRM</td>\n",
       "      <td>0</td>\n",
       "      <td>0.0</td>\n",
       "    </tr>\n",
       "    <tr>\n",
       "      <td>29</td>\n",
       "      <td>FIRMS</td>\n",
       "      <td>0</td>\n",
       "      <td>0.0</td>\n",
       "    </tr>\n",
       "    <tr>\n",
       "      <td>30</td>\n",
       "      <td>POVERTY</td>\n",
       "      <td>0</td>\n",
       "      <td>0.0</td>\n",
       "    </tr>\n",
       "    <tr>\n",
       "      <td>31</td>\n",
       "      <td>INCOME</td>\n",
       "      <td>0</td>\n",
       "      <td>0.0</td>\n",
       "    </tr>\n",
       "    <tr>\n",
       "      <td>32</td>\n",
       "      <td>HOUSEHOLD_INCOME</td>\n",
       "      <td>0</td>\n",
       "      <td>0.0</td>\n",
       "    </tr>\n",
       "    <tr>\n",
       "      <td>33</td>\n",
       "      <td>TRAVEL_TIME</td>\n",
       "      <td>0</td>\n",
       "      <td>0.0</td>\n",
       "    </tr>\n",
       "    <tr>\n",
       "      <td>34</td>\n",
       "      <td>FEM_LABOR</td>\n",
       "      <td>0</td>\n",
       "      <td>0.0</td>\n",
       "    </tr>\n",
       "    <tr>\n",
       "      <td>35</td>\n",
       "      <td>LABOR</td>\n",
       "      <td>0</td>\n",
       "      <td>0.0</td>\n",
       "    </tr>\n",
       "    <tr>\n",
       "      <td>36</td>\n",
       "      <td>NO_INSURANCE</td>\n",
       "      <td>0</td>\n",
       "      <td>0.0</td>\n",
       "    </tr>\n",
       "    <tr>\n",
       "      <td>37</td>\n",
       "      <td>DISABILITY_UNDER_65</td>\n",
       "      <td>0</td>\n",
       "      <td>0.0</td>\n",
       "    </tr>\n",
       "    <tr>\n",
       "      <td>38</td>\n",
       "      <td>BACH_DEGREE</td>\n",
       "      <td>0</td>\n",
       "      <td>0.0</td>\n",
       "    </tr>\n",
       "    <tr>\n",
       "      <td>39</td>\n",
       "      <td>HIGH_SCHOOL</td>\n",
       "      <td>0</td>\n",
       "      <td>0.0</td>\n",
       "    </tr>\n",
       "    <tr>\n",
       "      <td>40</td>\n",
       "      <td>INTERNET</td>\n",
       "      <td>0</td>\n",
       "      <td>0.0</td>\n",
       "    </tr>\n",
       "    <tr>\n",
       "      <td>41</td>\n",
       "      <td>COMPUTER</td>\n",
       "      <td>0</td>\n",
       "      <td>0.0</td>\n",
       "    </tr>\n",
       "    <tr>\n",
       "      <td>42</td>\n",
       "      <td>PA</td>\n",
       "      <td>0</td>\n",
       "      <td>0.0</td>\n",
       "    </tr>\n",
       "  </tbody>\n",
       "</table>\n",
       "</div>"
      ],
      "text/plain": [
       "                  index  zero_count  percent_of_total\n",
       "0      PACIFIC_ISLANDER        2227              63.5\n",
       "1       AMERICAN_INDIAN         629              17.9\n",
       "2            MINOR_FIRM         297               8.5\n",
       "3                 ASIAN         219               6.2\n",
       "4              VET_FIRM         192               5.5\n",
       "5                 BLACK          75               2.1\n",
       "6            MULTI_RACE          19               0.5\n",
       "7              HISPANIC          10               0.3\n",
       "8                  RENT           0               0.0\n",
       "9             HOUSE_VAL           0               0.0\n",
       "10               HOUSES           0               0.0\n",
       "11              FOREIGN           0               0.0\n",
       "12              VETERAN           0               0.0\n",
       "13                 AREA           0               0.0\n",
       "14                  PPH           0               0.0\n",
       "15                WHITE           0               0.0\n",
       "16               FEMALE           0               0.0\n",
       "17           65_OR_OVER           0               0.0\n",
       "18             UNDER_18           0               0.0\n",
       "19              UNDER_5           0               0.0\n",
       "20                  POP           0               0.0\n",
       "21           HOUSEHOLDS           0               0.0\n",
       "22      OTHER_HOME_LANG           0               0.0\n",
       "23        YEAR_IN_HOUSE           0               0.0\n",
       "24             POP_AREA           0               0.0\n",
       "25         NON_VET_FIRM           0               0.0\n",
       "26       NON_MINOR_FIRM           0               0.0\n",
       "27             FEM_FIRM           0               0.0\n",
       "28             MEN_FIRM           0               0.0\n",
       "29                FIRMS           0               0.0\n",
       "30              POVERTY           0               0.0\n",
       "31               INCOME           0               0.0\n",
       "32     HOUSEHOLD_INCOME           0               0.0\n",
       "33          TRAVEL_TIME           0               0.0\n",
       "34            FEM_LABOR           0               0.0\n",
       "35                LABOR           0               0.0\n",
       "36         NO_INSURANCE           0               0.0\n",
       "37  DISABILITY_UNDER_65           0               0.0\n",
       "38          BACH_DEGREE           0               0.0\n",
       "39          HIGH_SCHOOL           0               0.0\n",
       "40             INTERNET           0               0.0\n",
       "41             COMPUTER           0               0.0\n",
       "42                   PA           0               0.0"
      ]
     },
     "execution_count": 13,
     "metadata": {},
     "output_type": "execute_result"
    }
   ],
   "source": [
    "zeroes = pd.DataFrame(df.isin([0]).sum().sort_values(ascending=False),columns=['zero_count']).reset_index()\n",
    "zeroes['percent_of_total'] = zeroes['zero_count'].apply(lambda x: round(x/len(df),3)*100)\n",
    "zeroes"
   ]
  },
  {
   "cell_type": "markdown",
   "metadata": {},
   "source": [
    "The only zeroes left which are not race percentages are `MINOR_FIRM` and `VET_FIRM`, which we'll deal with in the next section."
   ]
  },
  {
   "cell_type": "markdown",
   "metadata": {},
   "source": [
    "## Unimportant Columns\n",
    "\n",
    "Most of the business counts by category can be interprolated from the others (ex. male vs female owned businesses), so we will remove one to avoid redundancy. "
   ]
  },
  {
   "cell_type": "code",
   "execution_count": 14,
   "metadata": {},
   "outputs": [],
   "source": [
    "df.drop(columns = ['MEN_FIRM','MINOR_FIRM','VET_FIRM'],inplace=True)"
   ]
  },
  {
   "cell_type": "markdown",
   "metadata": {},
   "source": [
    "## Categorical Variables\n",
    "\n",
    "Looking at our data, the only categorical variable we have is political affiliation. Below, we turn the strings into numerical classifiers."
   ]
  },
  {
   "cell_type": "code",
   "execution_count": 15,
   "metadata": {},
   "outputs": [],
   "source": [
    "# 0 = conservative, 1 = liberal\n",
    "df['PA']=df['PA'].apply(lambda x: 0 if x == 'conservative' else 1)"
   ]
  },
  {
   "cell_type": "markdown",
   "metadata": {},
   "source": [
    "## Outliers\n",
    "\n",
    "Lastly, we'll want to check for any outliers in our data. All of our features are continuous. We'd like to look at these in detail.\n",
    "\n",
    "We do notice that all of our columns which represent percentages are currently represented by whole numbers. We fix this by dividing them by 100."
   ]
  },
  {
   "cell_type": "code",
   "execution_count": 16,
   "metadata": {},
   "outputs": [],
   "source": [
    "non_continuous = ['CITY','STATE','PA']\n",
    "continuous = [x for x in list(df.columns) if x not in non_continuous]"
   ]
  },
  {
   "cell_type": "code",
   "execution_count": 17,
   "metadata": {},
   "outputs": [],
   "source": [
    "percentages = ['UNDER_5','UNDER_18','65_OR_OVER','FEMALE','WHITE','BLACK','AMERICAN_INDIAN','ASIAN','PACIFIC_ISLANDER','MULTI_RACE','HISPANIC','FOREIGN','HOUSES','YEAR_IN_HOUSE','OTHER_HOME_LANG','COMPUTER','INTERNET','HIGH_SCHOOL','BACH_DEGREE','DISABILITY_UNDER_65','NO_INSURANCE','LABOR','FEM_LABOR','POVERTY']\n",
    "for column in percentages:\n",
    "    df[column]=df[column]/100"
   ]
  },
  {
   "cell_type": "code",
   "execution_count": 18,
   "metadata": {},
   "outputs": [
    {
     "name": "stdout",
     "output_type": "stream",
     "text": [
      "count    3.506000e+03\n",
      "mean     4.738519e+04\n",
      "std      1.920665e+05\n",
      "min      5.018000e+03\n",
      "25%      9.289500e+03\n",
      "50%      1.746850e+04\n",
      "75%      3.993750e+04\n",
      "max      8.398748e+06\n",
      "Name: POP, dtype: float64\n",
      "\n",
      "\n",
      "count    3506.000000\n",
      "mean        0.064601\n",
      "std         0.016704\n",
      "min         0.003000\n",
      "25%         0.054000\n",
      "50%         0.064000\n",
      "75%         0.075000\n",
      "max         0.154000\n",
      "Name: UNDER_5, dtype: float64\n",
      "\n",
      "\n",
      "count    3506.000000\n",
      "mean        0.235140\n",
      "std         0.048324\n",
      "min         0.039000\n",
      "25%         0.207000\n",
      "50%         0.235000\n",
      "75%         0.263000\n",
      "max         0.472000\n",
      "Name: UNDER_18, dtype: float64\n",
      "\n",
      "\n",
      "count    3506.000000\n",
      "mean        0.154826\n",
      "std         0.052391\n",
      "min         0.021000\n",
      "25%         0.121000\n",
      "50%         0.152000\n",
      "75%         0.181000\n",
      "max         0.619000\n",
      "Name: 65_OR_OVER, dtype: float64\n",
      "\n",
      "\n",
      "count    3506.000000\n",
      "mean        0.512208\n",
      "std         0.028410\n",
      "min         0.233000\n",
      "25%         0.502000\n",
      "50%         0.514000\n",
      "75%         0.526000\n",
      "max         0.729000\n",
      "Name: FEMALE, dtype: float64\n",
      "\n",
      "\n",
      "count    3506.000000\n",
      "mean        0.760746\n",
      "std         0.189405\n",
      "min         0.011000\n",
      "25%         0.668250\n",
      "50%         0.821000\n",
      "75%         0.906000\n",
      "max         0.995000\n",
      "Name: WHITE, dtype: float64\n",
      "\n",
      "\n",
      "count    3506.000000\n",
      "mean        0.119325\n",
      "std         0.168454\n",
      "min         0.000000\n",
      "25%         0.015000\n",
      "50%         0.046000\n",
      "75%         0.147000\n",
      "max         0.974000\n",
      "Name: BLACK, dtype: float64\n",
      "\n",
      "\n",
      "count    3506.000000\n",
      "mean        0.008661\n",
      "std         0.026867\n",
      "min         0.000000\n",
      "25%         0.001000\n",
      "50%         0.003000\n",
      "75%         0.007000\n",
      "max         0.620000\n",
      "Name: AMERICAN_INDIAN, dtype: float64\n",
      "\n",
      "\n",
      "count    3506.000000\n",
      "mean        0.037561\n",
      "std         0.066415\n",
      "min         0.000000\n",
      "25%         0.007000\n",
      "50%         0.017000\n",
      "75%         0.039000\n",
      "max         0.678000\n",
      "Name: ASIAN, dtype: float64\n",
      "\n",
      "\n",
      "count    3506.000000\n",
      "mean        0.001436\n",
      "std         0.004206\n",
      "min         0.000000\n",
      "25%         0.000000\n",
      "50%         0.000000\n",
      "75%         0.001000\n",
      "max         0.106000\n",
      "Name: PACIFIC_ISLANDER, dtype: float64\n",
      "\n",
      "\n",
      "count    3506.000000\n",
      "mean        0.032601\n",
      "std         0.020840\n",
      "min         0.000000\n",
      "25%         0.018000\n",
      "50%         0.029000\n",
      "75%         0.042000\n",
      "max         0.310000\n",
      "Name: MULTI_RACE, dtype: float64\n",
      "\n",
      "\n",
      "count    3506.000000\n",
      "mean        0.162732\n",
      "std         0.198453\n",
      "min         0.000000\n",
      "25%         0.035000\n",
      "50%         0.079000\n",
      "75%         0.206750\n",
      "max         0.999000\n",
      "Name: HISPANIC, dtype: float64\n",
      "\n",
      "\n",
      "count      3506.000000\n",
      "mean       2344.337707\n",
      "std        5998.709576\n",
      "min          30.000000\n",
      "25%         545.000000\n",
      "50%         973.500000\n",
      "75%        2139.750000\n",
      "max      156514.000000\n",
      "Name: VETERAN, dtype: float64\n",
      "\n",
      "\n",
      "count    3506.000000\n",
      "mean        0.102772\n",
      "std         0.105281\n",
      "min         0.001000\n",
      "25%         0.030000\n",
      "50%         0.065000\n",
      "75%         0.136000\n",
      "max         0.743000\n",
      "Name: FOREIGN, dtype: float64\n",
      "\n",
      "\n",
      "count    3506.000000\n",
      "mean        0.604122\n",
      "std         0.129875\n",
      "min         0.127000\n",
      "25%         0.521000\n",
      "50%         0.599000\n",
      "75%         0.685000\n",
      "max         0.976000\n",
      "Name: HOUSES, dtype: float64\n",
      "\n",
      "\n",
      "count    3.506000e+03\n",
      "mean     2.148159e+05\n",
      "std      1.871020e+05\n",
      "min      1.770000e+04\n",
      "25%      1.104000e+05\n",
      "50%      1.567500e+05\n",
      "75%      2.434250e+05\n",
      "max      1.947900e+06\n",
      "Name: HOUSE_VAL, dtype: float64\n",
      "\n",
      "\n",
      "count    3506.000000\n",
      "mean      975.498859\n",
      "std       356.358280\n",
      "min       428.000000\n",
      "25%       724.250000\n",
      "50%       877.000000\n",
      "75%      1123.750000\n",
      "max      3493.000000\n",
      "Name: RENT, dtype: float64\n",
      "\n",
      "\n",
      "count    3.506000e+03\n",
      "mean     1.733850e+04\n",
      "std      7.103344e+04\n",
      "min      1.287000e+03\n",
      "25%      3.562000e+03\n",
      "50%      6.495000e+03\n",
      "75%      1.445425e+04\n",
      "max      3.154103e+06\n",
      "Name: HOUSEHOLDS, dtype: float64\n",
      "\n",
      "\n",
      "count    3506.000000\n",
      "mean        2.599954\n",
      "std         0.397690\n",
      "min         1.470000\n",
      "25%         2.330000\n",
      "50%         2.520000\n",
      "75%         2.770000\n",
      "max         4.610000\n",
      "Name: PPH, dtype: float64\n",
      "\n",
      "\n",
      "count    3506.000000\n",
      "mean        0.833971\n",
      "std         0.059938\n",
      "min         0.416000\n",
      "25%         0.805000\n",
      "50%         0.841000\n",
      "75%         0.874000\n",
      "max         0.959000\n",
      "Name: YEAR_IN_HOUSE, dtype: float64\n",
      "\n",
      "\n",
      "count    3506.000000\n",
      "mean        0.175106\n",
      "std         0.182042\n",
      "min         0.001000\n",
      "25%         0.050000\n",
      "50%         0.105000\n",
      "75%         0.231000\n",
      "max         0.982000\n",
      "Name: OTHER_HOME_LANG, dtype: float64\n",
      "\n",
      "\n",
      "count    3506.000000\n",
      "mean        0.875236\n",
      "std         0.067069\n",
      "min         0.493000\n",
      "25%         0.835000\n",
      "50%         0.882500\n",
      "75%         0.927000\n",
      "max         1.000000\n",
      "Name: COMPUTER, dtype: float64\n",
      "\n",
      "\n",
      "count    3506.000000\n",
      "mean        0.788207\n",
      "std         0.094903\n",
      "min         0.388000\n",
      "25%         0.731000\n",
      "50%         0.794000\n",
      "75%         0.861000\n",
      "max         0.984000\n",
      "Name: INTERNET, dtype: float64\n",
      "\n",
      "\n",
      "count    3506.000000\n",
      "mean        0.871994\n",
      "std         0.084757\n",
      "min         0.260000\n",
      "25%         0.834000\n",
      "50%         0.889000\n",
      "75%         0.932000\n",
      "max         0.999000\n",
      "Name: HIGH_SCHOOL, dtype: float64\n",
      "\n",
      "\n",
      "count    3506.000000\n",
      "mean        0.282681\n",
      "std         0.152311\n",
      "min         0.005000\n",
      "25%         0.171000\n",
      "50%         0.242000\n",
      "75%         0.357000\n",
      "max         0.873000\n",
      "Name: BACH_DEGREE, dtype: float64\n",
      "\n",
      "\n",
      "count    3506.000000\n",
      "mean        0.096511\n",
      "std         0.039580\n",
      "min         0.012000\n",
      "25%         0.067000\n",
      "50%         0.092000\n",
      "75%         0.121000\n",
      "max         0.296000\n",
      "Name: DISABILITY_UNDER_65, dtype: float64\n",
      "\n",
      "\n",
      "count    3506.000000\n",
      "mean        0.108106\n",
      "std         0.062065\n",
      "min         0.006000\n",
      "25%         0.063000\n",
      "50%         0.095000\n",
      "75%         0.141000\n",
      "max         0.446000\n",
      "Name: NO_INSURANCE, dtype: float64\n",
      "\n",
      "\n",
      "count    3506.000000\n",
      "mean        0.620517\n",
      "std         0.077969\n",
      "min         0.221000\n",
      "25%         0.577000\n",
      "50%         0.629000\n",
      "75%         0.674000\n",
      "max         0.839000\n",
      "Name: LABOR, dtype: float64\n",
      "\n",
      "\n",
      "count    3506.000000\n",
      "mean        0.574530\n",
      "std         0.070883\n",
      "min         0.198000\n",
      "25%         0.531000\n",
      "50%         0.577000\n",
      "75%         0.622000\n",
      "max         0.811000\n",
      "Name: FEM_LABOR, dtype: float64\n",
      "\n",
      "\n",
      "count    3506.000000\n",
      "mean       22.958956\n",
      "std         5.809885\n",
      "min         8.400000\n",
      "25%        18.800000\n",
      "50%        22.400000\n",
      "75%        26.500000\n",
      "max        45.800000\n",
      "Name: TRAVEL_TIME, dtype: float64\n",
      "\n",
      "\n",
      "count      3506.000000\n",
      "mean      57909.347690\n",
      "std       24453.437223\n",
      "min       17550.000000\n",
      "25%       41414.500000\n",
      "50%       51565.500000\n",
      "75%       67914.750000\n",
      "max      230700.000000\n",
      "Name: HOUSEHOLD_INCOME, dtype: float64\n",
      "\n",
      "\n",
      "count      3506.000000\n",
      "mean      29519.024529\n",
      "std       12208.832322\n",
      "min        9272.000000\n",
      "25%       21932.250000\n",
      "50%       26605.000000\n",
      "75%       33134.750000\n",
      "max      110808.000000\n",
      "Name: INCOME, dtype: float64\n",
      "\n",
      "\n",
      "count    3506.000000\n",
      "mean        0.159575\n",
      "std         0.087153\n",
      "min         0.007000\n",
      "25%         0.090000\n",
      "50%         0.148000\n",
      "75%         0.215000\n",
      "max         0.491000\n",
      "Name: POVERTY, dtype: float64\n",
      "\n",
      "\n",
      "count    3.506000e+03\n",
      "mean     4.384489e+03\n",
      "std      2.232809e+04\n",
      "min      1.900000e+02\n",
      "25%      8.342500e+02\n",
      "50%      1.564500e+03\n",
      "75%      3.507000e+03\n",
      "max      1.050911e+06\n",
      "Name: FIRMS, dtype: float64\n",
      "\n",
      "\n",
      "count      3506.000000\n",
      "mean       1589.464917\n",
      "std        8776.233684\n",
      "min          38.000000\n",
      "25%         266.000000\n",
      "50%         511.000000\n",
      "75%        1213.000000\n",
      "max      413899.000000\n",
      "Name: FEM_FIRM, dtype: float64\n",
      "\n",
      "\n",
      "count      3506.000000\n",
      "mean       2623.952938\n",
      "std       10619.684224\n",
      "min          26.000000\n",
      "25%         596.250000\n",
      "50%        1096.500000\n",
      "75%        2299.750000\n",
      "max      483136.000000\n",
      "Name: NON_MINOR_FIRM, dtype: float64\n",
      "\n",
      "\n",
      "count      3506.000000\n",
      "mean       3756.160582\n",
      "std       20288.712533\n",
      "min         138.000000\n",
      "25%         676.500000\n",
      "50%        1289.000000\n",
      "75%        2929.250000\n",
      "max      966167.000000\n",
      "Name: NON_VET_FIRM, dtype: float64\n",
      "\n",
      "\n",
      "count     3506.000000\n",
      "mean      2475.645465\n",
      "std       2544.881976\n",
      "min         69.400000\n",
      "25%       1125.825000\n",
      "50%       1778.600000\n",
      "75%       2967.925000\n",
      "max      51796.600000\n",
      "Name: POP_AREA, dtype: float64\n",
      "\n",
      "\n",
      "count    3506.000000\n",
      "mean       19.629720\n",
      "std        37.638648\n",
      "min         0.370000\n",
      "25%         5.642500\n",
      "50%        10.020000\n",
      "75%        20.417500\n",
      "max       747.000000\n",
      "Name: AREA, dtype: float64\n",
      "\n",
      "\n"
     ]
    }
   ],
   "source": [
    "for column in continuous:\n",
    "    print(df[column].describe())\n",
    "    print('\\n')"
   ]
  },
  {
   "cell_type": "markdown",
   "metadata": {},
   "source": [
    "The `VETERANS` column has a wide range. To help mitigate this, we'll convert it into a percentage of population."
   ]
  },
  {
   "cell_type": "code",
   "execution_count": 19,
   "metadata": {},
   "outputs": [
    {
     "data": {
      "text/plain": [
       "count    3506.000000\n",
       "mean        0.058898\n",
       "std         0.024236\n",
       "min         0.002139\n",
       "25%         0.043532\n",
       "50%         0.057157\n",
       "75%         0.070079\n",
       "max         0.202709\n",
       "Name: VETERAN, dtype: float64"
      ]
     },
     "execution_count": 19,
     "metadata": {},
     "output_type": "execute_result"
    }
   ],
   "source": [
    "df['VETERAN'] = (df['VETERAN']/df['POP'])\n",
    "percentages.append('VETERAN')\n",
    "df['VETERAN'].describe()"
   ]
  },
  {
   "cell_type": "markdown",
   "metadata": {},
   "source": [
    "We notice we can do the same with our `X_FIRM` columns, since they are a subset of `FIRMS`."
   ]
  },
  {
   "cell_type": "code",
   "execution_count": 20,
   "metadata": {},
   "outputs": [
    {
     "name": "stdout",
     "output_type": "stream",
     "text": [
      "count    3506.000000\n",
      "mean        0.338307\n",
      "std         0.074294\n",
      "min         0.115044\n",
      "25%         0.288387\n",
      "50%         0.334208\n",
      "75%         0.381967\n",
      "max         0.683371\n",
      "Name: FEM_FIRM, dtype: float64\n",
      "\n",
      "\n",
      "count    3506.000000\n",
      "mean        0.710515\n",
      "std         0.204598\n",
      "min         0.015616\n",
      "25%         0.615212\n",
      "50%         0.777795\n",
      "75%         0.860498\n",
      "max         0.990491\n",
      "Name: NON_MINOR_FIRM, dtype: float64\n",
      "\n",
      "\n",
      "count    3506.000000\n",
      "mean        0.829021\n",
      "std         0.057071\n",
      "min         0.511364\n",
      "25%         0.795888\n",
      "50%         0.833281\n",
      "75%         0.868112\n",
      "max         0.972414\n",
      "Name: NON_VET_FIRM, dtype: float64\n",
      "\n",
      "\n"
     ]
    }
   ],
   "source": [
    "firm_columns = [x for x in list(df.columns) if \"_FIRM\" in x]\n",
    "for column in firm_columns:\n",
    "    df[column]= df[column]/df['FIRMS']\n",
    "    percentages.append(column)\n",
    "    print(df[column].describe())\n",
    "    print('\\n')"
   ]
  },
  {
   "cell_type": "markdown",
   "metadata": {},
   "source": [
    "When looking for outliers, we will only check our columns which represent non-percentage values."
   ]
  },
  {
   "cell_type": "code",
   "execution_count": 21,
   "metadata": {},
   "outputs": [
    {
     "name": "stdout",
     "output_type": "stream",
     "text": [
      "With Outliers:\n"
     ]
    },
    {
     "data": {
      "image/png": "[encoded data removed]",
      "text/plain": [
       "<Figure size 432x288 with 1 Axes>"
      ]
     },
     "metadata": {
      "needs_background": "light"
     },
     "output_type": "display_data"
    },
    {
     "data": {
      "image/png": "[encoded data removed]",
      "text/plain": [
       "<Figure size 432x288 with 1 Axes>"
      ]
     },
     "metadata": {
      "needs_background": "light"
     },
     "output_type": "display_data"
    },
    {
     "data": {
      "image/png": "[encoded data removed]",
      "text/plain": [
       "<Figure size 432x288 with 1 Axes>"
      ]
     },
     "metadata": {
      "needs_background": "light"
     },
     "output_type": "display_data"
    },
    {
     "data": {
      "image/png": "[encoded data removed]",
      "text/plain": [
       "<Figure size 432x288 with 1 Axes>"
      ]
     },
     "metadata": {
      "needs_background": "light"
     },
     "output_type": "display_data"
    },
    {
     "data": {
      "image/png": "[encoded data removed]",
      "text/plain": [
       "<Figure size 432x288 with 1 Axes>"
      ]
     },
     "metadata": {
      "needs_background": "light"
     },
     "output_type": "display_data"
    },
    {
     "data": {
      "image/png": "[encoded data removed]",
      "text/plain": [
       "<Figure size 432x288 with 1 Axes>"
      ]
     },
     "metadata": {
      "needs_background": "light"
     },
     "output_type": "display_data"
    },
    {
     "data": {
      "image/png": "[encoded data removed]",
      "text/plain": [
       "<Figure size 432x288 with 1 Axes>"
      ]
     },
     "metadata": {
      "needs_background": "light"
     },
     "output_type": "display_data"
    },
    {
     "data": {
      "image/png": "[encoded data removed]",
      "text/plain": [
       "<Figure size 432x288 with 1 Axes>"
      ]
     },
     "metadata": {
      "needs_background": "light"
     },
     "output_type": "display_data"
    },
    {
     "data": {
      "image/png": "[encoded data removed]",
      "text/plain": [
       "<Figure size 432x288 with 1 Axes>"
      ]
     },
     "metadata": {
      "needs_background": "light"
     },
     "output_type": "display_data"
    },
    {
     "data": {
      "image/png": "[encoded data removed]",
      "text/plain": [
       "<Figure size 432x288 with 1 Axes>"
      ]
     },
     "metadata": {
      "needs_background": "light"
     },
     "output_type": "display_data"
    },
    {
     "data": {
      "image/png": "[encoded data removed]",
      "text/plain": [
       "<Figure size 432x288 with 1 Axes>"
      ]
     },
     "metadata": {
      "needs_background": "light"
     },
     "output_type": "display_data"
    }
   ],
   "source": [
    "print(\"With Outliers:\")\n",
    "columns = [x for x in continuous if x not in percentages]\n",
    "for column in columns:\n",
    "    df.boxplot(column=column)\n",
    "    plt.show()"
   ]
  },
  {
   "cell_type": "code",
   "execution_count": 22,
   "metadata": {},
   "outputs": [],
   "source": [
    "def remove_outliers(continous_columns, dataframe):\n",
    "    \"\"\"Return a dataframe with any values below the lower fence and above the upper fence removed from given columns in the given dataframe.\"\"\"\n",
    "    for column in continous_columns:\n",
    "        # calculate values for lower fence and upper fence\n",
    "        Q1 = dataframe[column].quantile(0.25)\n",
    "        Q3 = dataframe[column].quantile(0.75)\n",
    "        IQR = Q3 - Q1\n",
    "        lower_fence = Q1 - 1.5 * IQR\n",
    "        upper_fence = Q3 + 1.5 * IQR\n",
    "        # remove rows from dataframe which fall out of this range\n",
    "        total = len(dataframe)\n",
    "        num_removing = dataframe.shape[0]\n",
    "        dataframe = dataframe[dataframe[column] > lower_fence]\n",
    "        dataframe = dataframe[dataframe[column] < upper_fence]\n",
    "        num_removing -= dataframe.shape[0]\n",
    "        print(f\"{num_removing} rows will be removed from {column}, {round(num_removing/total,2)*100}% of the total rows.\")\n",
    "    return dataframe"
   ]
  },
  {
   "cell_type": "code",
   "execution_count": 23,
   "metadata": {},
   "outputs": [
    {
     "name": "stdout",
     "output_type": "stream",
     "text": [
      "362 rows will be removed from POP, 10.0% of the total rows.\n",
      "247 rows will be removed from HOUSE_VAL, 8.0% of the total rows.\n",
      "71 rows will be removed from RENT, 2.0% of the total rows.\n",
      "206 rows will be removed from HOUSEHOLDS, 7.000000000000001% of the total rows.\n",
      "145 rows will be removed from PPH, 6.0% of the total rows.\n",
      "23 rows will be removed from TRAVEL_TIME, 1.0% of the total rows.\n",
      "82 rows will be removed from HOUSEHOLD_INCOME, 3.0% of the total rows.\n",
      "77 rows will be removed from INCOME, 3.0% of the total rows.\n",
      "108 rows will be removed from FIRMS, 5.0% of the total rows.\n",
      "128 rows will be removed from POP_AREA, 6.0% of the total rows.\n",
      "146 rows will be removed from AREA, 7.000000000000001% of the total rows.\n"
     ]
    },
    {
     "data": {
      "text/html": [
       "<div>\n",
       "<style scoped>\n",
       "    .dataframe tbody tr th:only-of-type {\n",
       "        vertical-align: middle;\n",
       "    }\n",
       "\n",
       "    .dataframe tbody tr th {\n",
       "        vertical-align: top;\n",
       "    }\n",
       "\n",
       "    .dataframe thead th {\n",
       "        text-align: right;\n",
       "    }\n",
       "</style>\n",
       "<table border=\"1\" class=\"dataframe\">\n",
       "  <thead>\n",
       "    <tr style=\"text-align: right;\">\n",
       "      <th></th>\n",
       "      <th>PA</th>\n",
       "      <th>POP</th>\n",
       "      <th>UNDER_5</th>\n",
       "      <th>UNDER_18</th>\n",
       "      <th>65_OR_OVER</th>\n",
       "      <th>FEMALE</th>\n",
       "      <th>WHITE</th>\n",
       "      <th>BLACK</th>\n",
       "      <th>AMERICAN_INDIAN</th>\n",
       "      <th>ASIAN</th>\n",
       "      <th>...</th>\n",
       "      <th>TRAVEL_TIME</th>\n",
       "      <th>HOUSEHOLD_INCOME</th>\n",
       "      <th>INCOME</th>\n",
       "      <th>POVERTY</th>\n",
       "      <th>FIRMS</th>\n",
       "      <th>FEM_FIRM</th>\n",
       "      <th>NON_MINOR_FIRM</th>\n",
       "      <th>NON_VET_FIRM</th>\n",
       "      <th>POP_AREA</th>\n",
       "      <th>AREA</th>\n",
       "    </tr>\n",
       "  </thead>\n",
       "  <tbody>\n",
       "    <tr>\n",
       "      <td>11</td>\n",
       "      <td>1</td>\n",
       "      <td>36435.0</td>\n",
       "      <td>0.076</td>\n",
       "      <td>0.262</td>\n",
       "      <td>0.116</td>\n",
       "      <td>0.527</td>\n",
       "      <td>0.494</td>\n",
       "      <td>0.437</td>\n",
       "      <td>0.003</td>\n",
       "      <td>0.007</td>\n",
       "      <td>...</td>\n",
       "      <td>22.9</td>\n",
       "      <td>40218.0</td>\n",
       "      <td>22501.0</td>\n",
       "      <td>0.225</td>\n",
       "      <td>3123.0</td>\n",
       "      <td>0.414025</td>\n",
       "      <td>0.534742</td>\n",
       "      <td>0.847262</td>\n",
       "      <td>1182.6</td>\n",
       "      <td>27.75</td>\n",
       "    </tr>\n",
       "    <tr>\n",
       "      <td>14</td>\n",
       "      <td>0</td>\n",
       "      <td>33340.0</td>\n",
       "      <td>0.066</td>\n",
       "      <td>0.263</td>\n",
       "      <td>0.114</td>\n",
       "      <td>0.506</td>\n",
       "      <td>0.735</td>\n",
       "      <td>0.145</td>\n",
       "      <td>0.003</td>\n",
       "      <td>0.013</td>\n",
       "      <td>...</td>\n",
       "      <td>30.9</td>\n",
       "      <td>78071.0</td>\n",
       "      <td>30328.0</td>\n",
       "      <td>0.105</td>\n",
       "      <td>2762.0</td>\n",
       "      <td>0.368573</td>\n",
       "      <td>0.790007</td>\n",
       "      <td>0.793266</td>\n",
       "      <td>1212.0</td>\n",
       "      <td>25.04</td>\n",
       "    </tr>\n",
       "    <tr>\n",
       "      <td>19</td>\n",
       "      <td>1</td>\n",
       "      <td>21531.0</td>\n",
       "      <td>0.069</td>\n",
       "      <td>0.261</td>\n",
       "      <td>0.166</td>\n",
       "      <td>0.530</td>\n",
       "      <td>0.097</td>\n",
       "      <td>0.889</td>\n",
       "      <td>0.005</td>\n",
       "      <td>0.003</td>\n",
       "      <td>...</td>\n",
       "      <td>24.2</td>\n",
       "      <td>26291.0</td>\n",
       "      <td>14856.0</td>\n",
       "      <td>0.352</td>\n",
       "      <td>2086.0</td>\n",
       "      <td>0.587248</td>\n",
       "      <td>0.191275</td>\n",
       "      <td>0.886865</td>\n",
       "      <td>896.0</td>\n",
       "      <td>25.29</td>\n",
       "    </tr>\n",
       "    <tr>\n",
       "      <td>24</td>\n",
       "      <td>1</td>\n",
       "      <td>25799.0</td>\n",
       "      <td>0.088</td>\n",
       "      <td>0.245</td>\n",
       "      <td>0.138</td>\n",
       "      <td>0.527</td>\n",
       "      <td>0.713</td>\n",
       "      <td>0.264</td>\n",
       "      <td>0.001</td>\n",
       "      <td>0.007</td>\n",
       "      <td>...</td>\n",
       "      <td>21.5</td>\n",
       "      <td>58239.0</td>\n",
       "      <td>26906.0</td>\n",
       "      <td>0.158</td>\n",
       "      <td>2479.0</td>\n",
       "      <td>0.337636</td>\n",
       "      <td>0.760791</td>\n",
       "      <td>0.888665</td>\n",
       "      <td>1392.7</td>\n",
       "      <td>16.75</td>\n",
       "    </tr>\n",
       "    <tr>\n",
       "      <td>26</td>\n",
       "      <td>0</td>\n",
       "      <td>21568.0</td>\n",
       "      <td>0.089</td>\n",
       "      <td>0.303</td>\n",
       "      <td>0.137</td>\n",
       "      <td>0.506</td>\n",
       "      <td>0.913</td>\n",
       "      <td>0.034</td>\n",
       "      <td>0.003</td>\n",
       "      <td>0.006</td>\n",
       "      <td>...</td>\n",
       "      <td>19.0</td>\n",
       "      <td>40047.0</td>\n",
       "      <td>20243.0</td>\n",
       "      <td>0.285</td>\n",
       "      <td>2255.0</td>\n",
       "      <td>0.317073</td>\n",
       "      <td>0.827938</td>\n",
       "      <td>0.806652</td>\n",
       "      <td>796.8</td>\n",
       "      <td>26.56</td>\n",
       "    </tr>\n",
       "  </tbody>\n",
       "</table>\n",
       "<p>5 rows × 40 columns</p>\n",
       "</div>"
      ],
      "text/plain": [
       "    PA      POP  UNDER_5  UNDER_18  65_OR_OVER  FEMALE  WHITE  BLACK  \\\n",
       "11   1  36435.0    0.076     0.262       0.116   0.527  0.494  0.437   \n",
       "14   0  33340.0    0.066     0.263       0.114   0.506  0.735  0.145   \n",
       "19   1  21531.0    0.069     0.261       0.166   0.530  0.097  0.889   \n",
       "24   1  25799.0    0.088     0.245       0.138   0.527  0.713  0.264   \n",
       "26   0  21568.0    0.089     0.303       0.137   0.506  0.913  0.034   \n",
       "\n",
       "    AMERICAN_INDIAN  ASIAN  ...  TRAVEL_TIME  HOUSEHOLD_INCOME   INCOME  \\\n",
       "11            0.003  0.007  ...         22.9           40218.0  22501.0   \n",
       "14            0.003  0.013  ...         30.9           78071.0  30328.0   \n",
       "19            0.005  0.003  ...         24.2           26291.0  14856.0   \n",
       "24            0.001  0.007  ...         21.5           58239.0  26906.0   \n",
       "26            0.003  0.006  ...         19.0           40047.0  20243.0   \n",
       "\n",
       "    POVERTY   FIRMS  FEM_FIRM  NON_MINOR_FIRM  NON_VET_FIRM  POP_AREA   AREA  \n",
       "11    0.225  3123.0  0.414025        0.534742      0.847262    1182.6  27.75  \n",
       "14    0.105  2762.0  0.368573        0.790007      0.793266    1212.0  25.04  \n",
       "19    0.352  2086.0  0.587248        0.191275      0.886865     896.0  25.29  \n",
       "24    0.158  2479.0  0.337636        0.760791      0.888665    1392.7  16.75  \n",
       "26    0.285  2255.0  0.317073        0.827938      0.806652     796.8  26.56  \n",
       "\n",
       "[5 rows x 40 columns]"
      ]
     },
     "execution_count": 23,
     "metadata": {},
     "output_type": "execute_result"
    }
   ],
   "source": [
    "remove_outliers(columns, df).head()"
   ]
  },
  {
   "cell_type": "markdown",
   "metadata": {},
   "source": [
    "These boxplots look to be very tailed. We'll log transform these and check again for outliers. We won't remove the original columns until after EDA and Feature Engineering so that we can use the original values to make insights."
   ]
  },
  {
   "cell_type": "code",
   "execution_count": 24,
   "metadata": {},
   "outputs": [],
   "source": [
    "for column in columns:\n",
    "    df[\"LOG_\"+column]=np.log(df[column])\n",
    "\n",
    "logged_columns = [x for x in list(df.columns) if \"LOG_\" in x]"
   ]
  },
  {
   "cell_type": "markdown",
   "metadata": {},
   "source": [
    "Let's see how this changed the distribution of these variables."
   ]
  },
  {
   "cell_type": "code",
   "execution_count": 25,
   "metadata": {},
   "outputs": [
    {
     "data": {
      "image/png": "[encoded data removed]",
      "text/plain": [
       "<Figure size 432x288 with 1 Axes>"
      ]
     },
     "metadata": {
      "needs_background": "light"
     },
     "output_type": "display_data"
    },
    {
     "data": {
      "image/png": "[encoded data removed]",
      "text/plain": [
       "<Figure size 432x288 with 1 Axes>"
      ]
     },
     "metadata": {
      "needs_background": "light"
     },
     "output_type": "display_data"
    },
    {
     "data": {
      "image/png": "[encoded data removed]",
      "text/plain": [
       "<Figure size 432x288 with 1 Axes>"
      ]
     },
     "metadata": {
      "needs_background": "light"
     },
     "output_type": "display_data"
    },
    {
     "data": {
      "image/png": "[encoded data removed]",
      "text/plain": [
       "<Figure size 432x288 with 1 Axes>"
      ]
     },
     "metadata": {
      "needs_background": "light"
     },
     "output_type": "display_data"
    },
    {
     "data": {
      "image/png": "[encoded data removed]",
      "text/plain": [
       "<Figure size 432x288 with 1 Axes>"
      ]
     },
     "metadata": {
      "needs_background": "light"
     },
     "output_type": "display_data"
    },
    {
     "data": {
      "image/png": "[encoded data removed]",
      "text/plain": [
       "<Figure size 432x288 with 1 Axes>"
      ]
     },
     "metadata": {
      "needs_background": "light"
     },
     "output_type": "display_data"
    },
    {
     "data": {
      "image/png": "[encoded data removed]",
      "text/plain": [
       "<Figure size 432x288 with 1 Axes>"
      ]
     },
     "metadata": {
      "needs_background": "light"
     },
     "output_type": "display_data"
    },
    {
     "data": {
      "image/png": "[encoded data removed]",
      "text/plain": [
       "<Figure size 432x288 with 1 Axes>"
      ]
     },
     "metadata": {
      "needs_background": "light"
     },
     "output_type": "display_data"
    },
    {
     "data": {
      "image/png": "[encoded data removed]",
      "text/plain": [
       "<Figure size 432x288 with 1 Axes>"
      ]
     },
     "metadata": {
      "needs_background": "light"
     },
     "output_type": "display_data"
    },
    {
     "data": {
      "image/png": "[encoded data removed]",
      "text/plain": [
       "<Figure size 432x288 with 1 Axes>"
      ]
     },
     "metadata": {
      "needs_background": "light"
     },
     "output_type": "display_data"
    },
    {
     "data": {
      "image/png": "[encoded data removed]",
      "text/plain": [
       "<Figure size 432x288 with 1 Axes>"
      ]
     },
     "metadata": {
      "needs_background": "light"
     },
     "output_type": "display_data"
    }
   ],
   "source": [
    "for column in logged_columns:\n",
    "    df.boxplot(column=column)\n",
    "    plt.show()"
   ]
  },
  {
   "cell_type": "code",
   "execution_count": 26,
   "metadata": {},
   "outputs": [
    {
     "name": "stdout",
     "output_type": "stream",
     "text": [
      "51 rows will be removed from LOG_POP, 1.0% of the total rows.\n",
      "75 rows will be removed from LOG_HOUSE_VAL, 2.0% of the total rows.\n",
      "14 rows will be removed from LOG_RENT, 0.0% of the total rows.\n",
      "14 rows will be removed from LOG_HOUSEHOLDS, 0.0% of the total rows.\n",
      "109 rows will be removed from LOG_PPH, 3.0% of the total rows.\n",
      "37 rows will be removed from LOG_TRAVEL_TIME, 1.0% of the total rows.\n",
      "19 rows will be removed from LOG_HOUSEHOLD_INCOME, 1.0% of the total rows.\n",
      "58 rows will be removed from LOG_INCOME, 2.0% of the total rows.\n",
      "8 rows will be removed from LOG_FIRMS, 0.0% of the total rows.\n",
      "79 rows will be removed from LOG_POP_AREA, 3.0% of the total rows.\n",
      "23 rows will be removed from LOG_AREA, 1.0% of the total rows.\n"
     ]
    },
    {
     "data": {
      "text/html": [
       "<div>\n",
       "<style scoped>\n",
       "    .dataframe tbody tr th:only-of-type {\n",
       "        vertical-align: middle;\n",
       "    }\n",
       "\n",
       "    .dataframe tbody tr th {\n",
       "        vertical-align: top;\n",
       "    }\n",
       "\n",
       "    .dataframe thead th {\n",
       "        text-align: right;\n",
       "    }\n",
       "</style>\n",
       "<table border=\"1\" class=\"dataframe\">\n",
       "  <thead>\n",
       "    <tr style=\"text-align: right;\">\n",
       "      <th></th>\n",
       "      <th>PA</th>\n",
       "      <th>POP</th>\n",
       "      <th>UNDER_5</th>\n",
       "      <th>UNDER_18</th>\n",
       "      <th>65_OR_OVER</th>\n",
       "      <th>FEMALE</th>\n",
       "      <th>WHITE</th>\n",
       "      <th>BLACK</th>\n",
       "      <th>AMERICAN_INDIAN</th>\n",
       "      <th>ASIAN</th>\n",
       "      <th>...</th>\n",
       "      <th>LOG_HOUSE_VAL</th>\n",
       "      <th>LOG_RENT</th>\n",
       "      <th>LOG_HOUSEHOLDS</th>\n",
       "      <th>LOG_PPH</th>\n",
       "      <th>LOG_TRAVEL_TIME</th>\n",
       "      <th>LOG_HOUSEHOLD_INCOME</th>\n",
       "      <th>LOG_INCOME</th>\n",
       "      <th>LOG_FIRMS</th>\n",
       "      <th>LOG_POP_AREA</th>\n",
       "      <th>LOG_AREA</th>\n",
       "    </tr>\n",
       "  </thead>\n",
       "  <tbody>\n",
       "    <tr>\n",
       "      <td>4</td>\n",
       "      <td>1</td>\n",
       "      <td>85108.0</td>\n",
       "      <td>0.069</td>\n",
       "      <td>0.254</td>\n",
       "      <td>0.156</td>\n",
       "      <td>0.528</td>\n",
       "      <td>0.727</td>\n",
       "      <td>0.174</td>\n",
       "      <td>0.002</td>\n",
       "      <td>0.049</td>\n",
       "      <td>...</td>\n",
       "      <td>12.543972</td>\n",
       "      <td>7.003065</td>\n",
       "      <td>10.394672</td>\n",
       "      <td>0.943906</td>\n",
       "      <td>3.173878</td>\n",
       "      <td>11.339072</td>\n",
       "      <td>10.691922</td>\n",
       "      <td>8.984944</td>\n",
       "      <td>7.456223</td>\n",
       "      <td>3.853546</td>\n",
       "    </tr>\n",
       "    <tr>\n",
       "      <td>5</td>\n",
       "      <td>0</td>\n",
       "      <td>68247.0</td>\n",
       "      <td>0.065</td>\n",
       "      <td>0.236</td>\n",
       "      <td>0.172</td>\n",
       "      <td>0.528</td>\n",
       "      <td>0.622</td>\n",
       "      <td>0.340</td>\n",
       "      <td>0.003</td>\n",
       "      <td>0.011</td>\n",
       "      <td>...</td>\n",
       "      <td>11.896826</td>\n",
       "      <td>6.599870</td>\n",
       "      <td>10.165890</td>\n",
       "      <td>0.947789</td>\n",
       "      <td>2.954910</td>\n",
       "      <td>10.729438</td>\n",
       "      <td>10.227309</td>\n",
       "      <td>8.797851</td>\n",
       "      <td>6.596600</td>\n",
       "      <td>4.493121</td>\n",
       "    </tr>\n",
       "    <tr>\n",
       "      <td>6</td>\n",
       "      <td>1</td>\n",
       "      <td>101113.0</td>\n",
       "      <td>0.059</td>\n",
       "      <td>0.188</td>\n",
       "      <td>0.117</td>\n",
       "      <td>0.524</td>\n",
       "      <td>0.511</td>\n",
       "      <td>0.441</td>\n",
       "      <td>0.003</td>\n",
       "      <td>0.024</td>\n",
       "      <td>...</td>\n",
       "      <td>12.066236</td>\n",
       "      <td>6.736967</td>\n",
       "      <td>10.468574</td>\n",
       "      <td>0.932164</td>\n",
       "      <td>2.960105</td>\n",
       "      <td>10.694668</td>\n",
       "      <td>10.141086</td>\n",
       "      <td>8.824972</td>\n",
       "      <td>7.314486</td>\n",
       "      <td>4.098171</td>\n",
       "    </tr>\n",
       "    <tr>\n",
       "      <td>7</td>\n",
       "      <td>1</td>\n",
       "      <td>65738.0</td>\n",
       "      <td>0.051</td>\n",
       "      <td>0.183</td>\n",
       "      <td>0.075</td>\n",
       "      <td>0.506</td>\n",
       "      <td>0.729</td>\n",
       "      <td>0.170</td>\n",
       "      <td>0.001</td>\n",
       "      <td>0.085</td>\n",
       "      <td>...</td>\n",
       "      <td>12.433208</td>\n",
       "      <td>6.766192</td>\n",
       "      <td>10.036706</td>\n",
       "      <td>0.928219</td>\n",
       "      <td>2.975530</td>\n",
       "      <td>10.706699</td>\n",
       "      <td>10.228863</td>\n",
       "      <td>8.446556</td>\n",
       "      <td>6.823613</td>\n",
       "      <td>4.061649</td>\n",
       "    </tr>\n",
       "    <tr>\n",
       "      <td>8</td>\n",
       "      <td>0</td>\n",
       "      <td>50440.0</td>\n",
       "      <td>0.049</td>\n",
       "      <td>0.244</td>\n",
       "      <td>0.107</td>\n",
       "      <td>0.502</td>\n",
       "      <td>0.741</td>\n",
       "      <td>0.150</td>\n",
       "      <td>0.007</td>\n",
       "      <td>0.055</td>\n",
       "      <td>...</td>\n",
       "      <td>12.409013</td>\n",
       "      <td>6.787845</td>\n",
       "      <td>9.830433</td>\n",
       "      <td>0.947789</td>\n",
       "      <td>2.975530</td>\n",
       "      <td>11.402240</td>\n",
       "      <td>10.721040</td>\n",
       "      <td>8.163656</td>\n",
       "      <td>7.279939</td>\n",
       "      <td>3.387436</td>\n",
       "    </tr>\n",
       "  </tbody>\n",
       "</table>\n",
       "<p>5 rows × 51 columns</p>\n",
       "</div>"
      ],
      "text/plain": [
       "   PA       POP  UNDER_5  UNDER_18  65_OR_OVER  FEMALE  WHITE  BLACK  \\\n",
       "4   1   85108.0    0.069     0.254       0.156   0.528  0.727  0.174   \n",
       "5   0   68247.0    0.065     0.236       0.172   0.528  0.622  0.340   \n",
       "6   1  101113.0    0.059     0.188       0.117   0.524  0.511  0.441   \n",
       "7   1   65738.0    0.051     0.183       0.075   0.506  0.729  0.170   \n",
       "8   0   50440.0    0.049     0.244       0.107   0.502  0.741  0.150   \n",
       "\n",
       "   AMERICAN_INDIAN  ASIAN  ...  LOG_HOUSE_VAL  LOG_RENT  LOG_HOUSEHOLDS  \\\n",
       "4            0.002  0.049  ...      12.543972  7.003065       10.394672   \n",
       "5            0.003  0.011  ...      11.896826  6.599870       10.165890   \n",
       "6            0.003  0.024  ...      12.066236  6.736967       10.468574   \n",
       "7            0.001  0.085  ...      12.433208  6.766192       10.036706   \n",
       "8            0.007  0.055  ...      12.409013  6.787845        9.830433   \n",
       "\n",
       "    LOG_PPH  LOG_TRAVEL_TIME  LOG_HOUSEHOLD_INCOME  LOG_INCOME  LOG_FIRMS  \\\n",
       "4  0.943906         3.173878             11.339072   10.691922   8.984944   \n",
       "5  0.947789         2.954910             10.729438   10.227309   8.797851   \n",
       "6  0.932164         2.960105             10.694668   10.141086   8.824972   \n",
       "7  0.928219         2.975530             10.706699   10.228863   8.446556   \n",
       "8  0.947789         2.975530             11.402240   10.721040   8.163656   \n",
       "\n",
       "   LOG_POP_AREA  LOG_AREA  \n",
       "4      7.456223  3.853546  \n",
       "5      6.596600  4.493121  \n",
       "6      7.314486  4.098171  \n",
       "7      6.823613  4.061649  \n",
       "8      7.279939  3.387436  \n",
       "\n",
       "[5 rows x 51 columns]"
      ]
     },
     "execution_count": 26,
     "metadata": {},
     "output_type": "execute_result"
    }
   ],
   "source": [
    "remove_outliers(logged_columns, df).head()"
   ]
  },
  {
   "cell_type": "markdown",
   "metadata": {},
   "source": [
    "That's much better. We remove these outliers below."
   ]
  },
  {
   "cell_type": "code",
   "execution_count": 27,
   "metadata": {},
   "outputs": [
    {
     "data": {
      "text/plain": [
       "3506"
      ]
     },
     "execution_count": 27,
     "metadata": {},
     "output_type": "execute_result"
    }
   ],
   "source": [
    "len(df)"
   ]
  },
  {
   "cell_type": "code",
   "execution_count": 28,
   "metadata": {},
   "outputs": [
    {
     "name": "stdout",
     "output_type": "stream",
     "text": [
      "51 rows will be removed from LOG_POP, 1.0% of the total rows.\n",
      "75 rows will be removed from LOG_HOUSE_VAL, 2.0% of the total rows.\n",
      "14 rows will be removed from LOG_RENT, 0.0% of the total rows.\n",
      "14 rows will be removed from LOG_HOUSEHOLDS, 0.0% of the total rows.\n",
      "109 rows will be removed from LOG_PPH, 3.0% of the total rows.\n",
      "37 rows will be removed from LOG_TRAVEL_TIME, 1.0% of the total rows.\n",
      "19 rows will be removed from LOG_HOUSEHOLD_INCOME, 1.0% of the total rows.\n",
      "58 rows will be removed from LOG_INCOME, 2.0% of the total rows.\n",
      "8 rows will be removed from LOG_FIRMS, 0.0% of the total rows.\n",
      "79 rows will be removed from LOG_POP_AREA, 3.0% of the total rows.\n",
      "23 rows will be removed from LOG_AREA, 1.0% of the total rows.\n"
     ]
    }
   ],
   "source": [
    "df = remove_outliers(logged_columns, df)"
   ]
  },
  {
   "cell_type": "code",
   "execution_count": 29,
   "metadata": {},
   "outputs": [
    {
     "data": {
      "text/plain": [
       "3019"
      ]
     },
     "execution_count": 29,
     "metadata": {},
     "output_type": "execute_result"
    }
   ],
   "source": [
    "len(df)"
   ]
  },
  {
   "cell_type": "code",
   "execution_count": 30,
   "metadata": {},
   "outputs": [
    {
     "name": "stdout",
     "output_type": "stream",
     "text": [
      "Without Outliers:\n"
     ]
    },
    {
     "data": {
      "image/png": "[encoded data removed]",
      "text/plain": [
       "<Figure size 432x288 with 1 Axes>"
      ]
     },
     "metadata": {
      "needs_background": "light"
     },
     "output_type": "display_data"
    },
    {
     "data": {
      "image/png": "[encoded data removed]",
      "text/plain": [
       "<Figure size 432x288 with 1 Axes>"
      ]
     },
     "metadata": {
      "needs_background": "light"
     },
     "output_type": "display_data"
    },
    {
     "data": {
      "image/png": "[encoded data removed]",
      "text/plain": [
       "<Figure size 432x288 with 1 Axes>"
      ]
     },
     "metadata": {
      "needs_background": "light"
     },
     "output_type": "display_data"
    },
    {
     "data": {
      "image/png": "[encoded data removed]",
      "text/plain": [
       "<Figure size 432x288 with 1 Axes>"
      ]
     },
     "metadata": {
      "needs_background": "light"
     },
     "output_type": "display_data"
    },
    {
     "data": {
      "image/png": "[encoded data removed]",
      "text/plain": [
       "<Figure size 432x288 with 1 Axes>"
      ]
     },
     "metadata": {
      "needs_background": "light"
     },
     "output_type": "display_data"
    },
    {
     "data": {
      "image/png": "[encoded data removed]",
      "text/plain": [
       "<Figure size 432x288 with 1 Axes>"
      ]
     },
     "metadata": {
      "needs_background": "light"
     },
     "output_type": "display_data"
    },
    {
     "data": {
      "image/png": "[encoded data removed]",
      "text/plain": [
       "<Figure size 432x288 with 1 Axes>"
      ]
     },
     "metadata": {
      "needs_background": "light"
     },
     "output_type": "display_data"
    },
    {
     "data": {
      "image/png": "[encoded data removed]",
      "text/plain": [
       "<Figure size 432x288 with 1 Axes>"
      ]
     },
     "metadata": {
      "needs_background": "light"
     },
     "output_type": "display_data"
    },
    {
     "data": {
      "image/png": "[encoded data removed]",
      "text/plain": [
       "<Figure size 432x288 with 1 Axes>"
      ]
     },
     "metadata": {
      "needs_background": "light"
     },
     "output_type": "display_data"
    },
    {
     "data": {
      "image/png": "[encoded data removed]",
      "text/plain": [
       "<Figure size 432x288 with 1 Axes>"
      ]
     },
     "metadata": {
      "needs_background": "light"
     },
     "output_type": "display_data"
    },
    {
     "data": {
      "image/png": "[encoded data removed]",
      "text/plain": [
       "<Figure size 432x288 with 1 Axes>"
      ]
     },
     "metadata": {
      "needs_background": "light"
     },
     "output_type": "display_data"
    }
   ],
   "source": [
    "print(\"Without Outliers:\")\n",
    "for column in logged_columns:\n",
    "    df.boxplot(column=column)\n",
    "    plt.show()"
   ]
  },
  {
   "cell_type": "markdown",
   "metadata": {},
   "source": [
    "## Exporting Clean Data\n",
    "\n",
    "Now that we are done cleaning our data, we'll reset the index of our dataframe and export our clean data to a new CSV file."
   ]
  },
  {
   "cell_type": "code",
   "execution_count": 31,
   "metadata": {},
   "outputs": [
    {
     "data": {
      "text/plain": [
       "(3019, 51)"
      ]
     },
     "execution_count": 31,
     "metadata": {},
     "output_type": "execute_result"
    }
   ],
   "source": [
    "df.shape"
   ]
  },
  {
   "cell_type": "markdown",
   "metadata": {},
   "source": [
    "After cleaning, we are left with 39 features and 3,019 data points. Remember we will be removing the 11 original features we just log transformed after making insights from them."
   ]
  },
  {
   "cell_type": "code",
   "execution_count": 32,
   "metadata": {},
   "outputs": [],
   "source": [
    "df.reset_index(drop=True, inplace=True)"
   ]
  },
  {
   "cell_type": "code",
   "execution_count": 33,
   "metadata": {},
   "outputs": [],
   "source": [
    "df.to_csv('clean_city_data.csv')"
   ]
  }
 ],
 "metadata": {
  "kernelspec": {
   "display_name": "Python 3",
   "language": "python",
   "name": "python3"
  },
  "language_info": {
   "codemirror_mode": {
    "name": "ipython",
    "version": 3
   },
   "file_extension": ".py",
   "mimetype": "text/x-python",
   "name": "python",
   "nbconvert_exporter": "python",
   "pygments_lexer": "ipython3",
   "version": "3.7.4"
  }
 },
 "nbformat": 4,
 "nbformat_minor": 2
}
