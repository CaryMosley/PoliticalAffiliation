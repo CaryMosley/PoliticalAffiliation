{
 "cells": [
  {
   "cell_type": "code",
   "execution_count": 1,
   "metadata": {},
   "outputs": [],
   "source": [
    "from bs4 import BeautifulSoup\n",
    "import requests\n",
    "from requests import get\n",
    "import urllib.parse\n",
    "from urllib.error import HTTPError\n",
    "import json\n",
    "import time\n",
    "import pandas as pd\n",
    "import numpy as np"
   ]
  },
  {
   "cell_type": "markdown",
   "metadata": {},
   "source": [
    "Scraping bestplaces.net's political leanings which is based on recent voting in \n",
    "national elections, federal campaign contributions by local residents, and \n",
    "consumer personality profiles."
   ]
  },
  {
   "cell_type": "code",
   "execution_count": 2,
   "metadata": {},
   "outputs": [],
   "source": [
    "top_cities = pd.read_csv('Top5000Population.csv')\n",
    "states = pd.read_csv('data.csv')\n",
    "states['Cities'] = np.empty((len(states), 0)).tolist()\n",
    "top_cities['State']=np.empty((len(top_cities)))"
   ]
  },
  {
   "cell_type": "code",
   "execution_count": 3,
   "metadata": {},
   "outputs": [],
   "source": [
    "for state_index, state_row in states.iterrows():\n",
    "    for city_index, city_row in top_cities.iterrows():\n",
    "        if city_row['Code'] == state_row['Code']:\n",
    "            state_row['Cities'].append(city_row['City'])"
   ]
  },
  {
   "cell_type": "code",
   "execution_count": 4,
   "metadata": {},
   "outputs": [],
   "source": [
    "def collect_affiliation_data(city,state):\n",
    "    url = 'https://www.bestplaces.net/voting/city/'+state+'/'+city\n",
    "    response = get(url)\n",
    "    html_soup = BeautifulSoup(response.text, 'html.parser')\n",
    "    container = html_soup.find_all('div', class_ = 'col-md-12')\n",
    "    output = container[1].find('b').text\n",
    "    bad_chars = ['.', ','] \n",
    "    for i in bad_chars : \n",
    "        output = output.replace(i, '') \n",
    "    try: \n",
    "        return(output.split(' is ')[1].lower())\n",
    "    except:\n",
    "        return('NA')"
   ]
  },
  {
   "cell_type": "code",
   "execution_count": 5,
   "metadata": {},
   "outputs": [],
   "source": [
    "outputlist = []\n",
    "citylist = []\n",
    "statelist = []"
   ]
  },
  {
   "cell_type": "code",
   "execution_count": null,
   "metadata": {},
   "outputs": [
    {
     "name": "stdout",
     "output_type": "stream",
     "text": [
      "Alabama\n",
      "Birmingham \n",
      "Alabama\n",
      "Montgomery \n",
      "Alabama\n",
      "Mobile \n",
      "Alabama\n",
      "Huntsville \n"
     ]
    }
   ],
   "source": [
    "\n",
    "for state_index, state_row in states.iterrows():\n",
    "    state = state_row['State']\n",
    "    for city in state_row['Cities']:\n",
    "        cityname = city.replace(\" \",\"_\")\n",
    "        try:\n",
    "            outputlist.append(collect_affiliation_data(cityname,state))\n",
    "        except:\n",
    "            outputlist.append('NA')\n",
    "        citylist.append(city)\n",
    "        statelist.append(state_row['State'])\n",
    "        print(state)\n",
    "        print(city)\n"
   ]
  },
  {
   "cell_type": "code",
   "execution_count": 29,
   "metadata": {},
   "outputs": [
    {
     "data": {
      "text/plain": [
       "186"
      ]
     },
     "execution_count": 29,
     "metadata": {},
     "output_type": "execute_result"
    }
   ],
   "source": [
    "len(outputlist)"
   ]
  },
  {
   "cell_type": "code",
   "execution_count": 30,
   "metadata": {},
   "outputs": [],
   "source": [
    "outputdf = pd.DataFrame(outputlist)\n",
    "citydf = pd.DataFrame(citylist)\n",
    "statedf = pd.DataFrame(statelist)"
   ]
  },
  {
   "cell_type": "code",
   "execution_count": 31,
   "metadata": {},
   "outputs": [],
   "source": [
    "df_out = pd.concat([outputdf,citydf,statedf],axis=1)"
   ]
  },
  {
   "cell_type": "code",
   "execution_count": 33,
   "metadata": {},
   "outputs": [
    {
     "data": {
      "text/html": [
       "<div>\n",
       "<style scoped>\n",
       "    .dataframe tbody tr th:only-of-type {\n",
       "        vertical-align: middle;\n",
       "    }\n",
       "\n",
       "    .dataframe tbody tr th {\n",
       "        vertical-align: top;\n",
       "    }\n",
       "\n",
       "    .dataframe thead th {\n",
       "        text-align: right;\n",
       "    }\n",
       "</style>\n",
       "<table border=\"1\" class=\"dataframe\">\n",
       "  <thead>\n",
       "    <tr style=\"text-align: right;\">\n",
       "      <th></th>\n",
       "      <th>0</th>\n",
       "      <th>0</th>\n",
       "      <th>0</th>\n",
       "    </tr>\n",
       "  </thead>\n",
       "  <tbody>\n",
       "    <tr>\n",
       "      <td>0</td>\n",
       "      <td>moderately liberal</td>\n",
       "      <td>New York</td>\n",
       "      <td>New York</td>\n",
       "    </tr>\n",
       "    <tr>\n",
       "      <td>1</td>\n",
       "      <td>moderately liberal</td>\n",
       "      <td>Buffalo</td>\n",
       "      <td>New York</td>\n",
       "    </tr>\n",
       "    <tr>\n",
       "      <td>2</td>\n",
       "      <td>moderately liberal</td>\n",
       "      <td>Rochester</td>\n",
       "      <td>New York</td>\n",
       "    </tr>\n",
       "    <tr>\n",
       "      <td>3</td>\n",
       "      <td>moderately liberal</td>\n",
       "      <td>Yonkers</td>\n",
       "      <td>New York</td>\n",
       "    </tr>\n",
       "    <tr>\n",
       "      <td>4</td>\n",
       "      <td>somewhat liberal</td>\n",
       "      <td>Syracuse</td>\n",
       "      <td>New York</td>\n",
       "    </tr>\n",
       "  </tbody>\n",
       "</table>\n",
       "</div>"
      ],
      "text/plain": [
       "                    0           0         0\n",
       "0  moderately liberal   New York   New York\n",
       "1  moderately liberal    Buffalo   New York\n",
       "2  moderately liberal  Rochester   New York\n",
       "3  moderately liberal    Yonkers   New York\n",
       "4    somewhat liberal   Syracuse   New York"
      ]
     },
     "execution_count": 33,
     "metadata": {},
     "output_type": "execute_result"
    }
   ],
   "source": [
    "df_out.head()"
   ]
  },
  {
   "cell_type": "code",
   "execution_count": 34,
   "metadata": {},
   "outputs": [],
   "source": [
    "\n",
    "df_out.to_csv('output.csv')"
   ]
  },
  {
   "cell_type": "code",
   "execution_count": null,
   "metadata": {},
   "outputs": [],
   "source": []
  },
  {
   "cell_type": "code",
   "execution_count": null,
   "metadata": {},
   "outputs": [],
   "source": []
  }
 ],
 "metadata": {
  "kernelspec": {
   "display_name": "Python 3",
   "language": "python",
   "name": "python3"
  },
  "language_info": {
   "codemirror_mode": {
    "name": "ipython",
    "version": 3
   },
   "file_extension": ".py",
   "mimetype": "text/x-python",
   "name": "python",
   "nbconvert_exporter": "python",
   "pygments_lexer": "ipython3",
   "version": "3.7.4"
  }
 },
 "nbformat": 4,
 "nbformat_minor": 2
}
