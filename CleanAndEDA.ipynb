{
 "cells": [
  {
   "cell_type": "code",
   "execution_count": 1,
   "metadata": {},
   "outputs": [],
   "source": [
    "import time\n",
    "import pandas as pd\n",
    "import numpy as np\n",
    "import matplotlib.pyplot as plt\n",
    "%matplotlib inline\n",
    "import seaborn as sns"
   ]
  },
  {
   "cell_type": "code",
   "execution_count": 8,
   "metadata": {},
   "outputs": [],
   "source": [
    "df = pd.read_csv('test.csv')"
   ]
  },
  {
   "cell_type": "markdown",
   "metadata": {},
   "source": [
    "Dropping First column, land area ones since they came as blank"
   ]
  },
  {
   "cell_type": "code",
   "execution_count": 11,
   "metadata": {},
   "outputs": [],
   "source": [
    "df.drop(columns = ['Unnamed: 0','population per square mile','land area in square miles'],inplace=True)"
   ]
  },
  {
   "cell_type": "code",
   "execution_count": 12,
   "metadata": {},
   "outputs": [
    {
     "data": {
      "text/html": [
       "<div>\n",
       "<style scoped>\n",
       "    .dataframe tbody tr th:only-of-type {\n",
       "        vertical-align: middle;\n",
       "    }\n",
       "\n",
       "    .dataframe tbody tr th {\n",
       "        vertical-align: top;\n",
       "    }\n",
       "\n",
       "    .dataframe thead th {\n",
       "        text-align: right;\n",
       "    }\n",
       "</style>\n",
       "<table border=\"1\" class=\"dataframe\">\n",
       "  <thead>\n",
       "    <tr style=\"text-align: right;\">\n",
       "      <th></th>\n",
       "      <th>city</th>\n",
       "      <th>state</th>\n",
       "      <th>political affiliation</th>\n",
       "      <th>population</th>\n",
       "      <th>people under age 5</th>\n",
       "      <th>people under age 18</th>\n",
       "      <th>people 65 and older</th>\n",
       "      <th>female</th>\n",
       "      <th>white</th>\n",
       "      <th>black</th>\n",
       "      <th>...</th>\n",
       "      <th>avg household income</th>\n",
       "      <th>per capita income in last 12 months</th>\n",
       "      <th>people in poverty</th>\n",
       "      <th>businesses</th>\n",
       "      <th>men owned businesses</th>\n",
       "      <th>female owned businesses</th>\n",
       "      <th>minority owned businesses</th>\n",
       "      <th>nonminority owned businesses</th>\n",
       "      <th>veteran owned businesses</th>\n",
       "      <th>nonveteran owned businesses</th>\n",
       "    </tr>\n",
       "  </thead>\n",
       "  <tbody>\n",
       "    <tr>\n",
       "      <td>0</td>\n",
       "      <td>Birmingham</td>\n",
       "      <td>Alabama</td>\n",
       "      <td>liberal</td>\n",
       "      <td>209880</td>\n",
       "      <td>6.5</td>\n",
       "      <td>20.3</td>\n",
       "      <td>14.2</td>\n",
       "      <td>53.1</td>\n",
       "      <td>25.3</td>\n",
       "      <td>70.5</td>\n",
       "      <td>...</td>\n",
       "      <td>35346</td>\n",
       "      <td>22993</td>\n",
       "      <td>27.2</td>\n",
       "      <td>20738</td>\n",
       "      <td>10318</td>\n",
       "      <td>8286</td>\n",
       "      <td>10605</td>\n",
       "      <td>8770</td>\n",
       "      <td>2082</td>\n",
       "      <td>17113</td>\n",
       "    </tr>\n",
       "    <tr>\n",
       "      <td>1</td>\n",
       "      <td>Montgomery</td>\n",
       "      <td>Alabama</td>\n",
       "      <td>liberal</td>\n",
       "      <td>198218</td>\n",
       "      <td>6.8</td>\n",
       "      <td>24.0</td>\n",
       "      <td>13.7</td>\n",
       "      <td>53.0</td>\n",
       "      <td>33.3</td>\n",
       "      <td>60.6</td>\n",
       "      <td>...</td>\n",
       "      <td>45921</td>\n",
       "      <td>27172</td>\n",
       "      <td>21.9</td>\n",
       "      <td>18043</td>\n",
       "      <td>8879</td>\n",
       "      <td>7459</td>\n",
       "      <td>8793</td>\n",
       "      <td>8363</td>\n",
       "      <td>2352</td>\n",
       "      <td>14434</td>\n",
       "    </tr>\n",
       "    <tr>\n",
       "      <td>2</td>\n",
       "      <td>Mobile</td>\n",
       "      <td>Alabama</td>\n",
       "      <td>liberal</td>\n",
       "      <td>189572</td>\n",
       "      <td>6.3</td>\n",
       "      <td>21.7</td>\n",
       "      <td>16.0</td>\n",
       "      <td>52.6</td>\n",
       "      <td>44.8</td>\n",
       "      <td>50.6</td>\n",
       "      <td>...</td>\n",
       "      <td>40588</td>\n",
       "      <td>26023</td>\n",
       "      <td>22.0</td>\n",
       "      <td>20118</td>\n",
       "      <td>9703</td>\n",
       "      <td>8644</td>\n",
       "      <td>8808</td>\n",
       "      <td>10250</td>\n",
       "      <td>2275</td>\n",
       "      <td>16639</td>\n",
       "    </tr>\n",
       "    <tr>\n",
       "      <td>3</td>\n",
       "      <td>Huntsville</td>\n",
       "      <td>Alabama</td>\n",
       "      <td>liberal</td>\n",
       "      <td>197318</td>\n",
       "      <td>6.4</td>\n",
       "      <td>21.1</td>\n",
       "      <td>15.7</td>\n",
       "      <td>51.9</td>\n",
       "      <td>61.6</td>\n",
       "      <td>30.6</td>\n",
       "      <td>...</td>\n",
       "      <td>53840</td>\n",
       "      <td>34589</td>\n",
       "      <td>17.7</td>\n",
       "      <td>16838</td>\n",
       "      <td>8211</td>\n",
       "      <td>6565</td>\n",
       "      <td>4380</td>\n",
       "      <td>11515</td>\n",
       "      <td>1816</td>\n",
       "      <td>13915</td>\n",
       "    </tr>\n",
       "    <tr>\n",
       "      <td>4</td>\n",
       "      <td>Tuscaloosa</td>\n",
       "      <td>Alabama</td>\n",
       "      <td>liberal</td>\n",
       "      <td>101113</td>\n",
       "      <td>5.9</td>\n",
       "      <td>18.8</td>\n",
       "      <td>11.7</td>\n",
       "      <td>52.4</td>\n",
       "      <td>51.1</td>\n",
       "      <td>44.1</td>\n",
       "      <td>...</td>\n",
       "      <td>44120</td>\n",
       "      <td>25364</td>\n",
       "      <td>24.2</td>\n",
       "      <td>6802</td>\n",
       "      <td>3374</td>\n",
       "      <td>2530</td>\n",
       "      <td>1953</td>\n",
       "      <td>4375</td>\n",
       "      <td>670</td>\n",
       "      <td>5438</td>\n",
       "    </tr>\n",
       "  </tbody>\n",
       "</table>\n",
       "<p>5 rows × 45 columns</p>\n",
       "</div>"
      ],
      "text/plain": [
       "          city    state political affiliation  population  people under age 5  \\\n",
       "0  Birmingham   Alabama               liberal      209880                 6.5   \n",
       "1  Montgomery   Alabama               liberal      198218                 6.8   \n",
       "2      Mobile   Alabama               liberal      189572                 6.3   \n",
       "3  Huntsville   Alabama               liberal      197318                 6.4   \n",
       "4  Tuscaloosa   Alabama               liberal      101113                 5.9   \n",
       "\n",
       "   people under age 18  people 65 and older  female  white  black  ...  \\\n",
       "0                 20.3                 14.2    53.1   25.3   70.5  ...   \n",
       "1                 24.0                 13.7    53.0   33.3   60.6  ...   \n",
       "2                 21.7                 16.0    52.6   44.8   50.6  ...   \n",
       "3                 21.1                 15.7    51.9   61.6   30.6  ...   \n",
       "4                 18.8                 11.7    52.4   51.1   44.1  ...   \n",
       "\n",
       "   avg household income  per capita income in last 12 months  \\\n",
       "0                 35346                                22993   \n",
       "1                 45921                                27172   \n",
       "2                 40588                                26023   \n",
       "3                 53840                                34589   \n",
       "4                 44120                                25364   \n",
       "\n",
       "   people in poverty  businesses  men owned businesses  \\\n",
       "0               27.2       20738                 10318   \n",
       "1               21.9       18043                  8879   \n",
       "2               22.0       20118                  9703   \n",
       "3               17.7       16838                  8211   \n",
       "4               24.2        6802                  3374   \n",
       "\n",
       "   female owned businesses  minority owned businesses  \\\n",
       "0                     8286                      10605   \n",
       "1                     7459                       8793   \n",
       "2                     8644                       8808   \n",
       "3                     6565                       4380   \n",
       "4                     2530                       1953   \n",
       "\n",
       "   nonminority owned businesses  veteran owned businesses  \\\n",
       "0                          8770                      2082   \n",
       "1                          8363                      2352   \n",
       "2                         10250                      2275   \n",
       "3                         11515                      1816   \n",
       "4                          4375                       670   \n",
       "\n",
       "   nonveteran owned businesses  \n",
       "0                        17113  \n",
       "1                        14434  \n",
       "2                        16639  \n",
       "3                        13915  \n",
       "4                         5438  \n",
       "\n",
       "[5 rows x 45 columns]"
      ]
     },
     "execution_count": 12,
     "metadata": {},
     "output_type": "execute_result"
    }
   ],
   "source": [
    "df.head()"
   ]
  },
  {
   "cell_type": "code",
   "execution_count": 13,
   "metadata": {},
   "outputs": [
    {
     "data": {
      "text/plain": [
       "(10, 45)"
      ]
     },
     "execution_count": 13,
     "metadata": {},
     "output_type": "execute_result"
    }
   ],
   "source": [
    "df.shape"
   ]
  },
  {
   "cell_type": "code",
   "execution_count": 16,
   "metadata": {},
   "outputs": [
    {
     "data": {
      "text/plain": [
       "Index(['city', 'state', 'political affiliation', 'population',\n",
       "       'people under age 5', 'people under age 18', 'people 65 and older',\n",
       "       'female', 'white', 'black', 'american indian or alaska native', 'asian',\n",
       "       'native hawaiian and other pacific islander', '2+ races', 'hispanic',\n",
       "       'veteran', 'foreign born', 'owner occupied houses',\n",
       "       'avg value of owner occupied houses', 'avg rent', 'households',\n",
       "       'people per household', 'living in same house for over a year',\n",
       "       'language other than english spoken at home',\n",
       "       'households with computer', 'households with internet',\n",
       "       'high school graduate or higher, 25+',\n",
       "       'bachelor's degree or higher, 25+', 'with disability, under 65',\n",
       "       'without health insurance, under 65', 'total labor force, 16+',\n",
       "       'female labor force, 16+',\n",
       "       'healthcare and social assistance revenue ($1,000)',\n",
       "       'manufacturers shipments ($1,000)',\n",
       "       'avg travel time to work (min), 16+', 'avg household income',\n",
       "       'per capita income in last 12 months', 'people in poverty',\n",
       "       'businesses', 'men owned businesses', 'female owned businesses',\n",
       "       'minority owned businesses', 'nonminority owned businesses',\n",
       "       'veteran owned businesses', 'nonveteran owned businesses'],\n",
       "      dtype='object')"
      ]
     },
     "execution_count": 16,
     "metadata": {},
     "output_type": "execute_result"
    }
   ],
   "source": [
    "df.columns"
   ]
  },
  {
   "cell_type": "markdown",
   "metadata": {},
   "source": [
    "We dont need city or state anymore as they are just identifiers and potentially overpower local politics too much"
   ]
  },
  {
   "cell_type": "code",
   "execution_count": 17,
   "metadata": {},
   "outputs": [],
   "source": [
    "df.drop(columns = ['city','state'],inplace=True)\n",
    "\n",
    "\n",
    "\n"
   ]
  },
  {
   "cell_type": "markdown",
   "metadata": {},
   "source": [
    "Checking for class imbalance"
   ]
  },
  {
   "cell_type": "code",
   "execution_count": 18,
   "metadata": {},
   "outputs": [
    {
     "data": {
      "text/plain": [
       "liberal         7\n",
       "conservative    3\n",
       "Name: political affiliation, dtype: int64"
      ]
     },
     "execution_count": 18,
     "metadata": {},
     "output_type": "execute_result"
    }
   ],
   "source": [
    "df['political affiliation'].value_counts()"
   ]
  },
  {
   "cell_type": "markdown",
   "metadata": {},
   "source": [
    "Checking for null values"
   ]
  },
  {
   "cell_type": "code",
   "execution_count": 19,
   "metadata": {},
   "outputs": [
    {
     "data": {
      "text/plain": [
       "political affiliation                                0\n",
       "population                                           0\n",
       "people under age 5                                   0\n",
       "people under age 18                                  0\n",
       "people 65 and older                                  0\n",
       "female                                               0\n",
       "white                                                0\n",
       "black                                                0\n",
       "american indian or alaska native                     0\n",
       "asian                                                0\n",
       "native hawaiian and other pacific islander           0\n",
       "2+ races                                             0\n",
       "hispanic                                             0\n",
       "veteran                                              0\n",
       "foreign born                                         0\n",
       "owner occupied houses                                0\n",
       "avg value of owner occupied houses                   0\n",
       "avg rent                                             0\n",
       "households                                           0\n",
       "people per household                                 0\n",
       "living in same house for over a year                 0\n",
       "language other than english spoken at home           0\n",
       "households with computer                             0\n",
       "households with internet                             0\n",
       "high school graduate or higher, 25+                  0\n",
       "bachelor's degree or higher, 25+                     0\n",
       "with disability, under 65                            0\n",
       "without health insurance, under 65                   0\n",
       "total labor force, 16+                               0\n",
       "female labor force, 16+                              0\n",
       "healthcare and social assistance revenue ($1,000)    0\n",
       "manufacturers shipments ($1,000)                     0\n",
       "avg travel time to work (min), 16+                   0\n",
       "avg household income                                 0\n",
       "per capita income in last 12 months                  0\n",
       "people in poverty                                    0\n",
       "businesses                                           0\n",
       "men owned businesses                                 0\n",
       "female owned businesses                              0\n",
       "minority owned businesses                            0\n",
       "nonminority owned businesses                         0\n",
       "veteran owned businesses                             0\n",
       "nonveteran owned businesses                          0\n",
       "dtype: int64"
      ]
     },
     "execution_count": 19,
     "metadata": {},
     "output_type": "execute_result"
    }
   ],
   "source": [
    "df.isnull().sum()"
   ]
  },
  {
   "cell_type": "code",
   "execution_count": 39,
   "metadata": {},
   "outputs": [],
   "source": []
  },
  {
   "cell_type": "code",
   "execution_count": null,
   "metadata": {},
   "outputs": [],
   "source": []
  },
  {
   "cell_type": "code",
   "execution_count": 40,
   "metadata": {},
   "outputs": [
    {
     "data": {
      "text/plain": [
       "(4884, 3)"
      ]
     },
     "execution_count": 40,
     "metadata": {},
     "output_type": "execute_result"
    }
   ],
   "source": [
    "df.head()\n"
   ]
  },
  {
   "cell_type": "markdown",
   "metadata": {},
   "source": [
    "Currently all of our data types are continuous, many of these we will\n",
    "later bucket and categorize but first we'll take a look at the distributions\n"
   ]
  },
  {
   "cell_type": "code",
   "execution_count": 36,
   "metadata": {},
   "outputs": [
    {
     "name": "stdout",
     "output_type": "stream",
     "text": [
      "<class 'pandas.core.frame.DataFrame'>\n",
      "RangeIndex: 10 entries, 0 to 9\n",
      "Data columns (total 43 columns):\n",
      "political affiliation                                10 non-null object\n",
      "population                                           10 non-null int64\n",
      "people under age 5                                   10 non-null float64\n",
      "people under age 18                                  10 non-null float64\n",
      "people 65 and older                                  10 non-null float64\n",
      "female                                               10 non-null float64\n",
      "white                                                10 non-null float64\n",
      "black                                                10 non-null float64\n",
      "american indian or alaska native                     10 non-null float64\n",
      "asian                                                10 non-null float64\n",
      "native hawaiian and other pacific islander           10 non-null float64\n",
      "2+ races                                             10 non-null float64\n",
      "hispanic                                             10 non-null float64\n",
      "veteran                                              10 non-null int64\n",
      "foreign born                                         10 non-null float64\n",
      "owner occupied houses                                10 non-null float64\n",
      "avg value of owner occupied houses                   10 non-null int64\n",
      "avg rent                                             10 non-null int64\n",
      "households                                           10 non-null int64\n",
      "people per household                                 10 non-null float64\n",
      "living in same house for over a year                 10 non-null float64\n",
      "language other than english spoken at home           10 non-null float64\n",
      "households with computer                             10 non-null float64\n",
      "households with internet                             10 non-null float64\n",
      "high school graduate or higher, 25+                  10 non-null float64\n",
      "bachelors degree or higher, 25+                      10 non-null float64\n",
      "with disability, under 65                            10 non-null float64\n",
      "without health insurance, under 65                   10 non-null float64\n",
      "total labor force, 16+                               10 non-null float64\n",
      "female labor force, 16+                              10 non-null float64\n",
      "healthcare and social assistance revenue ($1,000)    10 non-null int64\n",
      "manufacturers shipments ($1,000)                     10 non-null int64\n",
      "avg travel time to work (min), 16+                   10 non-null float64\n",
      "avg household income                                 10 non-null int64\n",
      "per capita income in last 12 months                  10 non-null int64\n",
      "people in poverty                                    10 non-null float64\n",
      "businesses                                           10 non-null int64\n",
      "men owned businesses                                 10 non-null int64\n",
      "female owned businesses                              10 non-null int64\n",
      "minority owned businesses                            10 non-null int64\n",
      "nonminority owned businesses                         10 non-null int64\n",
      "veteran owned businesses                             10 non-null int64\n",
      "nonveteran owned businesses                          10 non-null int64\n",
      "dtypes: float64(26), int64(16), object(1)\n",
      "memory usage: 3.5+ KB\n"
     ]
    }
   ],
   "source": [
    "# data types\n",
    "df.info()"
   ]
  },
  {
   "cell_type": "markdown",
   "metadata": {},
   "source": [
    "## Outliers\n",
    "Currently all of our features are continuous. We'll start looking at these in detail"
   ]
  },
  {
   "cell_type": "code",
   "execution_count": 33,
   "metadata": {},
   "outputs": [],
   "source": [
    "df.rename(columns={\"bachelor's degree or higher, 25+\": 'bachelors degree or higher, 25+'},inplace=True)"
   ]
  },
  {
   "cell_type": "code",
   "execution_count": 42,
   "metadata": {},
   "outputs": [
    {
     "name": "stdout",
     "output_type": "stream",
     "text": [
      "count        10.000000\n",
      "mean     121989.800000\n",
      "std       67767.524649\n",
      "min       50440.000000\n",
      "25%       66365.250000\n",
      "50%       93110.500000\n",
      "75%      195381.500000\n",
      "max      209880.000000\n",
      "Name: population, dtype: float64\n",
      "\n",
      "\n",
      "count    10.000000\n",
      "mean      6.160000\n",
      "std       0.671979\n",
      "min       4.900000\n",
      "25%       6.000000\n",
      "50%       6.350000\n",
      "75%       6.500000\n",
      "max       6.900000\n",
      "Name: people under age 5, dtype: float64\n",
      "\n",
      "\n",
      "count    10.000000\n",
      "mean     22.070000\n",
      "std       2.421226\n",
      "min      18.300000\n",
      "25%      20.500000\n",
      "50%      22.400000\n",
      "75%      23.900000\n",
      "max      25.400000\n",
      "Name: people under age 18, dtype: float64\n",
      "\n",
      "\n",
      "count    10.000000\n",
      "mean     14.010000\n",
      "std       3.209171\n",
      "min       7.500000\n",
      "25%      12.200000\n",
      "50%      14.900000\n",
      "75%      15.925000\n",
      "max      17.800000\n",
      "Name: people 65 and older, dtype: float64\n",
      "\n",
      "\n",
      "count    10.00000\n",
      "mean     52.20000\n",
      "std       1.00995\n",
      "min      50.20000\n",
      "25%      52.02500\n",
      "50%      52.60000\n",
      "75%      52.80000\n",
      "max      53.10000\n",
      "Name: female, dtype: float64\n",
      "\n",
      "\n",
      "count    10.000000\n",
      "mean     56.600000\n",
      "std      17.351081\n",
      "min      25.300000\n",
      "25%      46.375000\n",
      "50%      61.900000\n",
      "75%      71.525000\n",
      "max      74.100000\n",
      "Name: white, dtype: float64\n",
      "\n",
      "\n",
      "count    10.00000\n",
      "mean     36.25000\n",
      "std      19.52652\n",
      "min      15.00000\n",
      "25%      18.72500\n",
      "50%      32.30000\n",
      "75%      48.97500\n",
      "max      70.50000\n",
      "Name: black, dtype: float64\n",
      "\n",
      "\n",
      "count    10.000000\n",
      "mean      0.290000\n",
      "std       0.166333\n",
      "min       0.100000\n",
      "25%       0.200000\n",
      "50%       0.250000\n",
      "75%       0.300000\n",
      "max       0.700000\n",
      "Name: american indian or alaska native, dtype: float64\n",
      "\n",
      "\n",
      "count    10.000000\n",
      "mean      3.120000\n",
      "std       2.487212\n",
      "min       0.600000\n",
      "25%       1.275000\n",
      "50%       2.550000\n",
      "75%       4.375000\n",
      "max       8.500000\n",
      "Name: asian, dtype: float64\n",
      "\n",
      "\n",
      "count    10.000000\n",
      "mean      0.020000\n",
      "std       0.042164\n",
      "min       0.000000\n",
      "25%       0.000000\n",
      "50%       0.000000\n",
      "75%       0.000000\n",
      "max       0.100000\n",
      "Name: native hawaiian and other pacific islander, dtype: float64\n",
      "\n",
      "\n",
      "count    10.000000\n",
      "mean      2.050000\n",
      "std       0.827647\n",
      "min       1.100000\n",
      "25%       1.625000\n",
      "50%       1.900000\n",
      "75%       2.375000\n",
      "max       3.800000\n",
      "Name: 2+ races, dtype: float64\n",
      "\n",
      "\n",
      "count    10.000000\n",
      "mean      5.150000\n",
      "std       3.142628\n",
      "min       2.600000\n",
      "25%       3.450000\n",
      "50%       4.000000\n",
      "75%       5.800000\n",
      "max      13.400000\n",
      "Name: hispanic, dtype: float64\n",
      "\n",
      "\n",
      "count       10.000000\n",
      "mean      8180.300000\n",
      "std       5366.425172\n",
      "min       2181.000000\n",
      "25%       4628.000000\n",
      "50%       5115.000000\n",
      "75%      12673.750000\n",
      "max      17224.000000\n",
      "Name: veteran, dtype: float64\n",
      "\n",
      "\n",
      "count    10.000000\n",
      "mean      6.060000\n",
      "std       2.663415\n",
      "min       2.600000\n",
      "25%       3.900000\n",
      "50%       5.800000\n",
      "75%       7.775000\n",
      "max      10.400000\n",
      "Name: foreign born, dtype: float64\n",
      "\n",
      "\n",
      "count    10.000000\n",
      "mean     56.500000\n",
      "std       9.108116\n",
      "min      44.100000\n",
      "25%      48.950000\n",
      "50%      56.400000\n",
      "75%      61.825000\n",
      "max      69.900000\n",
      "Name: owner occupied houses, dtype: float64\n",
      "\n",
      "\n",
      "count        10.000000\n",
      "mean     173670.000000\n",
      "std       64636.437092\n",
      "min       89200.000000\n",
      "25%      124525.000000\n",
      "50%      160350.000000\n",
      "75%      227775.000000\n",
      "max      280400.000000\n",
      "Name: avg value of owner occupied houses, dtype: float64\n",
      "\n",
      "\n",
      "count      10.000000\n",
      "mean      838.200000\n",
      "std       117.146442\n",
      "min       645.000000\n",
      "25%       798.750000\n",
      "50%       839.500000\n",
      "75%       867.750000\n",
      "max      1100.000000\n",
      "Name: avg rent, dtype: float64\n",
      "\n",
      "\n",
      "count       10.000000\n",
      "mean     48717.400000\n",
      "std      29589.348715\n",
      "min      18591.000000\n",
      "25%      23637.750000\n",
      "50%      33938.500000\n",
      "75%      78943.000000\n",
      "max      89880.000000\n",
      "Name: households, dtype: float64\n",
      "\n",
      "\n",
      "count    10.000000\n",
      "mean      2.454000\n",
      "std       0.128944\n",
      "min       2.240000\n",
      "25%       2.385000\n",
      "50%       2.485000\n",
      "75%       2.562500\n",
      "max       2.580000\n",
      "Name: people per household, dtype: float64\n",
      "\n",
      "\n",
      "count    10.000000\n",
      "mean     80.400000\n",
      "std       4.934009\n",
      "min      69.700000\n",
      "25%      78.475000\n",
      "50%      81.050000\n",
      "75%      84.475000\n",
      "max      85.500000\n",
      "Name: living in same house for over a year, dtype: float64\n",
      "\n",
      "\n",
      "count    10.000000\n",
      "mean      8.240000\n",
      "std       3.425785\n",
      "min       4.000000\n",
      "25%       5.450000\n",
      "50%       7.250000\n",
      "75%      11.325000\n",
      "max      12.900000\n",
      "Name: language other than english spoken at home, dtype: float64\n",
      "\n",
      "\n",
      "count    10.000\n",
      "mean     87.660\n",
      "std       5.998\n",
      "min      81.500\n",
      "25%      83.175\n",
      "50%      85.100\n",
      "75%      93.850\n",
      "max      96.100\n",
      "Name: households with computer, dtype: float64\n",
      "\n",
      "\n",
      "count    10.0000\n",
      "mean     78.7800\n",
      "std       8.1955\n",
      "min      68.7000\n",
      "25%      72.3500\n",
      "50%      76.6500\n",
      "75%      85.1750\n",
      "max      91.2000\n",
      "Name: households with internet, dtype: float64\n",
      "\n",
      "\n",
      "count    10.000000\n",
      "mean     89.720000\n",
      "std       4.665428\n",
      "min      83.000000\n",
      "25%      86.425000\n",
      "50%      89.000000\n",
      "75%      93.400000\n",
      "max      96.400000\n",
      "Name: high school graduate or higher, 25+, dtype: float64\n",
      "\n",
      "\n",
      "count    10.000000\n",
      "mean     38.680000\n",
      "std      13.976154\n",
      "min      24.500000\n",
      "25%      26.625000\n",
      "50%      34.100000\n",
      "75%      53.250000\n",
      "max      57.500000\n",
      "Name: bachelors degree or higher, 25+, dtype: float64\n",
      "\n",
      "\n",
      "count    10.000000\n",
      "mean      9.480000\n",
      "std       3.016915\n",
      "min       5.400000\n",
      "25%       6.825000\n",
      "50%       9.600000\n",
      "75%      12.075000\n",
      "max      13.900000\n",
      "Name: with disability, under 65, dtype: float64\n",
      "\n",
      "\n",
      "count    10.000000\n",
      "mean     10.570000\n",
      "std       3.651195\n",
      "min       5.500000\n",
      "25%       7.000000\n",
      "50%      12.150000\n",
      "75%      13.375000\n",
      "max      15.100000\n",
      "Name: without health insurance, under 65, dtype: float64\n",
      "\n",
      "\n",
      "count    10.000000\n",
      "mean     60.560000\n",
      "std       4.764965\n",
      "min      56.000000\n",
      "25%      56.875000\n",
      "50%      59.150000\n",
      "75%      61.875000\n",
      "max      69.300000\n",
      "Name: total labor force, 16+, dtype: float64\n",
      "\n",
      "\n",
      "count    10.000000\n",
      "mean     56.000000\n",
      "std       3.588872\n",
      "min      49.500000\n",
      "25%      53.800000\n",
      "50%      56.300000\n",
      "75%      58.350000\n",
      "max      61.600000\n",
      "Name: female labor force, 16+, dtype: float64\n",
      "\n",
      "\n",
      "count    1.000000e+01\n",
      "mean     1.495702e+06\n",
      "std      1.648970e+06\n",
      "min      1.052600e+05\n",
      "25%      3.167258e+05\n",
      "50%      1.086444e+06\n",
      "75%      2.094581e+06\n",
      "max      5.574098e+06\n",
      "Name: healthcare and social assistance revenue ($1,000), dtype: float64\n",
      "\n",
      "\n",
      "count    1.000000e+01\n",
      "mean     3.298222e+06\n",
      "std      3.023560e+06\n",
      "min      0.000000e+00\n",
      "25%      3.585688e+05\n",
      "50%      3.696384e+06\n",
      "75%      4.569372e+06\n",
      "max      9.125080e+06\n",
      "Name: manufacturers shipments ($1,000), dtype: float64\n",
      "\n",
      "\n",
      "count    10.000000\n",
      "mean     20.400000\n",
      "std       1.677299\n",
      "min      19.100000\n",
      "25%      19.325000\n",
      "50%      19.600000\n",
      "75%      21.275000\n",
      "max      23.900000\n",
      "Name: avg travel time to work (min), 16+, dtype: float64\n",
      "\n",
      "\n",
      "count       10.000000\n",
      "mean     52876.200000\n",
      "std      18496.727836\n",
      "min      35346.000000\n",
      "25%      44253.500000\n",
      "50%      45364.500000\n",
      "75%      51860.250000\n",
      "max      89522.000000\n",
      "Name: avg household income, dtype: float64\n",
      "\n",
      "\n",
      "count       10.000000\n",
      "mean     30741.500000\n",
      "std       7903.374192\n",
      "min      22993.000000\n",
      "25%      26176.500000\n",
      "50%      27410.000000\n",
      "75%      32864.500000\n",
      "max      45299.000000\n",
      "Name: per capita income in last 12 months, dtype: float64\n",
      "\n",
      "\n",
      "count    10.000000\n",
      "mean     19.380000\n",
      "std       7.651405\n",
      "min       6.300000\n",
      "25%      18.050000\n",
      "50%      20.750000\n",
      "75%      23.650000\n",
      "max      29.100000\n",
      "Name: people in poverty, dtype: float64\n",
      "\n",
      "\n",
      "count       10.000000\n",
      "mean     11026.000000\n",
      "std       6995.791052\n",
      "min       3511.000000\n",
      "25%       5366.750000\n",
      "50%       7392.000000\n",
      "75%      17741.750000\n",
      "max      20738.000000\n",
      "Name: businesses, dtype: float64\n",
      "\n",
      "\n",
      "count       10.000000\n",
      "mean      5506.200000\n",
      "std       3358.972455\n",
      "min       1658.000000\n",
      "25%       2857.750000\n",
      "50%       3888.000000\n",
      "75%       8712.000000\n",
      "max      10318.000000\n",
      "Name: men owned businesses, dtype: float64\n",
      "\n",
      "\n",
      "count      10.000000\n",
      "mean     4299.600000\n",
      "std      3038.425586\n",
      "min      1332.000000\n",
      "25%      1936.250000\n",
      "50%      2541.000000\n",
      "75%      7235.500000\n",
      "max      8644.000000\n",
      "Name: female owned businesses, dtype: float64\n",
      "\n",
      "\n",
      "count       10.000000\n",
      "mean      4043.600000\n",
      "std       3864.042161\n",
      "min        743.000000\n",
      "25%       1199.250000\n",
      "50%       1830.000000\n",
      "75%       7689.750000\n",
      "max      10605.000000\n",
      "Name: minority owned businesses, dtype: float64\n",
      "\n",
      "\n",
      "count       10.000000\n",
      "mean      6349.900000\n",
      "std       3153.725679\n",
      "min       2617.000000\n",
      "25%       3721.000000\n",
      "50%       5312.500000\n",
      "75%       8668.250000\n",
      "max      11515.000000\n",
      "Name: nonminority owned businesses, dtype: float64\n",
      "\n",
      "\n",
      "count      10.000000\n",
      "mean     1200.600000\n",
      "std       827.877635\n",
      "min       352.000000\n",
      "25%       530.500000\n",
      "50%       808.000000\n",
      "75%      2015.500000\n",
      "max      2352.000000\n",
      "Name: veteran owned businesses, dtype: float64\n",
      "\n",
      "\n",
      "count       10.000000\n",
      "mean      9038.200000\n",
      "std       5738.583852\n",
      "min       2954.000000\n",
      "25%       4357.250000\n",
      "50%       5994.500000\n",
      "75%      14304.250000\n",
      "max      17113.000000\n",
      "Name: nonveteran owned businesses, dtype: float64\n",
      "\n",
      "\n"
     ]
    }
   ],
   "source": [
    "continuous = ['population',\n",
    "       'people under age 5', 'people under age 18', 'people 65 and older',\n",
    "       'female', 'white', 'black', 'american indian or alaska native', 'asian',\n",
    "       'native hawaiian and other pacific islander', '2+ races', 'hispanic',\n",
    "       'veteran', 'foreign born', 'owner occupied houses',\n",
    "       'avg value of owner occupied houses', 'avg rent', 'households',\n",
    "       'people per household', 'living in same house for over a year',\n",
    "       'language other than english spoken at home',\n",
    "       'households with computer', 'households with internet',\n",
    "       'high school graduate or higher, 25+',\n",
    "       'bachelors degree or higher, 25+', 'with disability, under 65',\n",
    "       'without health insurance, under 65', 'total labor force, 16+',\n",
    "       'female labor force, 16+',\n",
    "       'healthcare and social assistance revenue ($1,000)',\n",
    "       'manufacturers shipments ($1,000)',\n",
    "       'avg travel time to work (min), 16+', 'avg household income',\n",
    "       'per capita income in last 12 months', 'people in poverty',\n",
    "       'businesses', 'men owned businesses', 'female owned businesses',\n",
    "       'minority owned businesses', 'nonminority owned businesses',\n",
    "       'veteran owned businesses', 'nonveteran owned businesses']\n",
    "for column in continuous:\n",
    "    print(df[column].describe())\n",
    "    print('\\n')"
   ]
  },
  {
   "cell_type": "code",
   "execution_count": null,
   "metadata": {},
   "outputs": [
    {
     "name": "stdout",
     "output_type": "stream",
     "text": [
      "With Outliers:\n"
     ]
    },
    {
     "data": {
      "image/png": "[encoded data removed]",
      "text/plain": [
       "<Figure size 432x288 with 1 Axes>"
      ]
     },
     "metadata": {
      "needs_background": "light"
     },
     "output_type": "display_data"
    },
    {
     "data": {
      "image/png": "[encoded data removed]",
      "text/plain": [
       "<Figure size 432x288 with 1 Axes>"
      ]
     },
     "metadata": {
      "needs_background": "light"
     },
     "output_type": "display_data"
    },
    {
     "data": {
      "image/png": "[encoded data removed]",
      "text/plain": [
       "<Figure size 432x288 with 1 Axes>"
      ]
     },
     "metadata": {
      "needs_background": "light"
     },
     "output_type": "display_data"
    },
    {
     "data": {
      "image/png": "[encoded data removed]",
      "text/plain": [
       "<Figure size 432x288 with 1 Axes>"
      ]
     },
     "metadata": {
      "needs_background": "light"
     },
     "output_type": "display_data"
    },
    {
     "data": {
      "image/png": "[encoded data removed]",
      "text/plain": [
       "<Figure size 432x288 with 1 Axes>"
      ]
     },
     "metadata": {
      "needs_background": "light"
     },
     "output_type": "display_data"
    },
    {
     "data": {
      "image/png": "[encoded data removed]",
      "text/plain": [
       "<Figure size 432x288 with 1 Axes>"
      ]
     },
     "metadata": {
      "needs_background": "light"
     },
     "output_type": "display_data"
    },
    {
     "data": {
      "image/png": "[encoded data removed]",
      "text/plain": [
       "<Figure size 432x288 with 1 Axes>"
      ]
     },
     "metadata": {
      "needs_background": "light"
     },
     "output_type": "display_data"
    },
    {
     "data": {
      "image/png": "[encoded data removed]",
      "text/plain": [
       "<Figure size 432x288 with 1 Axes>"
      ]
     },
     "metadata": {
      "needs_background": "light"
     },
     "output_type": "display_data"
    },
    {
     "data": {
      "image/png": "[encoded data removed]",
      "text/plain": [
       "<Figure size 432x288 with 1 Axes>"
      ]
     },
     "metadata": {
      "needs_background": "light"
     },
     "output_type": "display_data"
    },
    {
     "data": {
      "image/png": "[encoded data removed]",
      "text/plain": [
       "<Figure size 432x288 with 1 Axes>"
      ]
     },
     "metadata": {
      "needs_background": "light"
     },
     "output_type": "display_data"
    }
   ],
   "source": [
    "print(\"With Outliers:\")\n",
    "for column in continuous:\n",
    "    df.boxplot(column=column)\n",
    "    plt.show()"
   ]
  },
  {
   "cell_type": "code",
   "execution_count": 43,
   "metadata": {},
   "outputs": [
    {
     "data": {
      "text/plain": [
       "Index(['political affiliation', 'population', 'people under age 5',\n",
       "       'people under age 18', 'people 65 and older', 'female', 'white',\n",
       "       'black', 'american indian or alaska native', 'asian',\n",
       "       'native hawaiian and other pacific islander', '2+ races', 'hispanic',\n",
       "       'veteran', 'foreign born', 'owner occupied houses',\n",
       "       'avg value of owner occupied houses', 'avg rent', 'households',\n",
       "       'people per household', 'living in same house for over a year',\n",
       "       'language other than english spoken at home',\n",
       "       'households with computer', 'households with internet',\n",
       "       'high school graduate or higher, 25+',\n",
       "       'bachelors degree or higher, 25+', 'with disability, under 65',\n",
       "       'without health insurance, under 65', 'total labor force, 16+',\n",
       "       'female labor force, 16+',\n",
       "       'healthcare and social assistance revenue ($1,000)',\n",
       "       'manufacturers shipments ($1,000)',\n",
       "       'avg travel time to work (min), 16+', 'avg household income',\n",
       "       'per capita income in last 12 months', 'people in poverty',\n",
       "       'businesses', 'men owned businesses', 'female owned businesses',\n",
       "       'minority owned businesses', 'nonminority owned businesses',\n",
       "       'veteran owned businesses', 'nonveteran owned businesses'],\n",
       "      dtype='object')"
      ]
     },
     "execution_count": 43,
     "metadata": {},
     "output_type": "execute_result"
    }
   ],
   "source": [
    "df.columns"
   ]
  },
  {
   "cell_type": "code",
   "execution_count": null,
   "metadata": {},
   "outputs": [],
   "source": []
  }
 ],
 "metadata": {
  "kernelspec": {
   "display_name": "Python 3",
   "language": "python",
   "name": "python3"
  },
  "language_info": {
   "codemirror_mode": {
    "name": "ipython",
    "version": 3
   },
   "file_extension": ".py",
   "mimetype": "text/x-python",
   "name": "python",
   "nbconvert_exporter": "python",
   "pygments_lexer": "ipython3",
   "version": "3.7.4"
  }
 },
 "nbformat": 4,
 "nbformat_minor": 2
}
