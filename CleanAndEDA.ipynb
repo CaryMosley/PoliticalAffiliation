{
 "cells": [
  {
   "cell_type": "code",
   "execution_count": 20,
   "metadata": {},
   "outputs": [],
   "source": [
    "import time\n",
    "import pandas as pd\n",
    "import numpy as np\n",
    "import matplotlib.pyplot as plt\n",
    "%matplotlib inline\n",
    "import seaborn as sns"
   ]
  },
  {
   "cell_type": "code",
   "execution_count": 21,
   "metadata": {},
   "outputs": [],
   "source": [
    "df = pd.read_csv('test.csv')"
   ]
  },
  {
   "cell_type": "markdown",
   "metadata": {},
   "source": [
    "Dropping First column, land area ones since they came as blank"
   ]
  },
  {
   "cell_type": "code",
   "execution_count": 22,
   "metadata": {},
   "outputs": [],
   "source": [
    "df.drop(columns = ['Unnamed: 0'],inplace=True)"
   ]
  },
  {
   "cell_type": "code",
   "execution_count": 23,
   "metadata": {},
   "outputs": [
    {
     "data": {
      "text/html": [
       "<div>\n",
       "<style scoped>\n",
       "    .dataframe tbody tr th:only-of-type {\n",
       "        vertical-align: middle;\n",
       "    }\n",
       "\n",
       "    .dataframe tbody tr th {\n",
       "        vertical-align: top;\n",
       "    }\n",
       "\n",
       "    .dataframe thead th {\n",
       "        text-align: right;\n",
       "    }\n",
       "</style>\n",
       "<table border=\"1\" class=\"dataframe\">\n",
       "  <thead>\n",
       "    <tr style=\"text-align: right;\">\n",
       "      <th></th>\n",
       "      <th>city</th>\n",
       "      <th>state</th>\n",
       "      <th>political affiliation</th>\n",
       "      <th>population</th>\n",
       "      <th>people under age 5</th>\n",
       "      <th>people under age 18</th>\n",
       "      <th>people 65 and older</th>\n",
       "      <th>female</th>\n",
       "      <th>white</th>\n",
       "      <th>black</th>\n",
       "      <th>...</th>\n",
       "      <th>people in poverty</th>\n",
       "      <th>businesses</th>\n",
       "      <th>men owned businesses</th>\n",
       "      <th>female owned businesses</th>\n",
       "      <th>minority owned businesses</th>\n",
       "      <th>nonminority owned businesses</th>\n",
       "      <th>veteran owned businesses</th>\n",
       "      <th>nonveteran owned businesses</th>\n",
       "      <th>population per square mile</th>\n",
       "      <th>land area in square miles</th>\n",
       "    </tr>\n",
       "  </thead>\n",
       "  <tbody>\n",
       "    <tr>\n",
       "      <td>0</td>\n",
       "      <td>Birmingham</td>\n",
       "      <td>Alabama</td>\n",
       "      <td>liberal</td>\n",
       "      <td>209880</td>\n",
       "      <td>6.5</td>\n",
       "      <td>20.3</td>\n",
       "      <td>14.2</td>\n",
       "      <td>53.1</td>\n",
       "      <td>25.3</td>\n",
       "      <td>70.5</td>\n",
       "      <td>...</td>\n",
       "      <td>27.2</td>\n",
       "      <td>20738</td>\n",
       "      <td>10318</td>\n",
       "      <td>8286</td>\n",
       "      <td>10605</td>\n",
       "      <td>8770</td>\n",
       "      <td>2082</td>\n",
       "      <td>17113</td>\n",
       "      <td>0</td>\n",
       "      <td>0</td>\n",
       "    </tr>\n",
       "    <tr>\n",
       "      <td>1</td>\n",
       "      <td>Montgomery</td>\n",
       "      <td>Alabama</td>\n",
       "      <td>liberal</td>\n",
       "      <td>198218</td>\n",
       "      <td>6.8</td>\n",
       "      <td>24.0</td>\n",
       "      <td>13.7</td>\n",
       "      <td>53.0</td>\n",
       "      <td>33.3</td>\n",
       "      <td>60.6</td>\n",
       "      <td>...</td>\n",
       "      <td>21.9</td>\n",
       "      <td>18043</td>\n",
       "      <td>8879</td>\n",
       "      <td>7459</td>\n",
       "      <td>8793</td>\n",
       "      <td>8363</td>\n",
       "      <td>2352</td>\n",
       "      <td>14434</td>\n",
       "      <td>0</td>\n",
       "      <td>0</td>\n",
       "    </tr>\n",
       "    <tr>\n",
       "      <td>2</td>\n",
       "      <td>Mobile</td>\n",
       "      <td>Alabama</td>\n",
       "      <td>liberal</td>\n",
       "      <td>189572</td>\n",
       "      <td>6.3</td>\n",
       "      <td>21.7</td>\n",
       "      <td>16.0</td>\n",
       "      <td>52.6</td>\n",
       "      <td>44.8</td>\n",
       "      <td>50.6</td>\n",
       "      <td>...</td>\n",
       "      <td>22.0</td>\n",
       "      <td>20118</td>\n",
       "      <td>9703</td>\n",
       "      <td>8644</td>\n",
       "      <td>8808</td>\n",
       "      <td>10250</td>\n",
       "      <td>2275</td>\n",
       "      <td>16639</td>\n",
       "      <td>0</td>\n",
       "      <td>0</td>\n",
       "    </tr>\n",
       "    <tr>\n",
       "      <td>3</td>\n",
       "      <td>Huntsville</td>\n",
       "      <td>Alabama</td>\n",
       "      <td>liberal</td>\n",
       "      <td>197318</td>\n",
       "      <td>6.4</td>\n",
       "      <td>21.1</td>\n",
       "      <td>15.7</td>\n",
       "      <td>51.9</td>\n",
       "      <td>61.6</td>\n",
       "      <td>30.6</td>\n",
       "      <td>...</td>\n",
       "      <td>17.7</td>\n",
       "      <td>16838</td>\n",
       "      <td>8211</td>\n",
       "      <td>6565</td>\n",
       "      <td>4380</td>\n",
       "      <td>11515</td>\n",
       "      <td>1816</td>\n",
       "      <td>13915</td>\n",
       "      <td>0</td>\n",
       "      <td>0</td>\n",
       "    </tr>\n",
       "    <tr>\n",
       "      <td>4</td>\n",
       "      <td>Tuscaloosa</td>\n",
       "      <td>Alabama</td>\n",
       "      <td>liberal</td>\n",
       "      <td>101113</td>\n",
       "      <td>5.9</td>\n",
       "      <td>18.8</td>\n",
       "      <td>11.7</td>\n",
       "      <td>52.4</td>\n",
       "      <td>51.1</td>\n",
       "      <td>44.1</td>\n",
       "      <td>...</td>\n",
       "      <td>24.2</td>\n",
       "      <td>6802</td>\n",
       "      <td>3374</td>\n",
       "      <td>2530</td>\n",
       "      <td>1953</td>\n",
       "      <td>4375</td>\n",
       "      <td>670</td>\n",
       "      <td>5438</td>\n",
       "      <td>0</td>\n",
       "      <td>0</td>\n",
       "    </tr>\n",
       "  </tbody>\n",
       "</table>\n",
       "<p>5 rows × 47 columns</p>\n",
       "</div>"
      ],
      "text/plain": [
       "          city    state political affiliation  population  people under age 5  \\\n",
       "0  Birmingham   Alabama               liberal      209880                 6.5   \n",
       "1  Montgomery   Alabama               liberal      198218                 6.8   \n",
       "2      Mobile   Alabama               liberal      189572                 6.3   \n",
       "3  Huntsville   Alabama               liberal      197318                 6.4   \n",
       "4  Tuscaloosa   Alabama               liberal      101113                 5.9   \n",
       "\n",
       "   people under age 18  people 65 and older  female  white  black  ...  \\\n",
       "0                 20.3                 14.2    53.1   25.3   70.5  ...   \n",
       "1                 24.0                 13.7    53.0   33.3   60.6  ...   \n",
       "2                 21.7                 16.0    52.6   44.8   50.6  ...   \n",
       "3                 21.1                 15.7    51.9   61.6   30.6  ...   \n",
       "4                 18.8                 11.7    52.4   51.1   44.1  ...   \n",
       "\n",
       "   people in poverty  businesses  men owned businesses  \\\n",
       "0               27.2       20738                 10318   \n",
       "1               21.9       18043                  8879   \n",
       "2               22.0       20118                  9703   \n",
       "3               17.7       16838                  8211   \n",
       "4               24.2        6802                  3374   \n",
       "\n",
       "   female owned businesses  minority owned businesses  \\\n",
       "0                     8286                      10605   \n",
       "1                     7459                       8793   \n",
       "2                     8644                       8808   \n",
       "3                     6565                       4380   \n",
       "4                     2530                       1953   \n",
       "\n",
       "   nonminority owned businesses  veteran owned businesses  \\\n",
       "0                          8770                      2082   \n",
       "1                          8363                      2352   \n",
       "2                         10250                      2275   \n",
       "3                         11515                      1816   \n",
       "4                          4375                       670   \n",
       "\n",
       "   nonveteran owned businesses  population per square mile  \\\n",
       "0                        17113                           0   \n",
       "1                        14434                           0   \n",
       "2                        16639                           0   \n",
       "3                        13915                           0   \n",
       "4                         5438                           0   \n",
       "\n",
       "   land area in square miles  \n",
       "0                          0  \n",
       "1                          0  \n",
       "2                          0  \n",
       "3                          0  \n",
       "4                          0  \n",
       "\n",
       "[5 rows x 47 columns]"
      ]
     },
     "execution_count": 23,
     "metadata": {},
     "output_type": "execute_result"
    }
   ],
   "source": [
    "df.head()"
   ]
  },
  {
   "cell_type": "code",
   "execution_count": 24,
   "metadata": {},
   "outputs": [
    {
     "data": {
      "text/plain": [
       "(2983, 47)"
      ]
     },
     "execution_count": 24,
     "metadata": {},
     "output_type": "execute_result"
    }
   ],
   "source": [
    "df.shape"
   ]
  },
  {
   "cell_type": "code",
   "execution_count": 25,
   "metadata": {},
   "outputs": [
    {
     "data": {
      "text/plain": [
       "Index(['city', 'state', 'political affiliation', 'population',\n",
       "       'people under age 5', 'people under age 18', 'people 65 and older',\n",
       "       'female', 'white', 'black', 'american indian or alaska native', 'asian',\n",
       "       'native hawaiian and other pacific islander', '2+ races', 'hispanic',\n",
       "       'veteran', 'foreign born', 'owner occupied houses',\n",
       "       'avg value of owner occupied houses', 'avg rent', 'households',\n",
       "       'people per household', 'living in same house for over a year',\n",
       "       'language other than english spoken at home',\n",
       "       'households with computer', 'households with internet',\n",
       "       'high school graduate or higher, 25+',\n",
       "       'bachelor's degree or higher, 25+', 'with disability, under 65',\n",
       "       'without health insurance, under 65', 'total labor force, 16+',\n",
       "       'female labor force, 16+',\n",
       "       'healthcare and social assistance revenue ($1,000)',\n",
       "       'manufacturers shipments ($1,000)',\n",
       "       'avg travel time to work (min), 16+', 'avg household income',\n",
       "       'per capita income in last 12 months', 'people in poverty',\n",
       "       'businesses', 'men owned businesses', 'female owned businesses',\n",
       "       'minority owned businesses', 'nonminority owned businesses',\n",
       "       'veteran owned businesses', 'nonveteran owned businesses',\n",
       "       'population per square mile', 'land area in square miles'],\n",
       "      dtype='object')"
      ]
     },
     "execution_count": 25,
     "metadata": {},
     "output_type": "execute_result"
    }
   ],
   "source": [
    "df.columns"
   ]
  },
  {
   "cell_type": "markdown",
   "metadata": {},
   "source": [
    "We dont need city or state anymore as they are just identifiers and potentially overpower local politics too much"
   ]
  },
  {
   "cell_type": "code",
   "execution_count": 26,
   "metadata": {},
   "outputs": [],
   "source": [
    "df.drop(columns = ['city','state'],inplace=True)\n",
    "\n",
    "\n",
    "\n"
   ]
  },
  {
   "cell_type": "markdown",
   "metadata": {},
   "source": [
    "Checking for class imbalance"
   ]
  },
  {
   "cell_type": "code",
   "execution_count": 27,
   "metadata": {},
   "outputs": [
    {
     "data": {
      "text/plain": [
       "liberal         1763\n",
       "conservative    1195\n",
       "Name: political affiliation, dtype: int64"
      ]
     },
     "execution_count": 27,
     "metadata": {},
     "output_type": "execute_result"
    }
   ],
   "source": [
    "df['political affiliation'].value_counts()"
   ]
  },
  {
   "cell_type": "markdown",
   "metadata": {},
   "source": [
    "Checking for null values"
   ]
  },
  {
   "cell_type": "code",
   "execution_count": 28,
   "metadata": {},
   "outputs": [
    {
     "data": {
      "text/plain": [
       "political affiliation                                25\n",
       "population                                            0\n",
       "people under age 5                                    0\n",
       "people under age 18                                   0\n",
       "people 65 and older                                   0\n",
       "female                                                0\n",
       "white                                                 0\n",
       "black                                                 0\n",
       "american indian or alaska native                      0\n",
       "asian                                                 0\n",
       "native hawaiian and other pacific islander            0\n",
       "2+ races                                              0\n",
       "hispanic                                              0\n",
       "veteran                                               0\n",
       "foreign born                                          0\n",
       "owner occupied houses                                 0\n",
       "avg value of owner occupied houses                    0\n",
       "avg rent                                              0\n",
       "households                                            0\n",
       "people per household                                  0\n",
       "living in same house for over a year                  0\n",
       "language other than english spoken at home            0\n",
       "households with computer                              0\n",
       "households with internet                              0\n",
       "high school graduate or higher, 25+                   0\n",
       "bachelor's degree or higher, 25+                      0\n",
       "with disability, under 65                             0\n",
       "without health insurance, under 65                    0\n",
       "total labor force, 16+                                0\n",
       "female labor force, 16+                               0\n",
       "healthcare and social assistance revenue ($1,000)     0\n",
       "manufacturers shipments ($1,000)                      0\n",
       "avg travel time to work (min), 16+                    0\n",
       "avg household income                                  0\n",
       "per capita income in last 12 months                   0\n",
       "people in poverty                                     0\n",
       "businesses                                            0\n",
       "men owned businesses                                  0\n",
       "female owned businesses                               0\n",
       "minority owned businesses                             0\n",
       "nonminority owned businesses                          0\n",
       "veteran owned businesses                              0\n",
       "nonveteran owned businesses                           0\n",
       "population per square mile                            0\n",
       "land area in square miles                             0\n",
       "dtype: int64"
      ]
     },
     "execution_count": 28,
     "metadata": {},
     "output_type": "execute_result"
    }
   ],
   "source": [
    "df.isnull().sum()"
   ]
  },
  {
   "cell_type": "code",
   "execution_count": null,
   "metadata": {},
   "outputs": [],
   "source": []
  },
  {
   "cell_type": "code",
   "execution_count": null,
   "metadata": {},
   "outputs": [],
   "source": []
  },
  {
   "cell_type": "code",
   "execution_count": 29,
   "metadata": {},
   "outputs": [
    {
     "data": {
      "text/html": [
       "<div>\n",
       "<style scoped>\n",
       "    .dataframe tbody tr th:only-of-type {\n",
       "        vertical-align: middle;\n",
       "    }\n",
       "\n",
       "    .dataframe tbody tr th {\n",
       "        vertical-align: top;\n",
       "    }\n",
       "\n",
       "    .dataframe thead th {\n",
       "        text-align: right;\n",
       "    }\n",
       "</style>\n",
       "<table border=\"1\" class=\"dataframe\">\n",
       "  <thead>\n",
       "    <tr style=\"text-align: right;\">\n",
       "      <th></th>\n",
       "      <th>political affiliation</th>\n",
       "      <th>population</th>\n",
       "      <th>people under age 5</th>\n",
       "      <th>people under age 18</th>\n",
       "      <th>people 65 and older</th>\n",
       "      <th>female</th>\n",
       "      <th>white</th>\n",
       "      <th>black</th>\n",
       "      <th>american indian or alaska native</th>\n",
       "      <th>asian</th>\n",
       "      <th>...</th>\n",
       "      <th>people in poverty</th>\n",
       "      <th>businesses</th>\n",
       "      <th>men owned businesses</th>\n",
       "      <th>female owned businesses</th>\n",
       "      <th>minority owned businesses</th>\n",
       "      <th>nonminority owned businesses</th>\n",
       "      <th>veteran owned businesses</th>\n",
       "      <th>nonveteran owned businesses</th>\n",
       "      <th>population per square mile</th>\n",
       "      <th>land area in square miles</th>\n",
       "    </tr>\n",
       "  </thead>\n",
       "  <tbody>\n",
       "    <tr>\n",
       "      <td>0</td>\n",
       "      <td>liberal</td>\n",
       "      <td>209880</td>\n",
       "      <td>6.5</td>\n",
       "      <td>20.3</td>\n",
       "      <td>14.2</td>\n",
       "      <td>53.1</td>\n",
       "      <td>25.3</td>\n",
       "      <td>70.5</td>\n",
       "      <td>0.2</td>\n",
       "      <td>0.9</td>\n",
       "      <td>...</td>\n",
       "      <td>27.2</td>\n",
       "      <td>20738</td>\n",
       "      <td>10318</td>\n",
       "      <td>8286</td>\n",
       "      <td>10605</td>\n",
       "      <td>8770</td>\n",
       "      <td>2082</td>\n",
       "      <td>17113</td>\n",
       "      <td>0</td>\n",
       "      <td>0</td>\n",
       "    </tr>\n",
       "    <tr>\n",
       "      <td>1</td>\n",
       "      <td>liberal</td>\n",
       "      <td>198218</td>\n",
       "      <td>6.8</td>\n",
       "      <td>24.0</td>\n",
       "      <td>13.7</td>\n",
       "      <td>53.0</td>\n",
       "      <td>33.3</td>\n",
       "      <td>60.6</td>\n",
       "      <td>0.2</td>\n",
       "      <td>2.8</td>\n",
       "      <td>...</td>\n",
       "      <td>21.9</td>\n",
       "      <td>18043</td>\n",
       "      <td>8879</td>\n",
       "      <td>7459</td>\n",
       "      <td>8793</td>\n",
       "      <td>8363</td>\n",
       "      <td>2352</td>\n",
       "      <td>14434</td>\n",
       "      <td>0</td>\n",
       "      <td>0</td>\n",
       "    </tr>\n",
       "    <tr>\n",
       "      <td>2</td>\n",
       "      <td>liberal</td>\n",
       "      <td>189572</td>\n",
       "      <td>6.3</td>\n",
       "      <td>21.7</td>\n",
       "      <td>16.0</td>\n",
       "      <td>52.6</td>\n",
       "      <td>44.8</td>\n",
       "      <td>50.6</td>\n",
       "      <td>0.2</td>\n",
       "      <td>1.8</td>\n",
       "      <td>...</td>\n",
       "      <td>22.0</td>\n",
       "      <td>20118</td>\n",
       "      <td>9703</td>\n",
       "      <td>8644</td>\n",
       "      <td>8808</td>\n",
       "      <td>10250</td>\n",
       "      <td>2275</td>\n",
       "      <td>16639</td>\n",
       "      <td>0</td>\n",
       "      <td>0</td>\n",
       "    </tr>\n",
       "    <tr>\n",
       "      <td>3</td>\n",
       "      <td>liberal</td>\n",
       "      <td>197318</td>\n",
       "      <td>6.4</td>\n",
       "      <td>21.1</td>\n",
       "      <td>15.7</td>\n",
       "      <td>51.9</td>\n",
       "      <td>61.6</td>\n",
       "      <td>30.6</td>\n",
       "      <td>0.4</td>\n",
       "      <td>2.7</td>\n",
       "      <td>...</td>\n",
       "      <td>17.7</td>\n",
       "      <td>16838</td>\n",
       "      <td>8211</td>\n",
       "      <td>6565</td>\n",
       "      <td>4380</td>\n",
       "      <td>11515</td>\n",
       "      <td>1816</td>\n",
       "      <td>13915</td>\n",
       "      <td>0</td>\n",
       "      <td>0</td>\n",
       "    </tr>\n",
       "    <tr>\n",
       "      <td>4</td>\n",
       "      <td>liberal</td>\n",
       "      <td>101113</td>\n",
       "      <td>5.9</td>\n",
       "      <td>18.8</td>\n",
       "      <td>11.7</td>\n",
       "      <td>52.4</td>\n",
       "      <td>51.1</td>\n",
       "      <td>44.1</td>\n",
       "      <td>0.3</td>\n",
       "      <td>2.4</td>\n",
       "      <td>...</td>\n",
       "      <td>24.2</td>\n",
       "      <td>6802</td>\n",
       "      <td>3374</td>\n",
       "      <td>2530</td>\n",
       "      <td>1953</td>\n",
       "      <td>4375</td>\n",
       "      <td>670</td>\n",
       "      <td>5438</td>\n",
       "      <td>0</td>\n",
       "      <td>0</td>\n",
       "    </tr>\n",
       "  </tbody>\n",
       "</table>\n",
       "<p>5 rows × 45 columns</p>\n",
       "</div>"
      ],
      "text/plain": [
       "  political affiliation  population  people under age 5  people under age 18  \\\n",
       "0               liberal      209880                 6.5                 20.3   \n",
       "1               liberal      198218                 6.8                 24.0   \n",
       "2               liberal      189572                 6.3                 21.7   \n",
       "3               liberal      197318                 6.4                 21.1   \n",
       "4               liberal      101113                 5.9                 18.8   \n",
       "\n",
       "   people 65 and older  female  white  black  \\\n",
       "0                 14.2    53.1   25.3   70.5   \n",
       "1                 13.7    53.0   33.3   60.6   \n",
       "2                 16.0    52.6   44.8   50.6   \n",
       "3                 15.7    51.9   61.6   30.6   \n",
       "4                 11.7    52.4   51.1   44.1   \n",
       "\n",
       "   american indian or alaska native  asian  ...  people in poverty  \\\n",
       "0                               0.2    0.9  ...               27.2   \n",
       "1                               0.2    2.8  ...               21.9   \n",
       "2                               0.2    1.8  ...               22.0   \n",
       "3                               0.4    2.7  ...               17.7   \n",
       "4                               0.3    2.4  ...               24.2   \n",
       "\n",
       "   businesses  men owned businesses  female owned businesses  \\\n",
       "0       20738                 10318                     8286   \n",
       "1       18043                  8879                     7459   \n",
       "2       20118                  9703                     8644   \n",
       "3       16838                  8211                     6565   \n",
       "4        6802                  3374                     2530   \n",
       "\n",
       "   minority owned businesses  nonminority owned businesses  \\\n",
       "0                      10605                          8770   \n",
       "1                       8793                          8363   \n",
       "2                       8808                         10250   \n",
       "3                       4380                         11515   \n",
       "4                       1953                          4375   \n",
       "\n",
       "   veteran owned businesses  nonveteran owned businesses  \\\n",
       "0                      2082                        17113   \n",
       "1                      2352                        14434   \n",
       "2                      2275                        16639   \n",
       "3                      1816                        13915   \n",
       "4                       670                         5438   \n",
       "\n",
       "   population per square mile  land area in square miles  \n",
       "0                           0                          0  \n",
       "1                           0                          0  \n",
       "2                           0                          0  \n",
       "3                           0                          0  \n",
       "4                           0                          0  \n",
       "\n",
       "[5 rows x 45 columns]"
      ]
     },
     "execution_count": 29,
     "metadata": {},
     "output_type": "execute_result"
    }
   ],
   "source": [
    "df.head()\n"
   ]
  },
  {
   "cell_type": "markdown",
   "metadata": {},
   "source": [
    "Currently all of our data types are continuous, many of these we will\n",
    "later bucket and categorize but first we'll take a look at the distributions\n"
   ]
  },
  {
   "cell_type": "code",
   "execution_count": 30,
   "metadata": {},
   "outputs": [
    {
     "name": "stdout",
     "output_type": "stream",
     "text": [
      "<class 'pandas.core.frame.DataFrame'>\n",
      "RangeIndex: 2983 entries, 0 to 2982\n",
      "Data columns (total 45 columns):\n",
      "political affiliation                                2958 non-null object\n",
      "population                                           2983 non-null int64\n",
      "people under age 5                                   2983 non-null float64\n",
      "people under age 18                                  2983 non-null float64\n",
      "people 65 and older                                  2983 non-null float64\n",
      "female                                               2983 non-null float64\n",
      "white                                                2983 non-null float64\n",
      "black                                                2983 non-null float64\n",
      "american indian or alaska native                     2983 non-null float64\n",
      "asian                                                2983 non-null float64\n",
      "native hawaiian and other pacific islander           2983 non-null float64\n",
      "2+ races                                             2983 non-null float64\n",
      "hispanic                                             2983 non-null float64\n",
      "veteran                                              2983 non-null int64\n",
      "foreign born                                         2983 non-null float64\n",
      "owner occupied houses                                2983 non-null float64\n",
      "avg value of owner occupied houses                   2983 non-null int64\n",
      "avg rent                                             2983 non-null int64\n",
      "households                                           2983 non-null int64\n",
      "people per household                                 2983 non-null float64\n",
      "living in same house for over a year                 2983 non-null float64\n",
      "language other than english spoken at home           2983 non-null float64\n",
      "households with computer                             2983 non-null float64\n",
      "households with internet                             2983 non-null float64\n",
      "high school graduate or higher, 25+                  2983 non-null float64\n",
      "bachelor's degree or higher, 25+                     2983 non-null float64\n",
      "with disability, under 65                            2983 non-null float64\n",
      "without health insurance, under 65                   2983 non-null float64\n",
      "total labor force, 16+                               2983 non-null float64\n",
      "female labor force, 16+                              2983 non-null float64\n",
      "healthcare and social assistance revenue ($1,000)    2983 non-null int64\n",
      "manufacturers shipments ($1,000)                     2983 non-null int64\n",
      "avg travel time to work (min), 16+                   2983 non-null float64\n",
      "avg household income                                 2983 non-null int64\n",
      "per capita income in last 12 months                  2983 non-null int64\n",
      "people in poverty                                    2983 non-null float64\n",
      "businesses                                           2983 non-null int64\n",
      "men owned businesses                                 2983 non-null int64\n",
      "female owned businesses                              2983 non-null int64\n",
      "minority owned businesses                            2983 non-null int64\n",
      "nonminority owned businesses                         2983 non-null int64\n",
      "veteran owned businesses                             2983 non-null int64\n",
      "nonveteran owned businesses                          2983 non-null int64\n",
      "population per square mile                           2983 non-null int64\n",
      "land area in square miles                            2983 non-null int64\n",
      "dtypes: float64(26), int64(18), object(1)\n",
      "memory usage: 1.0+ MB\n"
     ]
    }
   ],
   "source": [
    "# data types\n",
    "df.info()"
   ]
  },
  {
   "cell_type": "markdown",
   "metadata": {},
   "source": [
    "## Outliers\n",
    "Currently all of our features are continuous. We'll start looking at these in detail"
   ]
  },
  {
   "cell_type": "code",
   "execution_count": 31,
   "metadata": {},
   "outputs": [],
   "source": [
    "df.rename(columns={\"bachelor's degree or higher, 25+\": 'bachelors degree or higher, 25+'},inplace=True)"
   ]
  },
  {
   "cell_type": "code",
   "execution_count": 32,
   "metadata": {},
   "outputs": [
    {
     "name": "stdout",
     "output_type": "stream",
     "text": [
      "count    2.983000e+03\n",
      "mean     8.437858e+07\n",
      "std      1.431121e+08\n",
      "min      5.005000e+03\n",
      "25%      1.145150e+04\n",
      "50%      3.125300e+04\n",
      "75%      3.271674e+08\n",
      "max      3.271674e+08\n",
      "Name: population, dtype: float64\n",
      "\n",
      "\n",
      "count    2983.000000\n",
      "mean        6.297586\n",
      "std         1.440013\n",
      "min         0.000000\n",
      "25%         5.800000\n",
      "50%         6.100000\n",
      "75%         7.000000\n",
      "max        14.700000\n",
      "Name: people under age 5, dtype: float64\n",
      "\n",
      "\n",
      "count    2983.000000\n",
      "mean       22.988937\n",
      "std         4.136385\n",
      "min         0.100000\n",
      "25%        21.500000\n",
      "50%        22.400000\n",
      "75%        25.100000\n",
      "max        39.000000\n",
      "Name: people under age 18, dtype: float64\n",
      "\n",
      "\n",
      "count    2983.000000\n",
      "mean       15.701274\n",
      "std         4.931944\n",
      "min         2.100000\n",
      "25%        13.150000\n",
      "50%        16.000000\n",
      "75%        16.800000\n",
      "max        82.800000\n",
      "Name: people 65 and older, dtype: float64\n",
      "\n",
      "\n",
      "count    2983.000000\n",
      "mean       51.057593\n",
      "std         2.693380\n",
      "min        19.400000\n",
      "25%        50.650000\n",
      "50%        50.800000\n",
      "75%        52.100000\n",
      "max        64.200000\n",
      "Name: female, dtype: float64\n",
      "\n",
      "\n",
      "count    2983.000000\n",
      "mean       74.709353\n",
      "std        17.628651\n",
      "min         1.100000\n",
      "25%        70.650000\n",
      "50%        76.500000\n",
      "75%        87.300000\n",
      "max        99.400000\n",
      "Name: white, dtype: float64\n",
      "\n",
      "\n",
      "count    2983.000000\n",
      "mean       13.048743\n",
      "std        15.676908\n",
      "min         0.000000\n",
      "25%         2.350000\n",
      "50%        10.900000\n",
      "75%        13.400000\n",
      "max        97.400000\n",
      "Name: black, dtype: float64\n",
      "\n",
      "\n",
      "count    2983.000000\n",
      "mean        0.886658\n",
      "std         2.243797\n",
      "min         0.000000\n",
      "25%         0.200000\n",
      "50%         0.500000\n",
      "75%         1.300000\n",
      "max        62.000000\n",
      "Name: american indian or alaska native, dtype: float64\n",
      "\n",
      "\n",
      "count    2983.000000\n",
      "mean        4.799195\n",
      "std         6.829422\n",
      "min         0.000000\n",
      "25%         1.100000\n",
      "50%         3.300000\n",
      "75%         5.900000\n",
      "max        67.800000\n",
      "Name: asian, dtype: float64\n",
      "\n",
      "\n",
      "count    2983.000000\n",
      "mean        0.149648\n",
      "std         0.349829\n",
      "min         0.000000\n",
      "25%         0.000000\n",
      "50%         0.100000\n",
      "75%         0.200000\n",
      "max        10.600000\n",
      "Name: native hawaiian and other pacific islander, dtype: float64\n",
      "\n",
      "\n",
      "count    2983.000000\n",
      "mean        3.024170\n",
      "std         1.718529\n",
      "min         0.000000\n",
      "25%         2.100000\n",
      "50%         2.700000\n",
      "75%         3.600000\n",
      "max        31.000000\n",
      "Name: 2+ races, dtype: float64\n",
      "\n",
      "\n",
      "count    2983.000000\n",
      "mean       17.313041\n",
      "std        17.612355\n",
      "min         0.000000\n",
      "25%         4.700000\n",
      "50%        16.200000\n",
      "75%        18.300000\n",
      "max        98.000000\n",
      "Name: hispanic, dtype: float64\n",
      "\n",
      "\n",
      "count    2.983000e+03\n",
      "mean     4.799616e+06\n",
      "std      8.141380e+06\n",
      "min      1.900000e+01\n",
      "25%      6.330000e+02\n",
      "50%      1.688000e+03\n",
      "75%      1.861143e+07\n",
      "max      1.861143e+07\n",
      "Name: veteran, dtype: float64\n",
      "\n",
      "\n",
      "count    2983.000000\n",
      "mean       12.217734\n",
      "std        10.350739\n",
      "min         0.000000\n",
      "25%         4.100000\n",
      "50%        12.600000\n",
      "75%        13.500000\n",
      "max        74.300000\n",
      "Name: foreign born, dtype: float64\n",
      "\n",
      "\n",
      "count    2983.000000\n",
      "mean       61.055783\n",
      "std        11.406195\n",
      "min         8.600000\n",
      "25%        55.200000\n",
      "50%        63.800000\n",
      "75%        65.000000\n",
      "max        97.600000\n",
      "Name: owner occupied houses, dtype: float64\n",
      "\n",
      "\n",
      "count    2.983000e+03\n",
      "mean     2.289272e+05\n",
      "std      1.886757e+05\n",
      "min      0.000000e+00\n",
      "25%      1.308500e+05\n",
      "50%      2.049000e+05\n",
      "75%      2.176000e+05\n",
      "max      1.947900e+06\n",
      "Name: avg value of owner occupied houses, dtype: float64\n",
      "\n",
      "\n",
      "count    2983.000000\n",
      "mean     1017.134428\n",
      "std       344.249818\n",
      "min         0.000000\n",
      "25%       779.500000\n",
      "50%      1023.000000\n",
      "75%      1070.000000\n",
      "max      3493.000000\n",
      "Name: avg rent, dtype: float64\n",
      "\n",
      "\n",
      "count    2.983000e+03\n",
      "mean     3.087909e+07\n",
      "std      5.237332e+07\n",
      "min      5.280000e+02\n",
      "25%      4.239500e+03\n",
      "50%      1.159600e+04\n",
      "75%      1.197301e+08\n",
      "max      1.197301e+08\n",
      "Name: households, dtype: float64\n",
      "\n",
      "\n",
      "count    2983.000000\n",
      "mean        2.615682\n",
      "std         0.353492\n",
      "min         1.450000\n",
      "25%         2.400000\n",
      "50%         2.630000\n",
      "75%         2.670000\n",
      "max         5.070000\n",
      "Name: people per household, dtype: float64\n",
      "\n",
      "\n",
      "count    2983.000000\n",
      "mean       84.190513\n",
      "std         5.411767\n",
      "min         0.000000\n",
      "25%        82.350000\n",
      "50%        85.500000\n",
      "75%        86.550000\n",
      "max        96.100000\n",
      "Name: living in same house for over a year, dtype: float64\n",
      "\n",
      "\n",
      "count    2983.000000\n",
      "mean       19.707811\n",
      "std        16.903924\n",
      "min         0.100000\n",
      "25%         6.500000\n",
      "50%        20.200000\n",
      "75%        21.500000\n",
      "max        95.500000\n",
      "Name: language other than english spoken at home, dtype: float64\n",
      "\n",
      "\n",
      "count    2983.000000\n",
      "mean       87.839055\n",
      "std         5.851939\n",
      "min        49.300000\n",
      "25%        85.350000\n",
      "50%        88.800000\n",
      "75%        91.100000\n",
      "max        99.200000\n",
      "Name: households with computer, dtype: float64\n",
      "\n",
      "\n",
      "count    2983.000000\n",
      "mean       79.224070\n",
      "std         8.218307\n",
      "min        38.800000\n",
      "25%        75.600000\n",
      "50%        80.400000\n",
      "75%        83.700000\n",
      "max        97.600000\n",
      "Name: households with internet, dtype: float64\n",
      "\n",
      "\n",
      "count    2983.000000\n",
      "mean       87.084613\n",
      "std         7.778354\n",
      "min        26.000000\n",
      "25%        85.250000\n",
      "50%        87.700000\n",
      "75%        91.850000\n",
      "max       100.000000\n",
      "Name: high school graduate or higher, 25+, dtype: float64\n",
      "\n",
      "\n",
      "count    2983.000000\n",
      "mean       29.498626\n",
      "std        13.752439\n",
      "min         0.500000\n",
      "25%        19.300000\n",
      "50%        31.500000\n",
      "75%        31.650000\n",
      "max        85.100000\n",
      "Name: bachelors degree or higher, 25+, dtype: float64\n",
      "\n",
      "\n",
      "count    2983.000000\n",
      "mean        9.161783\n",
      "std         3.393169\n",
      "min         1.200000\n",
      "25%         7.300000\n",
      "50%         8.600000\n",
      "75%        10.700000\n",
      "max        29.600000\n",
      "Name: with disability, under 65, dtype: float64\n",
      "\n",
      "\n",
      "count    2983.000000\n",
      "mean       10.205129\n",
      "std         4.826421\n",
      "min         0.000000\n",
      "25%         7.200000\n",
      "50%        10.000000\n",
      "75%        11.800000\n",
      "max        41.100000\n",
      "Name: without health insurance, under 65, dtype: float64\n",
      "\n",
      "\n",
      "count    2983.000000\n",
      "mean       62.159772\n",
      "std         7.211366\n",
      "min         0.000000\n",
      "25%        59.600000\n",
      "50%        62.900000\n",
      "75%        65.500000\n",
      "max        84.900000\n",
      "Name: total labor force, 16+, dtype: float64\n",
      "\n",
      "\n",
      "count    2983.000000\n",
      "mean       57.698424\n",
      "std         6.501419\n",
      "min         0.000000\n",
      "25%        55.000000\n",
      "50%        58.200000\n",
      "75%        60.600000\n",
      "max        81.100000\n",
      "Name: female labor force, 16+, dtype: float64\n",
      "\n",
      "\n",
      "count    2.983000e+03\n",
      "mean     5.263234e+08\n",
      "std      8.924988e+08\n",
      "min      0.000000e+00\n",
      "25%      3.336000e+04\n",
      "50%      2.060220e+05\n",
      "75%      2.040441e+09\n",
      "max      2.040441e+09\n",
      "Name: healthcare and social assistance revenue ($1,000), dtype: float64\n",
      "\n",
      "\n",
      "count    2.983000e+03\n",
      "mean     1.469042e+09\n",
      "std      2.492012e+09\n",
      "min      0.000000e+00\n",
      "25%      0.000000e+00\n",
      "50%      3.043300e+05\n",
      "75%      5.696730e+09\n",
      "max      5.696730e+09\n",
      "Name: manufacturers shipments ($1,000), dtype: float64\n",
      "\n",
      "\n",
      "count    2983.000000\n",
      "mean       24.224740\n",
      "std         5.519552\n",
      "min         0.000000\n",
      "25%        20.500000\n",
      "50%        25.900000\n",
      "75%        26.600000\n",
      "max        45.800000\n",
      "Name: avg travel time to work (min), 16+, dtype: float64\n",
      "\n",
      "\n",
      "count      2983.000000\n",
      "mean      58997.244720\n",
      "std       21611.648503\n",
      "min           0.000000\n",
      "25%       45071.500000\n",
      "50%       60293.000000\n",
      "75%       61457.500000\n",
      "max      215339.000000\n",
      "Name: avg household income, dtype: float64\n",
      "\n",
      "\n",
      "count      2983.000000\n",
      "mean      30868.399598\n",
      "std       11914.388418\n",
      "min           0.000000\n",
      "25%       23553.000000\n",
      "50%       30967.000000\n",
      "75%       32621.000000\n",
      "max      133838.000000\n",
      "Name: per capita income in last 12 months, dtype: float64\n",
      "\n",
      "\n",
      "count    2983.000000\n",
      "mean       14.932685\n",
      "std         7.819005\n",
      "min         0.000000\n",
      "25%        11.100000\n",
      "50%        11.800000\n",
      "75%        18.800000\n",
      "max        49.100000\n",
      "Name: people in poverty, dtype: float64\n",
      "\n",
      "\n",
      "count    2.983000e+03\n",
      "mean     7.125444e+06\n",
      "std      1.208429e+07\n",
      "min      0.000000e+00\n",
      "25%      1.042000e+03\n",
      "50%      2.881000e+03\n",
      "75%      2.762636e+07\n",
      "max      2.762636e+07\n",
      "Name: businesses, dtype: float64\n",
      "\n",
      "\n",
      "count    2.983000e+03\n",
      "mean     3.828670e+06\n",
      "std      6.493353e+06\n",
      "min      0.000000e+00\n",
      "25%      5.225000e+02\n",
      "50%      1.483000e+03\n",
      "75%      1.484460e+07\n",
      "max      1.484460e+07\n",
      "Name: men owned businesses, dtype: float64\n",
      "\n",
      "\n",
      "count    2.983000e+03\n",
      "mean     2.547889e+06\n",
      "std      4.320980e+06\n",
      "min      0.000000e+00\n",
      "25%      3.440000e+02\n",
      "50%      1.020000e+03\n",
      "75%      9.878397e+06\n",
      "max      9.878397e+06\n",
      "Name: female owned businesses, dtype: float64\n",
      "\n",
      "\n",
      "count    2.983000e+03\n",
      "mean     2.051384e+06\n",
      "std      3.478367e+06\n",
      "min      0.000000e+00\n",
      "25%      1.330000e+02\n",
      "50%      6.910000e+02\n",
      "75%      7.952386e+06\n",
      "max      7.952386e+06\n",
      "Name: minority owned businesses, dtype: float64\n",
      "\n",
      "\n",
      "count    2.983000e+03\n",
      "mean     4.897024e+06\n",
      "std      8.305888e+06\n",
      "min      0.000000e+00\n",
      "25%      7.195000e+02\n",
      "50%      1.875000e+03\n",
      "75%      1.898792e+07\n",
      "max      1.898792e+07\n",
      "Name: nonminority owned businesses, dtype: float64\n",
      "\n",
      "\n",
      "count    2.983000e+03\n",
      "mean     6.503520e+05\n",
      "std      1.103057e+06\n",
      "min      0.000000e+00\n",
      "25%      9.600000e+01\n",
      "50%      2.570000e+02\n",
      "75%      2.521682e+06\n",
      "max      2.521682e+06\n",
      "Name: veteran owned businesses, dtype: float64\n",
      "\n",
      "\n",
      "count    2.983000e+03\n",
      "mean     6.208334e+06\n",
      "std      1.052899e+07\n",
      "min      0.000000e+00\n",
      "25%      8.580000e+02\n",
      "50%      2.429000e+03\n",
      "75%      2.407068e+07\n",
      "max      2.407068e+07\n",
      "Name: nonveteran owned businesses, dtype: float64\n",
      "\n",
      "\n",
      "count    2.983000e+03\n",
      "mean     2.026436e+06\n",
      "std      3.438993e+06\n",
      "min      0.000000e+00\n",
      "25%      0.000000e+00\n",
      "50%      0.000000e+00\n",
      "75%      7.860674e+06\n",
      "max      7.860674e+06\n",
      "Name: population per square mile, dtype: float64\n",
      "\n",
      "\n",
      "count    2.983000e+03\n",
      "mean     3.315022e+07\n",
      "std      5.625807e+07\n",
      "min      0.000000e+00\n",
      "25%      0.000000e+00\n",
      "50%      0.000000e+00\n",
      "75%      1.285918e+08\n",
      "max      1.285918e+08\n",
      "Name: land area in square miles, dtype: float64\n",
      "\n",
      "\n"
     ]
    }
   ],
   "source": [
    "continuous = ['population',\n",
    "       'people under age 5', 'people under age 18', 'people 65 and older',\n",
    "       'female', 'white', 'black', 'american indian or alaska native', 'asian',\n",
    "       'native hawaiian and other pacific islander', '2+ races', 'hispanic',\n",
    "       'veteran', 'foreign born', 'owner occupied houses',\n",
    "       'avg value of owner occupied houses', 'avg rent', 'households',\n",
    "       'people per household', 'living in same house for over a year',\n",
    "       'language other than english spoken at home',\n",
    "       'households with computer', 'households with internet',\n",
    "       'high school graduate or higher, 25+',\n",
    "       'bachelors degree or higher, 25+', 'with disability, under 65',\n",
    "       'without health insurance, under 65', 'total labor force, 16+',\n",
    "       'female labor force, 16+',\n",
    "       'healthcare and social assistance revenue ($1,000)',\n",
    "       'manufacturers shipments ($1,000)',\n",
    "       'avg travel time to work (min), 16+', 'avg household income',\n",
    "       'per capita income in last 12 months', 'people in poverty',\n",
    "       'businesses', 'men owned businesses', 'female owned businesses',\n",
    "       'minority owned businesses', 'nonminority owned businesses',\n",
    "       'veteran owned businesses', 'nonveteran owned businesses',\n",
    "       'population per square mile','land area in square miles']\n",
    "for column in continuous:\n",
    "    print(df[column].describe())\n",
    "    print('\\n')"
   ]
  },
  {
   "cell_type": "markdown",
   "metadata": {},
   "source": [
    "The percentages are in whole numbers so we're going to turn them into\n",
    "percentages by dividing by 100"
   ]
  },
  {
   "cell_type": "code",
   "execution_count": 14,
   "metadata": {},
   "outputs": [
    {
     "name": "stdout",
     "output_type": "stream",
     "text": [
      "count    2983.000000\n",
      "mean        0.062976\n",
      "std         0.014400\n",
      "min         0.000000\n",
      "25%         0.058000\n",
      "50%         0.061000\n",
      "75%         0.070000\n",
      "max         0.147000\n",
      "Name: people under age 5, dtype: float64\n",
      "\n",
      "\n",
      "count    2983.000000\n",
      "mean        0.229889\n",
      "std         0.041364\n",
      "min         0.001000\n",
      "25%         0.215000\n",
      "50%         0.224000\n",
      "75%         0.251000\n",
      "max         0.390000\n",
      "Name: people under age 18, dtype: float64\n",
      "\n",
      "\n",
      "count    2983.000000\n",
      "mean        0.157013\n",
      "std         0.049319\n",
      "min         0.021000\n",
      "25%         0.131500\n",
      "50%         0.160000\n",
      "75%         0.168000\n",
      "max         0.828000\n",
      "Name: people 65 and older, dtype: float64\n",
      "\n",
      "\n",
      "count    2983.000000\n",
      "mean        0.510576\n",
      "std         0.026934\n",
      "min         0.194000\n",
      "25%         0.506500\n",
      "50%         0.508000\n",
      "75%         0.521000\n",
      "max         0.642000\n",
      "Name: female, dtype: float64\n",
      "\n",
      "\n",
      "count    2983.000000\n",
      "mean        0.747094\n",
      "std         0.176287\n",
      "min         0.011000\n",
      "25%         0.706500\n",
      "50%         0.765000\n",
      "75%         0.873000\n",
      "max         0.994000\n",
      "Name: white, dtype: float64\n",
      "\n",
      "\n",
      "count    2983.000000\n",
      "mean        0.130487\n",
      "std         0.156769\n",
      "min         0.000000\n",
      "25%         0.023500\n",
      "50%         0.109000\n",
      "75%         0.134000\n",
      "max         0.974000\n",
      "Name: black, dtype: float64\n",
      "\n",
      "\n",
      "count    2983.000000\n",
      "mean        0.008867\n",
      "std         0.022438\n",
      "min         0.000000\n",
      "25%         0.002000\n",
      "50%         0.005000\n",
      "75%         0.013000\n",
      "max         0.620000\n",
      "Name: american indian or alaska native, dtype: float64\n",
      "\n",
      "\n",
      "count    2983.000000\n",
      "mean        0.047992\n",
      "std         0.068294\n",
      "min         0.000000\n",
      "25%         0.011000\n",
      "50%         0.033000\n",
      "75%         0.059000\n",
      "max         0.678000\n",
      "Name: asian, dtype: float64\n",
      "\n",
      "\n",
      "count    2983.000000\n",
      "mean        0.001496\n",
      "std         0.003498\n",
      "min         0.000000\n",
      "25%         0.000000\n",
      "50%         0.001000\n",
      "75%         0.002000\n",
      "max         0.106000\n",
      "Name: native hawaiian and other pacific islander, dtype: float64\n",
      "\n",
      "\n",
      "count    2983.000000\n",
      "mean        0.030242\n",
      "std         0.017185\n",
      "min         0.000000\n",
      "25%         0.021000\n",
      "50%         0.027000\n",
      "75%         0.036000\n",
      "max         0.310000\n",
      "Name: 2+ races, dtype: float64\n",
      "\n",
      "\n",
      "count    2983.000000\n",
      "mean        0.173130\n",
      "std         0.176124\n",
      "min         0.000000\n",
      "25%         0.047000\n",
      "50%         0.162000\n",
      "75%         0.183000\n",
      "max         0.980000\n",
      "Name: hispanic, dtype: float64\n",
      "\n",
      "\n",
      "count    2983.000000\n",
      "mean        0.122177\n",
      "std         0.103507\n",
      "min         0.000000\n",
      "25%         0.041000\n",
      "50%         0.126000\n",
      "75%         0.135000\n",
      "max         0.743000\n",
      "Name: foreign born, dtype: float64\n",
      "\n",
      "\n",
      "count    2983.000000\n",
      "mean        0.610558\n",
      "std         0.114062\n",
      "min         0.086000\n",
      "25%         0.552000\n",
      "50%         0.638000\n",
      "75%         0.650000\n",
      "max         0.976000\n",
      "Name: owner occupied houses, dtype: float64\n",
      "\n",
      "\n",
      "count    2983.000000\n",
      "mean        0.841905\n",
      "std         0.054118\n",
      "min         0.000000\n",
      "25%         0.823500\n",
      "50%         0.855000\n",
      "75%         0.865500\n",
      "max         0.961000\n",
      "Name: living in same house for over a year, dtype: float64\n",
      "\n",
      "\n",
      "count    2983.000000\n",
      "mean        0.197078\n",
      "std         0.169039\n",
      "min         0.001000\n",
      "25%         0.065000\n",
      "50%         0.202000\n",
      "75%         0.215000\n",
      "max         0.955000\n",
      "Name: language other than english spoken at home, dtype: float64\n",
      "\n",
      "\n",
      "count    2983.000000\n",
      "mean        0.878391\n",
      "std         0.058519\n",
      "min         0.493000\n",
      "25%         0.853500\n",
      "50%         0.888000\n",
      "75%         0.911000\n",
      "max         0.992000\n",
      "Name: households with computer, dtype: float64\n",
      "\n",
      "\n",
      "count    2983.000000\n",
      "mean        0.792241\n",
      "std         0.082183\n",
      "min         0.388000\n",
      "25%         0.756000\n",
      "50%         0.804000\n",
      "75%         0.837000\n",
      "max         0.976000\n",
      "Name: households with internet, dtype: float64\n",
      "\n",
      "\n",
      "count    2983.000000\n",
      "mean        0.870846\n",
      "std         0.077784\n",
      "min         0.260000\n",
      "25%         0.852500\n",
      "50%         0.877000\n",
      "75%         0.918500\n",
      "max         1.000000\n",
      "Name: high school graduate or higher, 25+, dtype: float64\n",
      "\n",
      "\n",
      "count    2983.000000\n",
      "mean        0.294986\n",
      "std         0.137524\n",
      "min         0.005000\n",
      "25%         0.193000\n",
      "50%         0.315000\n",
      "75%         0.316500\n",
      "max         0.851000\n",
      "Name: bachelors degree or higher, 25+, dtype: float64\n",
      "\n",
      "\n",
      "count    2983.000000\n",
      "mean        0.091618\n",
      "std         0.033932\n",
      "min         0.012000\n",
      "25%         0.073000\n",
      "50%         0.086000\n",
      "75%         0.107000\n",
      "max         0.296000\n",
      "Name: with disability, under 65, dtype: float64\n",
      "\n",
      "\n",
      "count    2983.000000\n",
      "mean        0.102051\n",
      "std         0.048264\n",
      "min         0.000000\n",
      "25%         0.072000\n",
      "50%         0.100000\n",
      "75%         0.118000\n",
      "max         0.411000\n",
      "Name: without health insurance, under 65, dtype: float64\n",
      "\n",
      "\n",
      "count    2983.000000\n",
      "mean        0.621598\n",
      "std         0.072114\n",
      "min         0.000000\n",
      "25%         0.596000\n",
      "50%         0.629000\n",
      "75%         0.655000\n",
      "max         0.849000\n",
      "Name: total labor force, 16+, dtype: float64\n",
      "\n",
      "\n",
      "count    2983.000000\n",
      "mean        0.576984\n",
      "std         0.065014\n",
      "min         0.000000\n",
      "25%         0.550000\n",
      "50%         0.582000\n",
      "75%         0.606000\n",
      "max         0.811000\n",
      "Name: female labor force, 16+, dtype: float64\n",
      "\n",
      "\n",
      "count    2983.000000\n",
      "mean        0.149327\n",
      "std         0.078190\n",
      "min         0.000000\n",
      "25%         0.111000\n",
      "50%         0.118000\n",
      "75%         0.188000\n",
      "max         0.491000\n",
      "Name: people in poverty, dtype: float64\n",
      "\n",
      "\n"
     ]
    }
   ],
   "source": [
    "percentages = ['people under age 5', 'people under age 18', 'people 65 and older',\n",
    "       'female', 'white', 'black', 'american indian or alaska native', 'asian',\n",
    "       'native hawaiian and other pacific islander', '2+ races', 'hispanic',\n",
    "       'foreign born', 'owner occupied houses','living in same house for over a year',\n",
    "       'language other than english spoken at home',\n",
    "       'households with computer', 'households with internet',\n",
    "       'high school graduate or higher, 25+',\n",
    "       'bachelors degree or higher, 25+', 'with disability, under 65',\n",
    "       'without health insurance, under 65', 'total labor force, 16+',\n",
    "       'female labor force, 16+', 'people in poverty']\n",
    "for column in percentages:\n",
    "    df[column]=df[column]/100\n",
    "    print(df[column].describe())\n",
    "    print('\\n')"
   ]
  },
  {
   "cell_type": "markdown",
   "metadata": {},
   "source": [
    "Turning veteran into % of population "
   ]
  },
  {
   "cell_type": "code",
   "execution_count": 33,
   "metadata": {},
   "outputs": [],
   "source": [
    "df['veteran'] = (df['veteran']/df['population'])"
   ]
  },
  {
   "cell_type": "markdown",
   "metadata": {},
   "source": [
    "Most of the business counts by category can be interprolated from \n",
    "the others so removing them for multi-collinearity. Population per square mile can also be interprolated from population and land area so dropping it."
   ]
  },
  {
   "cell_type": "code",
   "execution_count": 34,
   "metadata": {},
   "outputs": [],
   "source": [
    "df.drop(columns = ['men owned businesses','nonminority owned businesses','nonveteran owned businesses','population per square mile'],inplace=True)"
   ]
  },
  {
   "cell_type": "markdown",
   "metadata": {},
   "source": [
    "Turning columns where we have counts and total into % to standardize\n",
    "a bit"
   ]
  },
  {
   "cell_type": "code",
   "execution_count": 41,
   "metadata": {},
   "outputs": [],
   "source": [
    "df['female owned businesses']=df['female owned businesses']/df['businesses']\n",
    "df['minority owned businesses']=df['minority owned businesses']/df['businesses']\n",
    "df[]\n",
    "\n",
    "\n",
    "\n"
   ]
  },
  {
   "cell_type": "code",
   "execution_count": 42,
   "metadata": {},
   "outputs": [
    {
     "data": {
      "text/plain": [
       "0       6.099200\n",
       "1       7.208730\n",
       "2       6.484080\n",
       "3       8.729057\n",
       "4       4.854964\n",
       "          ...   \n",
       "2978    5.870715\n",
       "2979    4.903691\n",
       "2980    6.741653\n",
       "2981    5.688657\n",
       "2982    5.688657\n",
       "Name: veteran, Length: 2983, dtype: float64"
      ]
     },
     "execution_count": 42,
     "metadata": {},
     "output_type": "execute_result"
    }
   ],
   "source": [
    "df['veteran']"
   ]
  },
  {
   "cell_type": "code",
   "execution_count": null,
   "metadata": {},
   "outputs": [],
   "source": []
  },
  {
   "cell_type": "code",
   "execution_count": null,
   "metadata": {},
   "outputs": [],
   "source": []
  },
  {
   "cell_type": "code",
   "execution_count": null,
   "metadata": {},
   "outputs": [],
   "source": []
  },
  {
   "cell_type": "code",
   "execution_count": null,
   "metadata": {},
   "outputs": [],
   "source": []
  },
  {
   "cell_type": "code",
   "execution_count": 36,
   "metadata": {},
   "outputs": [],
   "source": [
    "#new continuous columns list\n",
    "continuous = ['population',\n",
    "       'people under age 5', 'people under age 18', 'people 65 and older',\n",
    "       'female', 'white', 'black', 'american indian or alaska native', 'asian',\n",
    "       'native hawaiian and other pacific islander', '2+ races', 'hispanic',\n",
    "       'veteran', 'foreign born', 'owner occupied houses',\n",
    "       'avg value of owner occupied houses', 'avg rent', 'households',\n",
    "       'people per household', 'living in same house for over a year',\n",
    "       'language other than english spoken at home',\n",
    "       'households with computer', 'households with internet',\n",
    "       'high school graduate or higher, 25+',\n",
    "       'bachelors degree or higher, 25+', 'with disability, under 65',\n",
    "       'without health insurance, under 65', 'total labor force, 16+',\n",
    "       'female labor force, 16+',\n",
    "       'healthcare and social assistance revenue ($1,000)',\n",
    "       'manufacturers shipments ($1,000)',\n",
    "       'avg travel time to work (min), 16+', 'avg household income',\n",
    "       'per capita income in last 12 months', 'people in poverty',\n",
    "       'businesses', 'female owned businesses',\n",
    "       'minority owned businesses',\n",
    "       'veteran owned businesses','land area in square miles']"
   ]
  },
  {
   "cell_type": "code",
   "execution_count": null,
   "metadata": {},
   "outputs": [],
   "source": []
  },
  {
   "cell_type": "code",
   "execution_count": 37,
   "metadata": {},
   "outputs": [
    {
     "name": "stdout",
     "output_type": "stream",
     "text": [
      "With Outliers:\n"
     ]
    },
    {
     "data": {
      "image/png": "[encoded data removed]",
      "text/plain": [
       "<Figure size 432x288 with 1 Axes>"
      ]
     },
     "metadata": {
      "needs_background": "light"
     },
     "output_type": "display_data"
    },
    {
     "data": {
      "image/png": "[encoded data removed]",
      "text/plain": [
       "<Figure size 432x288 with 1 Axes>"
      ]
     },
     "metadata": {
      "needs_background": "light"
     },
     "output_type": "display_data"
    },
    {
     "data": {
      "image/png": "[encoded data removed]",
      "text/plain": [
       "<Figure size 432x288 with 1 Axes>"
      ]
     },
     "metadata": {
      "needs_background": "light"
     },
     "output_type": "display_data"
    },
    {
     "data": {
      "image/png": "[encoded data removed]",
      "text/plain": [
       "<Figure size 432x288 with 1 Axes>"
      ]
     },
     "metadata": {
      "needs_background": "light"
     },
     "output_type": "display_data"
    },
    {
     "data": {
      "image/png": "[encoded data removed]",
      "text/plain": [
       "<Figure size 432x288 with 1 Axes>"
      ]
     },
     "metadata": {
      "needs_background": "light"
     },
     "output_type": "display_data"
    },
    {
     "data": {
      "image/png": "[encoded data removed]",
      "text/plain": [
       "<Figure size 432x288 with 1 Axes>"
      ]
     },
     "metadata": {
      "needs_background": "light"
     },
     "output_type": "display_data"
    },
    {
     "data": {
      "image/png": "[encoded data removed]",
      "text/plain": [
       "<Figure size 432x288 with 1 Axes>"
      ]
     },
     "metadata": {
      "needs_background": "light"
     },
     "output_type": "display_data"
    },
    {
     "data": {
      "image/png": "[encoded data removed]",
      "text/plain": [
       "<Figure size 432x288 with 1 Axes>"
      ]
     },
     "metadata": {
      "needs_background": "light"
     },
     "output_type": "display_data"
    },
    {
     "data": {
      "image/png": "[encoded data removed]",
      "text/plain": [
       "<Figure size 432x288 with 1 Axes>"
      ]
     },
     "metadata": {
      "needs_background": "light"
     },
     "output_type": "display_data"
    },
    {
     "data": {
      "image/png": "[encoded data removed]",
      "text/plain": [
       "<Figure size 432x288 with 1 Axes>"
      ]
     },
     "metadata": {
      "needs_background": "light"
     },
     "output_type": "display_data"
    },
    {
     "data": {
      "image/png": "[encoded data removed]",
      "text/plain": [
       "<Figure size 432x288 with 1 Axes>"
      ]
     },
     "metadata": {
      "needs_background": "light"
     },
     "output_type": "display_data"
    },
    {
     "data": {
      "image/png": "[encoded data removed]",
      "text/plain": [
       "<Figure size 432x288 with 1 Axes>"
      ]
     },
     "metadata": {
      "needs_background": "light"
     },
     "output_type": "display_data"
    },
    {
     "data": {
      "image/png": "[encoded data removed]",
      "text/plain": [
       "<Figure size 432x288 with 1 Axes>"
      ]
     },
     "metadata": {
      "needs_background": "light"
     },
     "output_type": "display_data"
    },
    {
     "data": {
      "image/png": "[encoded data removed]",
      "text/plain": [
       "<Figure size 432x288 with 1 Axes>"
      ]
     },
     "metadata": {
      "needs_background": "light"
     },
     "output_type": "display_data"
    },
    {
     "data": {
      "image/png": "[encoded data removed]",
      "text/plain": [
       "<Figure size 432x288 with 1 Axes>"
      ]
     },
     "metadata": {
      "needs_background": "light"
     },
     "output_type": "display_data"
    },
    {
     "data": {
      "image/png": "[encoded data removed]",
      "text/plain": [
       "<Figure size 432x288 with 1 Axes>"
      ]
     },
     "metadata": {
      "needs_background": "light"
     },
     "output_type": "display_data"
    },
    {
     "data": {
      "image/png": "[encoded data removed]",
      "text/plain": [
       "<Figure size 432x288 with 1 Axes>"
      ]
     },
     "metadata": {
      "needs_background": "light"
     },
     "output_type": "display_data"
    },
    {
     "data": {
      "image/png": "[encoded data removed]",
      "text/plain": [
       "<Figure size 432x288 with 1 Axes>"
      ]
     },
     "metadata": {
      "needs_background": "light"
     },
     "output_type": "display_data"
    },
    {
     "data": {
      "image/png": "[encoded data removed]",
      "text/plain": [
       "<Figure size 432x288 with 1 Axes>"
      ]
     },
     "metadata": {
      "needs_background": "light"
     },
     "output_type": "display_data"
    },
    {
     "data": {
      "image/png": "[encoded data removed]",
      "text/plain": [
       "<Figure size 432x288 with 1 Axes>"
      ]
     },
     "metadata": {
      "needs_background": "light"
     },
     "output_type": "display_data"
    },
    {
     "data": {
      "image/png": "[encoded data removed]",
      "text/plain": [
       "<Figure size 432x288 with 1 Axes>"
      ]
     },
     "metadata": {
      "needs_background": "light"
     },
     "output_type": "display_data"
    },
    {
     "data": {
      "image/png": "[encoded data removed]",
      "text/plain": [
       "<Figure size 432x288 with 1 Axes>"
      ]
     },
     "metadata": {
      "needs_background": "light"
     },
     "output_type": "display_data"
    },
    {
     "data": {
      "image/png": "[encoded data removed]",
      "text/plain": [
       "<Figure size 432x288 with 1 Axes>"
      ]
     },
     "metadata": {
      "needs_background": "light"
     },
     "output_type": "display_data"
    },
    {
     "data": {
      "image/png": "[encoded data removed]",
      "text/plain": [
       "<Figure size 432x288 with 1 Axes>"
      ]
     },
     "metadata": {
      "needs_background": "light"
     },
     "output_type": "display_data"
    },
    {
     "data": {
      "image/png": "[encoded data removed]",
      "text/plain": [
       "<Figure size 432x288 with 1 Axes>"
      ]
     },
     "metadata": {
      "needs_background": "light"
     },
     "output_type": "display_data"
    },
    {
     "data": {
      "image/png": "[encoded data removed]",
      "text/plain": [
       "<Figure size 432x288 with 1 Axes>"
      ]
     },
     "metadata": {
      "needs_background": "light"
     },
     "output_type": "display_data"
    },
    {
     "data": {
      "image/png": "[encoded data removed]",
      "text/plain": [
       "<Figure size 432x288 with 1 Axes>"
      ]
     },
     "metadata": {
      "needs_background": "light"
     },
     "output_type": "display_data"
    },
    {
     "data": {
      "image/png": "[encoded data removed]",
      "text/plain": [
       "<Figure size 432x288 with 1 Axes>"
      ]
     },
     "metadata": {
      "needs_background": "light"
     },
     "output_type": "display_data"
    },
    {
     "data": {
      "image/png": "[encoded data removed]",
      "text/plain": [
       "<Figure size 432x288 with 1 Axes>"
      ]
     },
     "metadata": {
      "needs_background": "light"
     },
     "output_type": "display_data"
    },
    {
     "data": {
      "image/png": "[encoded data removed]",
      "text/plain": [
       "<Figure size 432x288 with 1 Axes>"
      ]
     },
     "metadata": {
      "needs_background": "light"
     },
     "output_type": "display_data"
    },
    {
     "data": {
      "image/png": "[encoded data removed]",
      "text/plain": [
       "<Figure size 432x288 with 1 Axes>"
      ]
     },
     "metadata": {
      "needs_background": "light"
     },
     "output_type": "display_data"
    },
    {
     "data": {
      "image/png": "[encoded data removed]",
      "text/plain": [
       "<Figure size 432x288 with 1 Axes>"
      ]
     },
     "metadata": {
      "needs_background": "light"
     },
     "output_type": "display_data"
    },
    {
     "data": {
      "image/png": "[encoded data removed]",
      "text/plain": [
       "<Figure size 432x288 with 1 Axes>"
      ]
     },
     "metadata": {
      "needs_background": "light"
     },
     "output_type": "display_data"
    },
    {
     "data": {
      "image/png": "[encoded data removed]",
      "text/plain": [
       "<Figure size 432x288 with 1 Axes>"
      ]
     },
     "metadata": {
      "needs_background": "light"
     },
     "output_type": "display_data"
    },
    {
     "data": {
      "image/png": "[encoded data removed]",
      "text/plain": [
       "<Figure size 432x288 with 1 Axes>"
      ]
     },
     "metadata": {
      "needs_background": "light"
     },
     "output_type": "display_data"
    },
    {
     "data": {
      "image/png": "[encoded data removed]",
      "text/plain": [
       "<Figure size 432x288 with 1 Axes>"
      ]
     },
     "metadata": {
      "needs_background": "light"
     },
     "output_type": "display_data"
    },
    {
     "data": {
      "image/png": "[encoded data removed]",
      "text/plain": [
       "<Figure size 432x288 with 1 Axes>"
      ]
     },
     "metadata": {
      "needs_background": "light"
     },
     "output_type": "display_data"
    },
    {
     "data": {
      "image/png": "[encoded data removed]",
      "text/plain": [
       "<Figure size 432x288 with 1 Axes>"
      ]
     },
     "metadata": {
      "needs_background": "light"
     },
     "output_type": "display_data"
    },
    {
     "data": {
      "image/png": "[encoded data removed]",
      "text/plain": [
       "<Figure size 432x288 with 1 Axes>"
      ]
     },
     "metadata": {
      "needs_background": "light"
     },
     "output_type": "display_data"
    },
    {
     "data": {
      "image/png": "[encoded data removed]",
      "text/plain": [
       "<Figure size 432x288 with 1 Axes>"
      ]
     },
     "metadata": {
      "needs_background": "light"
     },
     "output_type": "display_data"
    }
   ],
   "source": [
    "print(\"With Outliers:\")\n",
    "for column in continuous:\n",
    "    df.boxplot(column=column)\n",
    "    plt.show()"
   ]
  },
  {
   "cell_type": "code",
   "execution_count": 38,
   "metadata": {},
   "outputs": [],
   "source": [
    "\n",
    "def remove_outliers(continous_columns, dataframe):\n",
    "    \"\"\"Return a dataframe with any values below the lower fence and above the upper fence removed from given columns in the given dataframe.\"\"\"\n",
    "    for column in continous_columns:\n",
    "        # calculate values for lower fence and upper fence\n",
    "        Q1 = dataframe[column].quantile(0.25)\n",
    "        Q3 = dataframe[column].quantile(0.75)\n",
    "        IQR = Q3 - Q1\n",
    "        lower_fence = Q1 - 1.5 * IQR\n",
    "        upper_fence = Q3 + 1.5 * IQR\n",
    "        # remove rows from dataframe which fall out of this range\n",
    "        num_removing = dataframe.shape[0]\n",
    "        new_df = dataframe[dataframe[column] > lower_fence]\n",
    "        new_df = dataframe[dataframe[column] < upper_fence]\n",
    "        num_removing -= new_df.shape[0]\n",
    "        print(f\"{num_removing} rows will be removed from {column}.\")\n",
    "    return new_df"
   ]
  },
  {
   "cell_type": "code",
   "execution_count": 39,
   "metadata": {
    "scrolled": true
   },
   "outputs": [
    {
     "name": "stdout",
     "output_type": "stream",
     "text": [
      "0 rows will be removed from population.\n",
      "170 rows will be removed from people under age 5.\n",
      "134 rows will be removed from people under age 18.\n",
      "176 rows will be removed from people 65 and older.\n",
      "178 rows will be removed from female.\n",
      "0 rows will be removed from white.\n",
      "317 rows will be removed from black.\n",
      "66 rows will be removed from american indian or alaska native.\n",
      "164 rows will be removed from asian.\n",
      "178 rows will be removed from native hawaiian and other pacific islander.\n",
      "197 rows will be removed from 2+ races.\n",
      "289 rows will be removed from hispanic.\n",
      "181 rows will be removed from veteran.\n",
      "273 rows will be removed from foreign born.\n",
      "154 rows will be removed from owner occupied houses.\n",
      "382 rows will be removed from avg value of owner occupied houses.\n",
      "244 rows will be removed from avg rent.\n",
      "0 rows will be removed from households.\n",
      "250 rows will be removed from people per household.\n",
      "61 rows will be removed from living in same house for over a year.\n",
      "275 rows will be removed from language other than english spoken at home.\n",
      "0 rows will be removed from households with computer.\n",
      "6 rows will be removed from households with internet.\n",
      "0 rows will be removed from high school graduate or higher, 25+.\n",
      "261 rows will be removed from bachelors degree or higher, 25+.\n",
      "154 rows will be removed from with disability, under 65.\n",
      "178 rows will be removed from without health insurance, under 65.\n",
      "82 rows will be removed from total labor force, 16+.\n",
      "113 rows will be removed from female labor force, 16+.\n",
      "0 rows will be removed from healthcare and social assistance revenue ($1,000).\n",
      "0 rows will be removed from manufacturers shipments ($1,000).\n",
      "61 rows will be removed from avg travel time to work (min), 16+.\n",
      "278 rows will be removed from avg household income.\n",
      "221 rows will be removed from per capita income in last 12 months.\n",
      "166 rows will be removed from people in poverty.\n",
      "0 rows will be removed from businesses.\n",
      "0 rows will be removed from female owned businesses.\n",
      "0 rows will be removed from minority owned businesses.\n",
      "0 rows will be removed from veteran owned businesses.\n",
      "0 rows will be removed from land area in square miles.\n"
     ]
    },
    {
     "data": {
      "text/html": [
       "<div>\n",
       "<style scoped>\n",
       "    .dataframe tbody tr th:only-of-type {\n",
       "        vertical-align: middle;\n",
       "    }\n",
       "\n",
       "    .dataframe tbody tr th {\n",
       "        vertical-align: top;\n",
       "    }\n",
       "\n",
       "    .dataframe thead th {\n",
       "        text-align: right;\n",
       "    }\n",
       "</style>\n",
       "<table border=\"1\" class=\"dataframe\">\n",
       "  <thead>\n",
       "    <tr style=\"text-align: right;\">\n",
       "      <th></th>\n",
       "      <th>political affiliation</th>\n",
       "      <th>population</th>\n",
       "      <th>people under age 5</th>\n",
       "      <th>people under age 18</th>\n",
       "      <th>people 65 and older</th>\n",
       "      <th>female</th>\n",
       "      <th>white</th>\n",
       "      <th>black</th>\n",
       "      <th>american indian or alaska native</th>\n",
       "      <th>asian</th>\n",
       "      <th>...</th>\n",
       "      <th>manufacturers shipments ($1,000)</th>\n",
       "      <th>avg travel time to work (min), 16+</th>\n",
       "      <th>avg household income</th>\n",
       "      <th>per capita income in last 12 months</th>\n",
       "      <th>people in poverty</th>\n",
       "      <th>businesses</th>\n",
       "      <th>female owned businesses</th>\n",
       "      <th>minority owned businesses</th>\n",
       "      <th>veteran owned businesses</th>\n",
       "      <th>land area in square miles</th>\n",
       "    </tr>\n",
       "  </thead>\n",
       "  <tbody>\n",
       "    <tr>\n",
       "      <td>0</td>\n",
       "      <td>liberal</td>\n",
       "      <td>209880</td>\n",
       "      <td>6.5</td>\n",
       "      <td>20.3</td>\n",
       "      <td>14.2</td>\n",
       "      <td>53.1</td>\n",
       "      <td>25.3</td>\n",
       "      <td>70.5</td>\n",
       "      <td>0.2</td>\n",
       "      <td>0.9</td>\n",
       "      <td>...</td>\n",
       "      <td>4118352</td>\n",
       "      <td>21.8</td>\n",
       "      <td>35346</td>\n",
       "      <td>22993</td>\n",
       "      <td>27.2</td>\n",
       "      <td>20738</td>\n",
       "      <td>8286</td>\n",
       "      <td>10605</td>\n",
       "      <td>2082</td>\n",
       "      <td>0</td>\n",
       "    </tr>\n",
       "    <tr>\n",
       "      <td>1</td>\n",
       "      <td>liberal</td>\n",
       "      <td>198218</td>\n",
       "      <td>6.8</td>\n",
       "      <td>24.0</td>\n",
       "      <td>13.7</td>\n",
       "      <td>53.0</td>\n",
       "      <td>33.3</td>\n",
       "      <td>60.6</td>\n",
       "      <td>0.2</td>\n",
       "      <td>2.8</td>\n",
       "      <td>...</td>\n",
       "      <td>9125080</td>\n",
       "      <td>19.7</td>\n",
       "      <td>45921</td>\n",
       "      <td>27172</td>\n",
       "      <td>21.9</td>\n",
       "      <td>18043</td>\n",
       "      <td>7459</td>\n",
       "      <td>8793</td>\n",
       "      <td>2352</td>\n",
       "      <td>0</td>\n",
       "    </tr>\n",
       "    <tr>\n",
       "      <td>2</td>\n",
       "      <td>liberal</td>\n",
       "      <td>189572</td>\n",
       "      <td>6.3</td>\n",
       "      <td>21.7</td>\n",
       "      <td>16.0</td>\n",
       "      <td>52.6</td>\n",
       "      <td>44.8</td>\n",
       "      <td>50.6</td>\n",
       "      <td>0.2</td>\n",
       "      <td>1.8</td>\n",
       "      <td>...</td>\n",
       "      <td>3274416</td>\n",
       "      <td>22.4</td>\n",
       "      <td>40588</td>\n",
       "      <td>26023</td>\n",
       "      <td>22.0</td>\n",
       "      <td>20118</td>\n",
       "      <td>8644</td>\n",
       "      <td>8808</td>\n",
       "      <td>2275</td>\n",
       "      <td>0</td>\n",
       "    </tr>\n",
       "    <tr>\n",
       "      <td>3</td>\n",
       "      <td>liberal</td>\n",
       "      <td>197318</td>\n",
       "      <td>6.4</td>\n",
       "      <td>21.1</td>\n",
       "      <td>15.7</td>\n",
       "      <td>51.9</td>\n",
       "      <td>61.6</td>\n",
       "      <td>30.6</td>\n",
       "      <td>0.4</td>\n",
       "      <td>2.7</td>\n",
       "      <td>...</td>\n",
       "      <td>6213842</td>\n",
       "      <td>19.1</td>\n",
       "      <td>53840</td>\n",
       "      <td>34589</td>\n",
       "      <td>17.7</td>\n",
       "      <td>16838</td>\n",
       "      <td>6565</td>\n",
       "      <td>4380</td>\n",
       "      <td>1816</td>\n",
       "      <td>0</td>\n",
       "    </tr>\n",
       "    <tr>\n",
       "      <td>4</td>\n",
       "      <td>liberal</td>\n",
       "      <td>101113</td>\n",
       "      <td>5.9</td>\n",
       "      <td>18.8</td>\n",
       "      <td>11.7</td>\n",
       "      <td>52.4</td>\n",
       "      <td>51.1</td>\n",
       "      <td>44.1</td>\n",
       "      <td>0.3</td>\n",
       "      <td>2.4</td>\n",
       "      <td>...</td>\n",
       "      <td>4234819</td>\n",
       "      <td>19.3</td>\n",
       "      <td>44120</td>\n",
       "      <td>25364</td>\n",
       "      <td>24.2</td>\n",
       "      <td>6802</td>\n",
       "      <td>2530</td>\n",
       "      <td>1953</td>\n",
       "      <td>670</td>\n",
       "      <td>0</td>\n",
       "    </tr>\n",
       "    <tr>\n",
       "      <td>...</td>\n",
       "      <td>...</td>\n",
       "      <td>...</td>\n",
       "      <td>...</td>\n",
       "      <td>...</td>\n",
       "      <td>...</td>\n",
       "      <td>...</td>\n",
       "      <td>...</td>\n",
       "      <td>...</td>\n",
       "      <td>...</td>\n",
       "      <td>...</td>\n",
       "      <td>...</td>\n",
       "      <td>...</td>\n",
       "      <td>...</td>\n",
       "      <td>...</td>\n",
       "      <td>...</td>\n",
       "      <td>...</td>\n",
       "      <td>...</td>\n",
       "      <td>...</td>\n",
       "      <td>...</td>\n",
       "      <td>...</td>\n",
       "      <td>...</td>\n",
       "    </tr>\n",
       "    <tr>\n",
       "      <td>2978</td>\n",
       "      <td>liberal</td>\n",
       "      <td>29315</td>\n",
       "      <td>6.5</td>\n",
       "      <td>23.5</td>\n",
       "      <td>16.9</td>\n",
       "      <td>50.9</td>\n",
       "      <td>86.0</td>\n",
       "      <td>4.7</td>\n",
       "      <td>0.4</td>\n",
       "      <td>0.5</td>\n",
       "      <td>...</td>\n",
       "      <td>251310</td>\n",
       "      <td>14.7</td>\n",
       "      <td>31595</td>\n",
       "      <td>19304</td>\n",
       "      <td>31.4</td>\n",
       "      <td>1663</td>\n",
       "      <td>474</td>\n",
       "      <td>98</td>\n",
       "      <td>135</td>\n",
       "      <td>0</td>\n",
       "    </tr>\n",
       "    <tr>\n",
       "      <td>2979</td>\n",
       "      <td>liberal</td>\n",
       "      <td>27204</td>\n",
       "      <td>7.4</td>\n",
       "      <td>23.9</td>\n",
       "      <td>12.6</td>\n",
       "      <td>50.2</td>\n",
       "      <td>75.5</td>\n",
       "      <td>14.9</td>\n",
       "      <td>0.9</td>\n",
       "      <td>0.5</td>\n",
       "      <td>...</td>\n",
       "      <td>385576</td>\n",
       "      <td>18.2</td>\n",
       "      <td>33958</td>\n",
       "      <td>17666</td>\n",
       "      <td>28.7</td>\n",
       "      <td>1478</td>\n",
       "      <td>602</td>\n",
       "      <td>250</td>\n",
       "      <td>177</td>\n",
       "      <td>0</td>\n",
       "    </tr>\n",
       "    <tr>\n",
       "      <td>2980</td>\n",
       "      <td>liberal</td>\n",
       "      <td>28005</td>\n",
       "      <td>4.1</td>\n",
       "      <td>14.8</td>\n",
       "      <td>20.0</td>\n",
       "      <td>51.1</td>\n",
       "      <td>92.1</td>\n",
       "      <td>2.1</td>\n",
       "      <td>0.1</td>\n",
       "      <td>3.7</td>\n",
       "      <td>...</td>\n",
       "      <td>561164</td>\n",
       "      <td>23.1</td>\n",
       "      <td>78402</td>\n",
       "      <td>50775</td>\n",
       "      <td>5.0</td>\n",
       "      <td>3410</td>\n",
       "      <td>1086</td>\n",
       "      <td>198</td>\n",
       "      <td>428</td>\n",
       "      <td>0</td>\n",
       "    </tr>\n",
       "    <tr>\n",
       "      <td>2981</td>\n",
       "      <td>conservative</td>\n",
       "      <td>327167434</td>\n",
       "      <td>6.1</td>\n",
       "      <td>22.4</td>\n",
       "      <td>16.0</td>\n",
       "      <td>50.8</td>\n",
       "      <td>76.5</td>\n",
       "      <td>13.4</td>\n",
       "      <td>1.3</td>\n",
       "      <td>5.9</td>\n",
       "      <td>...</td>\n",
       "      <td>5696729632</td>\n",
       "      <td>26.6</td>\n",
       "      <td>60293</td>\n",
       "      <td>32621</td>\n",
       "      <td>11.8</td>\n",
       "      <td>27626360</td>\n",
       "      <td>9878397</td>\n",
       "      <td>7952386</td>\n",
       "      <td>2521682</td>\n",
       "      <td>128591812</td>\n",
       "    </tr>\n",
       "    <tr>\n",
       "      <td>2982</td>\n",
       "      <td>NaN</td>\n",
       "      <td>327167434</td>\n",
       "      <td>6.1</td>\n",
       "      <td>22.4</td>\n",
       "      <td>16.0</td>\n",
       "      <td>50.8</td>\n",
       "      <td>76.5</td>\n",
       "      <td>13.4</td>\n",
       "      <td>1.3</td>\n",
       "      <td>5.9</td>\n",
       "      <td>...</td>\n",
       "      <td>5696729632</td>\n",
       "      <td>26.6</td>\n",
       "      <td>60293</td>\n",
       "      <td>32621</td>\n",
       "      <td>11.8</td>\n",
       "      <td>27626360</td>\n",
       "      <td>9878397</td>\n",
       "      <td>7952386</td>\n",
       "      <td>2521682</td>\n",
       "      <td>128591812</td>\n",
       "    </tr>\n",
       "  </tbody>\n",
       "</table>\n",
       "<p>2983 rows × 41 columns</p>\n",
       "</div>"
      ],
      "text/plain": [
       "     political affiliation  population  people under age 5  \\\n",
       "0                  liberal      209880                 6.5   \n",
       "1                  liberal      198218                 6.8   \n",
       "2                  liberal      189572                 6.3   \n",
       "3                  liberal      197318                 6.4   \n",
       "4                  liberal      101113                 5.9   \n",
       "...                    ...         ...                 ...   \n",
       "2978               liberal       29315                 6.5   \n",
       "2979               liberal       27204                 7.4   \n",
       "2980               liberal       28005                 4.1   \n",
       "2981          conservative   327167434                 6.1   \n",
       "2982                   NaN   327167434                 6.1   \n",
       "\n",
       "      people under age 18  people 65 and older  female  white  black  \\\n",
       "0                    20.3                 14.2    53.1   25.3   70.5   \n",
       "1                    24.0                 13.7    53.0   33.3   60.6   \n",
       "2                    21.7                 16.0    52.6   44.8   50.6   \n",
       "3                    21.1                 15.7    51.9   61.6   30.6   \n",
       "4                    18.8                 11.7    52.4   51.1   44.1   \n",
       "...                   ...                  ...     ...    ...    ...   \n",
       "2978                 23.5                 16.9    50.9   86.0    4.7   \n",
       "2979                 23.9                 12.6    50.2   75.5   14.9   \n",
       "2980                 14.8                 20.0    51.1   92.1    2.1   \n",
       "2981                 22.4                 16.0    50.8   76.5   13.4   \n",
       "2982                 22.4                 16.0    50.8   76.5   13.4   \n",
       "\n",
       "      american indian or alaska native  asian  ...  \\\n",
       "0                                  0.2    0.9  ...   \n",
       "1                                  0.2    2.8  ...   \n",
       "2                                  0.2    1.8  ...   \n",
       "3                                  0.4    2.7  ...   \n",
       "4                                  0.3    2.4  ...   \n",
       "...                                ...    ...  ...   \n",
       "2978                               0.4    0.5  ...   \n",
       "2979                               0.9    0.5  ...   \n",
       "2980                               0.1    3.7  ...   \n",
       "2981                               1.3    5.9  ...   \n",
       "2982                               1.3    5.9  ...   \n",
       "\n",
       "      manufacturers shipments ($1,000)  avg travel time to work (min), 16+  \\\n",
       "0                              4118352                                21.8   \n",
       "1                              9125080                                19.7   \n",
       "2                              3274416                                22.4   \n",
       "3                              6213842                                19.1   \n",
       "4                              4234819                                19.3   \n",
       "...                                ...                                 ...   \n",
       "2978                            251310                                14.7   \n",
       "2979                            385576                                18.2   \n",
       "2980                            561164                                23.1   \n",
       "2981                        5696729632                                26.6   \n",
       "2982                        5696729632                                26.6   \n",
       "\n",
       "      avg household income  per capita income in last 12 months  \\\n",
       "0                    35346                                22993   \n",
       "1                    45921                                27172   \n",
       "2                    40588                                26023   \n",
       "3                    53840                                34589   \n",
       "4                    44120                                25364   \n",
       "...                    ...                                  ...   \n",
       "2978                 31595                                19304   \n",
       "2979                 33958                                17666   \n",
       "2980                 78402                                50775   \n",
       "2981                 60293                                32621   \n",
       "2982                 60293                                32621   \n",
       "\n",
       "      people in poverty  businesses  female owned businesses  \\\n",
       "0                  27.2       20738                     8286   \n",
       "1                  21.9       18043                     7459   \n",
       "2                  22.0       20118                     8644   \n",
       "3                  17.7       16838                     6565   \n",
       "4                  24.2        6802                     2530   \n",
       "...                 ...         ...                      ...   \n",
       "2978               31.4        1663                      474   \n",
       "2979               28.7        1478                      602   \n",
       "2980                5.0        3410                     1086   \n",
       "2981               11.8    27626360                  9878397   \n",
       "2982               11.8    27626360                  9878397   \n",
       "\n",
       "      minority owned businesses  veteran owned businesses  \\\n",
       "0                         10605                      2082   \n",
       "1                          8793                      2352   \n",
       "2                          8808                      2275   \n",
       "3                          4380                      1816   \n",
       "4                          1953                       670   \n",
       "...                         ...                       ...   \n",
       "2978                         98                       135   \n",
       "2979                        250                       177   \n",
       "2980                        198                       428   \n",
       "2981                    7952386                   2521682   \n",
       "2982                    7952386                   2521682   \n",
       "\n",
       "      land area in square miles  \n",
       "0                             0  \n",
       "1                             0  \n",
       "2                             0  \n",
       "3                             0  \n",
       "4                             0  \n",
       "...                         ...  \n",
       "2978                          0  \n",
       "2979                          0  \n",
       "2980                          0  \n",
       "2981                  128591812  \n",
       "2982                  128591812  \n",
       "\n",
       "[2983 rows x 41 columns]"
      ]
     },
     "execution_count": 39,
     "metadata": {},
     "output_type": "execute_result"
    }
   ],
   "source": [
    "remove_outliers(continuous, df)"
   ]
  },
  {
   "cell_type": "code",
   "execution_count": null,
   "metadata": {},
   "outputs": [],
   "source": [
    "df.shape"
   ]
  },
  {
   "cell_type": "code",
   "execution_count": null,
   "metadata": {},
   "outputs": [],
   "source": []
  },
  {
   "cell_type": "code",
   "execution_count": null,
   "metadata": {},
   "outputs": [],
   "source": []
  },
  {
   "cell_type": "code",
   "execution_count": null,
   "metadata": {},
   "outputs": [],
   "source": []
  },
  {
   "cell_type": "code",
   "execution_count": null,
   "metadata": {},
   "outputs": [],
   "source": []
  },
  {
   "cell_type": "code",
   "execution_count": null,
   "metadata": {},
   "outputs": [],
   "source": []
  },
  {
   "cell_type": "markdown",
   "metadata": {},
   "source": [
    "# EDA"
   ]
  },
  {
   "cell_type": "code",
   "execution_count": null,
   "metadata": {},
   "outputs": [],
   "source": [
    "\n",
    "df.rename(columns={\"political affiliation\": \"politics\"},inplace = True)"
   ]
  },
  {
   "cell_type": "code",
   "execution_count": null,
   "metadata": {},
   "outputs": [],
   "source": []
  },
  {
   "cell_type": "code",
   "execution_count": null,
   "metadata": {},
   "outputs": [],
   "source": []
  },
  {
   "cell_type": "code",
   "execution_count": null,
   "metadata": {},
   "outputs": [],
   "source": []
  },
  {
   "cell_type": "code",
   "execution_count": null,
   "metadata": {},
   "outputs": [],
   "source": []
  },
  {
   "cell_type": "code",
   "execution_count": null,
   "metadata": {},
   "outputs": [],
   "source": []
  },
  {
   "cell_type": "code",
   "execution_count": null,
   "metadata": {},
   "outputs": [],
   "source": []
  }
 ],
 "metadata": {
  "kernelspec": {
   "display_name": "Python 3",
   "language": "python",
   "name": "python3"
  },
  "language_info": {
   "codemirror_mode": {
    "name": "ipython",
    "version": 3
   },
   "file_extension": ".py",
   "mimetype": "text/x-python",
   "name": "python",
   "nbconvert_exporter": "python",
   "pygments_lexer": "ipython3",
   "version": "3.7.4"
  }
 },
 "nbformat": 4,
 "nbformat_minor": 2
}
