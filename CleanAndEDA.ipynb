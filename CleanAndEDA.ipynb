{
 "cells": [
  {
   "cell_type": "code",
   "execution_count": 1,
   "metadata": {},
   "outputs": [],
   "source": [
    "import time\n",
    "import pandas as pd\n",
    "import numpy as np\n",
    "import matplotlib.pyplot as plt\n",
    "%matplotlib inline\n",
    "import seaborn as sns"
   ]
  },
  {
   "cell_type": "code",
   "execution_count": 8,
   "metadata": {},
   "outputs": [],
   "source": [
    "df = pd.read_csv('test.csv')"
   ]
  },
  {
   "cell_type": "markdown",
   "metadata": {},
   "source": [
    "Dropping First column, land area ones since they came as blank"
   ]
  },
  {
   "cell_type": "code",
   "execution_count": 11,
   "metadata": {},
   "outputs": [],
   "source": [
    "df.drop(columns = ['Unnamed: 0','population per square mile','land area in square miles'],inplace=True)"
   ]
  },
  {
   "cell_type": "code",
   "execution_count": 12,
   "metadata": {},
   "outputs": [
    {
     "data": {
      "text/html": [
       "<div>\n",
       "<style scoped>\n",
       "    .dataframe tbody tr th:only-of-type {\n",
       "        vertical-align: middle;\n",
       "    }\n",
       "\n",
       "    .dataframe tbody tr th {\n",
       "        vertical-align: top;\n",
       "    }\n",
       "\n",
       "    .dataframe thead th {\n",
       "        text-align: right;\n",
       "    }\n",
       "</style>\n",
       "<table border=\"1\" class=\"dataframe\">\n",
       "  <thead>\n",
       "    <tr style=\"text-align: right;\">\n",
       "      <th></th>\n",
       "      <th>city</th>\n",
       "      <th>state</th>\n",
       "      <th>political affiliation</th>\n",
       "      <th>population</th>\n",
       "      <th>people under age 5</th>\n",
       "      <th>people under age 18</th>\n",
       "      <th>people 65 and older</th>\n",
       "      <th>female</th>\n",
       "      <th>white</th>\n",
       "      <th>black</th>\n",
       "      <th>...</th>\n",
       "      <th>avg household income</th>\n",
       "      <th>per capita income in last 12 months</th>\n",
       "      <th>people in poverty</th>\n",
       "      <th>businesses</th>\n",
       "      <th>men owned businesses</th>\n",
       "      <th>female owned businesses</th>\n",
       "      <th>minority owned businesses</th>\n",
       "      <th>nonminority owned businesses</th>\n",
       "      <th>veteran owned businesses</th>\n",
       "      <th>nonveteran owned businesses</th>\n",
       "    </tr>\n",
       "  </thead>\n",
       "  <tbody>\n",
       "    <tr>\n",
       "      <td>0</td>\n",
       "      <td>Birmingham</td>\n",
       "      <td>Alabama</td>\n",
       "      <td>liberal</td>\n",
       "      <td>209880</td>\n",
       "      <td>6.5</td>\n",
       "      <td>20.3</td>\n",
       "      <td>14.2</td>\n",
       "      <td>53.1</td>\n",
       "      <td>25.3</td>\n",
       "      <td>70.5</td>\n",
       "      <td>...</td>\n",
       "      <td>35346</td>\n",
       "      <td>22993</td>\n",
       "      <td>27.2</td>\n",
       "      <td>20738</td>\n",
       "      <td>10318</td>\n",
       "      <td>8286</td>\n",
       "      <td>10605</td>\n",
       "      <td>8770</td>\n",
       "      <td>2082</td>\n",
       "      <td>17113</td>\n",
       "    </tr>\n",
       "    <tr>\n",
       "      <td>1</td>\n",
       "      <td>Montgomery</td>\n",
       "      <td>Alabama</td>\n",
       "      <td>liberal</td>\n",
       "      <td>198218</td>\n",
       "      <td>6.8</td>\n",
       "      <td>24.0</td>\n",
       "      <td>13.7</td>\n",
       "      <td>53.0</td>\n",
       "      <td>33.3</td>\n",
       "      <td>60.6</td>\n",
       "      <td>...</td>\n",
       "      <td>45921</td>\n",
       "      <td>27172</td>\n",
       "      <td>21.9</td>\n",
       "      <td>18043</td>\n",
       "      <td>8879</td>\n",
       "      <td>7459</td>\n",
       "      <td>8793</td>\n",
       "      <td>8363</td>\n",
       "      <td>2352</td>\n",
       "      <td>14434</td>\n",
       "    </tr>\n",
       "    <tr>\n",
       "      <td>2</td>\n",
       "      <td>Mobile</td>\n",
       "      <td>Alabama</td>\n",
       "      <td>liberal</td>\n",
       "      <td>189572</td>\n",
       "      <td>6.3</td>\n",
       "      <td>21.7</td>\n",
       "      <td>16.0</td>\n",
       "      <td>52.6</td>\n",
       "      <td>44.8</td>\n",
       "      <td>50.6</td>\n",
       "      <td>...</td>\n",
       "      <td>40588</td>\n",
       "      <td>26023</td>\n",
       "      <td>22.0</td>\n",
       "      <td>20118</td>\n",
       "      <td>9703</td>\n",
       "      <td>8644</td>\n",
       "      <td>8808</td>\n",
       "      <td>10250</td>\n",
       "      <td>2275</td>\n",
       "      <td>16639</td>\n",
       "    </tr>\n",
       "    <tr>\n",
       "      <td>3</td>\n",
       "      <td>Huntsville</td>\n",
       "      <td>Alabama</td>\n",
       "      <td>liberal</td>\n",
       "      <td>197318</td>\n",
       "      <td>6.4</td>\n",
       "      <td>21.1</td>\n",
       "      <td>15.7</td>\n",
       "      <td>51.9</td>\n",
       "      <td>61.6</td>\n",
       "      <td>30.6</td>\n",
       "      <td>...</td>\n",
       "      <td>53840</td>\n",
       "      <td>34589</td>\n",
       "      <td>17.7</td>\n",
       "      <td>16838</td>\n",
       "      <td>8211</td>\n",
       "      <td>6565</td>\n",
       "      <td>4380</td>\n",
       "      <td>11515</td>\n",
       "      <td>1816</td>\n",
       "      <td>13915</td>\n",
       "    </tr>\n",
       "    <tr>\n",
       "      <td>4</td>\n",
       "      <td>Tuscaloosa</td>\n",
       "      <td>Alabama</td>\n",
       "      <td>liberal</td>\n",
       "      <td>101113</td>\n",
       "      <td>5.9</td>\n",
       "      <td>18.8</td>\n",
       "      <td>11.7</td>\n",
       "      <td>52.4</td>\n",
       "      <td>51.1</td>\n",
       "      <td>44.1</td>\n",
       "      <td>...</td>\n",
       "      <td>44120</td>\n",
       "      <td>25364</td>\n",
       "      <td>24.2</td>\n",
       "      <td>6802</td>\n",
       "      <td>3374</td>\n",
       "      <td>2530</td>\n",
       "      <td>1953</td>\n",
       "      <td>4375</td>\n",
       "      <td>670</td>\n",
       "      <td>5438</td>\n",
       "    </tr>\n",
       "  </tbody>\n",
       "</table>\n",
       "<p>5 rows × 45 columns</p>\n",
       "</div>"
      ],
      "text/plain": [
       "          city    state political affiliation  population  people under age 5  \\\n",
       "0  Birmingham   Alabama               liberal      209880                 6.5   \n",
       "1  Montgomery   Alabama               liberal      198218                 6.8   \n",
       "2      Mobile   Alabama               liberal      189572                 6.3   \n",
       "3  Huntsville   Alabama               liberal      197318                 6.4   \n",
       "4  Tuscaloosa   Alabama               liberal      101113                 5.9   \n",
       "\n",
       "   people under age 18  people 65 and older  female  white  black  ...  \\\n",
       "0                 20.3                 14.2    53.1   25.3   70.5  ...   \n",
       "1                 24.0                 13.7    53.0   33.3   60.6  ...   \n",
       "2                 21.7                 16.0    52.6   44.8   50.6  ...   \n",
       "3                 21.1                 15.7    51.9   61.6   30.6  ...   \n",
       "4                 18.8                 11.7    52.4   51.1   44.1  ...   \n",
       "\n",
       "   avg household income  per capita income in last 12 months  \\\n",
       "0                 35346                                22993   \n",
       "1                 45921                                27172   \n",
       "2                 40588                                26023   \n",
       "3                 53840                                34589   \n",
       "4                 44120                                25364   \n",
       "\n",
       "   people in poverty  businesses  men owned businesses  \\\n",
       "0               27.2       20738                 10318   \n",
       "1               21.9       18043                  8879   \n",
       "2               22.0       20118                  9703   \n",
       "3               17.7       16838                  8211   \n",
       "4               24.2        6802                  3374   \n",
       "\n",
       "   female owned businesses  minority owned businesses  \\\n",
       "0                     8286                      10605   \n",
       "1                     7459                       8793   \n",
       "2                     8644                       8808   \n",
       "3                     6565                       4380   \n",
       "4                     2530                       1953   \n",
       "\n",
       "   nonminority owned businesses  veteran owned businesses  \\\n",
       "0                          8770                      2082   \n",
       "1                          8363                      2352   \n",
       "2                         10250                      2275   \n",
       "3                         11515                      1816   \n",
       "4                          4375                       670   \n",
       "\n",
       "   nonveteran owned businesses  \n",
       "0                        17113  \n",
       "1                        14434  \n",
       "2                        16639  \n",
       "3                        13915  \n",
       "4                         5438  \n",
       "\n",
       "[5 rows x 45 columns]"
      ]
     },
     "execution_count": 12,
     "metadata": {},
     "output_type": "execute_result"
    }
   ],
   "source": [
    "df.head()"
   ]
  },
  {
   "cell_type": "code",
   "execution_count": 13,
   "metadata": {},
   "outputs": [
    {
     "data": {
      "text/plain": [
       "(10, 45)"
      ]
     },
     "execution_count": 13,
     "metadata": {},
     "output_type": "execute_result"
    }
   ],
   "source": [
    "df.shape"
   ]
  },
  {
   "cell_type": "code",
   "execution_count": 16,
   "metadata": {},
   "outputs": [
    {
     "data": {
      "text/plain": [
       "Index(['city', 'state', 'political affiliation', 'population',\n",
       "       'people under age 5', 'people under age 18', 'people 65 and older',\n",
       "       'female', 'white', 'black', 'american indian or alaska native', 'asian',\n",
       "       'native hawaiian and other pacific islander', '2+ races', 'hispanic',\n",
       "       'veteran', 'foreign born', 'owner occupied houses',\n",
       "       'avg value of owner occupied houses', 'avg rent', 'households',\n",
       "       'people per household', 'living in same house for over a year',\n",
       "       'language other than english spoken at home',\n",
       "       'households with computer', 'households with internet',\n",
       "       'high school graduate or higher, 25+',\n",
       "       'bachelor's degree or higher, 25+', 'with disability, under 65',\n",
       "       'without health insurance, under 65', 'total labor force, 16+',\n",
       "       'female labor force, 16+',\n",
       "       'healthcare and social assistance revenue ($1,000)',\n",
       "       'manufacturers shipments ($1,000)',\n",
       "       'avg travel time to work (min), 16+', 'avg household income',\n",
       "       'per capita income in last 12 months', 'people in poverty',\n",
       "       'businesses', 'men owned businesses', 'female owned businesses',\n",
       "       'minority owned businesses', 'nonminority owned businesses',\n",
       "       'veteran owned businesses', 'nonveteran owned businesses'],\n",
       "      dtype='object')"
      ]
     },
     "execution_count": 16,
     "metadata": {},
     "output_type": "execute_result"
    }
   ],
   "source": [
    "df.columns"
   ]
  },
  {
   "cell_type": "markdown",
   "metadata": {},
   "source": [
    "We dont need city or state anymore as they are just identifiers and potentially overpower local politics too much"
   ]
  },
  {
   "cell_type": "code",
   "execution_count": 17,
   "metadata": {},
   "outputs": [],
   "source": [
    "df.drop(columns = ['city','state'],inplace=True)\n",
    "\n",
    "\n",
    "\n"
   ]
  },
  {
   "cell_type": "code",
   "execution_count": 18,
   "metadata": {},
   "outputs": [
    {
     "data": {
      "text/plain": [
       "liberal         7\n",
       "conservative    3\n",
       "Name: political affiliation, dtype: int64"
      ]
     },
     "execution_count": 18,
     "metadata": {},
     "output_type": "execute_result"
    }
   ],
   "source": [
    "df['political affiliation'].value_counts()"
   ]
  },
  {
   "cell_type": "code",
   "execution_count": 19,
   "metadata": {},
   "outputs": [
    {
     "data": {
      "text/plain": [
       "political affiliation                                0\n",
       "population                                           0\n",
       "people under age 5                                   0\n",
       "people under age 18                                  0\n",
       "people 65 and older                                  0\n",
       "female                                               0\n",
       "white                                                0\n",
       "black                                                0\n",
       "american indian or alaska native                     0\n",
       "asian                                                0\n",
       "native hawaiian and other pacific islander           0\n",
       "2+ races                                             0\n",
       "hispanic                                             0\n",
       "veteran                                              0\n",
       "foreign born                                         0\n",
       "owner occupied houses                                0\n",
       "avg value of owner occupied houses                   0\n",
       "avg rent                                             0\n",
       "households                                           0\n",
       "people per household                                 0\n",
       "living in same house for over a year                 0\n",
       "language other than english spoken at home           0\n",
       "households with computer                             0\n",
       "households with internet                             0\n",
       "high school graduate or higher, 25+                  0\n",
       "bachelor's degree or higher, 25+                     0\n",
       "with disability, under 65                            0\n",
       "without health insurance, under 65                   0\n",
       "total labor force, 16+                               0\n",
       "female labor force, 16+                              0\n",
       "healthcare and social assistance revenue ($1,000)    0\n",
       "manufacturers shipments ($1,000)                     0\n",
       "avg travel time to work (min), 16+                   0\n",
       "avg household income                                 0\n",
       "per capita income in last 12 months                  0\n",
       "people in poverty                                    0\n",
       "businesses                                           0\n",
       "men owned businesses                                 0\n",
       "female owned businesses                              0\n",
       "minority owned businesses                            0\n",
       "nonminority owned businesses                         0\n",
       "veteran owned businesses                             0\n",
       "nonveteran owned businesses                          0\n",
       "dtype: int64"
      ]
     },
     "execution_count": 19,
     "metadata": {},
     "output_type": "execute_result"
    }
   ],
   "source": [
    "df.isnull().sum()"
   ]
  },
  {
   "cell_type": "code",
   "execution_count": 39,
   "metadata": {},
   "outputs": [],
   "source": []
  },
  {
   "cell_type": "code",
   "execution_count": 40,
   "metadata": {},
   "outputs": [
    {
     "data": {
      "text/plain": [
       "(4884, 3)"
      ]
     },
     "execution_count": 40,
     "metadata": {},
     "output_type": "execute_result"
    }
   ],
   "source": [
    "df.head()\n"
   ]
  },
  {
   "cell_type": "code",
   "execution_count": 41,
   "metadata": {},
   "outputs": [],
   "source": [
    "\n"
   ]
  },
  {
   "cell_type": "code",
   "execution_count": 42,
   "metadata": {},
   "outputs": [
    {
     "data": {
      "text/plain": [
       "0            liberal\n",
       "1            liberal\n",
       "2            liberal\n",
       "3            liberal\n",
       "4            liberal\n",
       "            ...     \n",
       "4938    conservative\n",
       "4939    conservative\n",
       "4940    conservative\n",
       "4941    conservative\n",
       "4942    conservative\n",
       "Name: politics, Length: 4884, dtype: object"
      ]
     },
     "execution_count": 42,
     "metadata": {},
     "output_type": "execute_result"
    }
   ],
   "source": [
    "# data types\n",
    "df.info()"
   ]
  },
  {
   "cell_type": "code",
   "execution_count": null,
   "metadata": {},
   "outputs": [],
   "source": []
  },
  {
   "cell_type": "code",
   "execution_count": 43,
   "metadata": {},
   "outputs": [],
   "source": []
  },
  {
   "cell_type": "code",
   "execution_count": null,
   "metadata": {},
   "outputs": [],
   "source": []
  }
 ],
 "metadata": {
  "kernelspec": {
   "display_name": "Python 3",
   "language": "python",
   "name": "python3"
  },
  "language_info": {
   "codemirror_mode": {
    "name": "ipython",
    "version": 3
   },
   "file_extension": ".py",
   "mimetype": "text/x-python",
   "name": "python",
   "nbconvert_exporter": "python",
   "pygments_lexer": "ipython3",
   "version": "3.7.4"
  }
 },
 "nbformat": 4,
 "nbformat_minor": 2
}
