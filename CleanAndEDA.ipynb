{
 "cells": [
  {
   "cell_type": "code",
   "execution_count": 1,
   "metadata": {},
   "outputs": [],
   "source": [
    "import time\n",
    "import pandas as pd\n",
    "import numpy as np\n",
    "import matplotlib.pyplot as plt\n",
    "%matplotlib inline\n",
    "import seaborn as sns"
   ]
  },
  {
   "cell_type": "code",
   "execution_count": 2,
   "metadata": {},
   "outputs": [],
   "source": [
    "df = pd.read_csv('test.csv')"
   ]
  },
  {
   "cell_type": "markdown",
   "metadata": {},
   "source": [
    "Dropping First column, land area ones since they came as blank"
   ]
  },
  {
   "cell_type": "code",
   "execution_count": 3,
   "metadata": {},
   "outputs": [],
   "source": [
    "df.drop(columns = ['Unnamed: 0'],inplace=True)"
   ]
  },
  {
   "cell_type": "code",
   "execution_count": 4,
   "metadata": {},
   "outputs": [
    {
     "data": {
      "text/html": [
       "<div>\n",
       "<style scoped>\n",
       "    .dataframe tbody tr th:only-of-type {\n",
       "        vertical-align: middle;\n",
       "    }\n",
       "\n",
       "    .dataframe tbody tr th {\n",
       "        vertical-align: top;\n",
       "    }\n",
       "\n",
       "    .dataframe thead th {\n",
       "        text-align: right;\n",
       "    }\n",
       "</style>\n",
       "<table border=\"1\" class=\"dataframe\">\n",
       "  <thead>\n",
       "    <tr style=\"text-align: right;\">\n",
       "      <th></th>\n",
       "      <th>city</th>\n",
       "      <th>state</th>\n",
       "      <th>political affiliation</th>\n",
       "      <th>population</th>\n",
       "      <th>people under age 5</th>\n",
       "      <th>people under age 18</th>\n",
       "      <th>people 65 and older</th>\n",
       "      <th>female</th>\n",
       "      <th>white</th>\n",
       "      <th>black</th>\n",
       "      <th>...</th>\n",
       "      <th>people in poverty</th>\n",
       "      <th>businesses</th>\n",
       "      <th>men owned businesses</th>\n",
       "      <th>female owned businesses</th>\n",
       "      <th>minority owned businesses</th>\n",
       "      <th>nonminority owned businesses</th>\n",
       "      <th>veteran owned businesses</th>\n",
       "      <th>nonveteran owned businesses</th>\n",
       "      <th>population per square mile</th>\n",
       "      <th>land area in square miles</th>\n",
       "    </tr>\n",
       "  </thead>\n",
       "  <tbody>\n",
       "    <tr>\n",
       "      <td>0</td>\n",
       "      <td>Birmingham</td>\n",
       "      <td>Alabama</td>\n",
       "      <td>liberal</td>\n",
       "      <td>209880</td>\n",
       "      <td>6.5</td>\n",
       "      <td>20.3</td>\n",
       "      <td>14.2</td>\n",
       "      <td>53.1</td>\n",
       "      <td>25.3</td>\n",
       "      <td>70.5</td>\n",
       "      <td>...</td>\n",
       "      <td>27.2</td>\n",
       "      <td>20738</td>\n",
       "      <td>10318</td>\n",
       "      <td>8286</td>\n",
       "      <td>10605</td>\n",
       "      <td>8770</td>\n",
       "      <td>2082</td>\n",
       "      <td>17113</td>\n",
       "      <td>1453.0</td>\n",
       "      <td>146.07</td>\n",
       "    </tr>\n",
       "    <tr>\n",
       "      <td>1</td>\n",
       "      <td>Montgomery</td>\n",
       "      <td>Alabama</td>\n",
       "      <td>liberal</td>\n",
       "      <td>198218</td>\n",
       "      <td>6.8</td>\n",
       "      <td>24.0</td>\n",
       "      <td>13.7</td>\n",
       "      <td>53.0</td>\n",
       "      <td>33.3</td>\n",
       "      <td>60.6</td>\n",
       "      <td>...</td>\n",
       "      <td>21.9</td>\n",
       "      <td>18043</td>\n",
       "      <td>8879</td>\n",
       "      <td>7459</td>\n",
       "      <td>8793</td>\n",
       "      <td>8363</td>\n",
       "      <td>2352</td>\n",
       "      <td>14434</td>\n",
       "      <td>1289.5</td>\n",
       "      <td>159.57</td>\n",
       "    </tr>\n",
       "    <tr>\n",
       "      <td>2</td>\n",
       "      <td>Mobile</td>\n",
       "      <td>Alabama</td>\n",
       "      <td>liberal</td>\n",
       "      <td>189572</td>\n",
       "      <td>6.3</td>\n",
       "      <td>21.7</td>\n",
       "      <td>16.0</td>\n",
       "      <td>52.6</td>\n",
       "      <td>44.8</td>\n",
       "      <td>50.6</td>\n",
       "      <td>...</td>\n",
       "      <td>22.0</td>\n",
       "      <td>20118</td>\n",
       "      <td>9703</td>\n",
       "      <td>8644</td>\n",
       "      <td>8808</td>\n",
       "      <td>10250</td>\n",
       "      <td>2275</td>\n",
       "      <td>16639</td>\n",
       "      <td>1402.6</td>\n",
       "      <td>139.11</td>\n",
       "    </tr>\n",
       "    <tr>\n",
       "      <td>3</td>\n",
       "      <td>Huntsville</td>\n",
       "      <td>Alabama</td>\n",
       "      <td>liberal</td>\n",
       "      <td>197318</td>\n",
       "      <td>6.4</td>\n",
       "      <td>21.1</td>\n",
       "      <td>15.7</td>\n",
       "      <td>51.9</td>\n",
       "      <td>61.6</td>\n",
       "      <td>30.6</td>\n",
       "      <td>...</td>\n",
       "      <td>17.7</td>\n",
       "      <td>16838</td>\n",
       "      <td>8211</td>\n",
       "      <td>6565</td>\n",
       "      <td>4380</td>\n",
       "      <td>11515</td>\n",
       "      <td>1816</td>\n",
       "      <td>13915</td>\n",
       "      <td>861.5</td>\n",
       "      <td>209.05</td>\n",
       "    </tr>\n",
       "    <tr>\n",
       "      <td>4</td>\n",
       "      <td>Tuscaloosa</td>\n",
       "      <td>Alabama</td>\n",
       "      <td>liberal</td>\n",
       "      <td>101113</td>\n",
       "      <td>5.9</td>\n",
       "      <td>18.8</td>\n",
       "      <td>11.7</td>\n",
       "      <td>52.4</td>\n",
       "      <td>51.1</td>\n",
       "      <td>44.1</td>\n",
       "      <td>...</td>\n",
       "      <td>24.2</td>\n",
       "      <td>6802</td>\n",
       "      <td>3374</td>\n",
       "      <td>2530</td>\n",
       "      <td>1953</td>\n",
       "      <td>4375</td>\n",
       "      <td>670</td>\n",
       "      <td>5438</td>\n",
       "      <td>1501.9</td>\n",
       "      <td>60.23</td>\n",
       "    </tr>\n",
       "  </tbody>\n",
       "</table>\n",
       "<p>5 rows × 47 columns</p>\n",
       "</div>"
      ],
      "text/plain": [
       "          city    state political affiliation  population  people under age 5  \\\n",
       "0  Birmingham   Alabama               liberal      209880                 6.5   \n",
       "1  Montgomery   Alabama               liberal      198218                 6.8   \n",
       "2      Mobile   Alabama               liberal      189572                 6.3   \n",
       "3  Huntsville   Alabama               liberal      197318                 6.4   \n",
       "4  Tuscaloosa   Alabama               liberal      101113                 5.9   \n",
       "\n",
       "   people under age 18  people 65 and older  female  white  black  ...  \\\n",
       "0                 20.3                 14.2    53.1   25.3   70.5  ...   \n",
       "1                 24.0                 13.7    53.0   33.3   60.6  ...   \n",
       "2                 21.7                 16.0    52.6   44.8   50.6  ...   \n",
       "3                 21.1                 15.7    51.9   61.6   30.6  ...   \n",
       "4                 18.8                 11.7    52.4   51.1   44.1  ...   \n",
       "\n",
       "   people in poverty  businesses  men owned businesses  \\\n",
       "0               27.2       20738                 10318   \n",
       "1               21.9       18043                  8879   \n",
       "2               22.0       20118                  9703   \n",
       "3               17.7       16838                  8211   \n",
       "4               24.2        6802                  3374   \n",
       "\n",
       "   female owned businesses  minority owned businesses  \\\n",
       "0                     8286                      10605   \n",
       "1                     7459                       8793   \n",
       "2                     8644                       8808   \n",
       "3                     6565                       4380   \n",
       "4                     2530                       1953   \n",
       "\n",
       "   nonminority owned businesses  veteran owned businesses  \\\n",
       "0                          8770                      2082   \n",
       "1                          8363                      2352   \n",
       "2                         10250                      2275   \n",
       "3                         11515                      1816   \n",
       "4                          4375                       670   \n",
       "\n",
       "   nonveteran owned businesses  population per square mile  \\\n",
       "0                        17113                      1453.0   \n",
       "1                        14434                      1289.5   \n",
       "2                        16639                      1402.6   \n",
       "3                        13915                       861.5   \n",
       "4                         5438                      1501.9   \n",
       "\n",
       "   land area in square miles  \n",
       "0                     146.07  \n",
       "1                     159.57  \n",
       "2                     139.11  \n",
       "3                     209.05  \n",
       "4                      60.23  \n",
       "\n",
       "[5 rows x 47 columns]"
      ]
     },
     "execution_count": 4,
     "metadata": {},
     "output_type": "execute_result"
    }
   ],
   "source": [
    "df.head()"
   ]
  },
  {
   "cell_type": "code",
   "execution_count": 5,
   "metadata": {},
   "outputs": [
    {
     "data": {
      "text/plain": [
       "(10, 47)"
      ]
     },
     "execution_count": 5,
     "metadata": {},
     "output_type": "execute_result"
    }
   ],
   "source": [
    "df.shape"
   ]
  },
  {
   "cell_type": "code",
   "execution_count": 6,
   "metadata": {},
   "outputs": [
    {
     "data": {
      "text/plain": [
       "Index(['city', 'state', 'political affiliation', 'population',\n",
       "       'people under age 5', 'people under age 18', 'people 65 and older',\n",
       "       'female', 'white', 'black', 'american indian or alaska native', 'asian',\n",
       "       'native hawaiian and other pacific islander', '2+ races', 'hispanic',\n",
       "       'veteran', 'foreign born', 'owner occupied houses',\n",
       "       'avg value of owner occupied houses', 'avg rent', 'households',\n",
       "       'people per household', 'living in same house for over a year',\n",
       "       'language other than english spoken at home',\n",
       "       'households with computer', 'households with internet',\n",
       "       'high school graduate or higher, 25+',\n",
       "       'bachelor's degree or higher, 25+', 'with disability, under 65',\n",
       "       'without health insurance, under 65', 'total labor force, 16+',\n",
       "       'female labor force, 16+',\n",
       "       'healthcare and social assistance revenue ($1,000)',\n",
       "       'manufacturers shipments ($1,000)',\n",
       "       'avg travel time to work (min), 16+', 'avg household income',\n",
       "       'per capita income in last 12 months', 'people in poverty',\n",
       "       'businesses', 'men owned businesses', 'female owned businesses',\n",
       "       'minority owned businesses', 'nonminority owned businesses',\n",
       "       'veteran owned businesses', 'nonveteran owned businesses',\n",
       "       'population per square mile', 'land area in square miles'],\n",
       "      dtype='object')"
      ]
     },
     "execution_count": 6,
     "metadata": {},
     "output_type": "execute_result"
    }
   ],
   "source": [
    "df.columns"
   ]
  },
  {
   "cell_type": "markdown",
   "metadata": {},
   "source": [
    "We dont need city or state anymore as they are just identifiers and potentially overpower local politics too much"
   ]
  },
  {
   "cell_type": "code",
   "execution_count": 7,
   "metadata": {},
   "outputs": [],
   "source": [
    "df.drop(columns = ['city','state'],inplace=True)\n",
    "\n",
    "\n",
    "\n"
   ]
  },
  {
   "cell_type": "markdown",
   "metadata": {},
   "source": [
    "Checking for class imbalance"
   ]
  },
  {
   "cell_type": "code",
   "execution_count": 8,
   "metadata": {},
   "outputs": [
    {
     "data": {
      "text/plain": [
       "liberal         7\n",
       "conservative    3\n",
       "Name: political affiliation, dtype: int64"
      ]
     },
     "execution_count": 8,
     "metadata": {},
     "output_type": "execute_result"
    }
   ],
   "source": [
    "df['political affiliation'].value_counts()"
   ]
  },
  {
   "cell_type": "markdown",
   "metadata": {},
   "source": [
    "Checking for null values"
   ]
  },
  {
   "cell_type": "code",
   "execution_count": 9,
   "metadata": {},
   "outputs": [
    {
     "data": {
      "text/plain": [
       "political affiliation                                0\n",
       "population                                           0\n",
       "people under age 5                                   0\n",
       "people under age 18                                  0\n",
       "people 65 and older                                  0\n",
       "female                                               0\n",
       "white                                                0\n",
       "black                                                0\n",
       "american indian or alaska native                     0\n",
       "asian                                                0\n",
       "native hawaiian and other pacific islander           0\n",
       "2+ races                                             0\n",
       "hispanic                                             0\n",
       "veteran                                              0\n",
       "foreign born                                         0\n",
       "owner occupied houses                                0\n",
       "avg value of owner occupied houses                   0\n",
       "avg rent                                             0\n",
       "households                                           0\n",
       "people per household                                 0\n",
       "living in same house for over a year                 0\n",
       "language other than english spoken at home           0\n",
       "households with computer                             0\n",
       "households with internet                             0\n",
       "high school graduate or higher, 25+                  0\n",
       "bachelor's degree or higher, 25+                     0\n",
       "with disability, under 65                            0\n",
       "without health insurance, under 65                   0\n",
       "total labor force, 16+                               0\n",
       "female labor force, 16+                              0\n",
       "healthcare and social assistance revenue ($1,000)    0\n",
       "manufacturers shipments ($1,000)                     0\n",
       "avg travel time to work (min), 16+                   0\n",
       "avg household income                                 0\n",
       "per capita income in last 12 months                  0\n",
       "people in poverty                                    0\n",
       "businesses                                           0\n",
       "men owned businesses                                 0\n",
       "female owned businesses                              0\n",
       "minority owned businesses                            0\n",
       "nonminority owned businesses                         0\n",
       "veteran owned businesses                             0\n",
       "nonveteran owned businesses                          0\n",
       "population per square mile                           0\n",
       "land area in square miles                            0\n",
       "dtype: int64"
      ]
     },
     "execution_count": 9,
     "metadata": {},
     "output_type": "execute_result"
    }
   ],
   "source": [
    "df.isnull().sum()"
   ]
  },
  {
   "cell_type": "code",
   "execution_count": null,
   "metadata": {},
   "outputs": [],
   "source": []
  },
  {
   "cell_type": "code",
   "execution_count": null,
   "metadata": {},
   "outputs": [],
   "source": []
  },
  {
   "cell_type": "code",
   "execution_count": 10,
   "metadata": {},
   "outputs": [
    {
     "data": {
      "text/html": [
       "<div>\n",
       "<style scoped>\n",
       "    .dataframe tbody tr th:only-of-type {\n",
       "        vertical-align: middle;\n",
       "    }\n",
       "\n",
       "    .dataframe tbody tr th {\n",
       "        vertical-align: top;\n",
       "    }\n",
       "\n",
       "    .dataframe thead th {\n",
       "        text-align: right;\n",
       "    }\n",
       "</style>\n",
       "<table border=\"1\" class=\"dataframe\">\n",
       "  <thead>\n",
       "    <tr style=\"text-align: right;\">\n",
       "      <th></th>\n",
       "      <th>political affiliation</th>\n",
       "      <th>population</th>\n",
       "      <th>people under age 5</th>\n",
       "      <th>people under age 18</th>\n",
       "      <th>people 65 and older</th>\n",
       "      <th>female</th>\n",
       "      <th>white</th>\n",
       "      <th>black</th>\n",
       "      <th>american indian or alaska native</th>\n",
       "      <th>asian</th>\n",
       "      <th>...</th>\n",
       "      <th>people in poverty</th>\n",
       "      <th>businesses</th>\n",
       "      <th>men owned businesses</th>\n",
       "      <th>female owned businesses</th>\n",
       "      <th>minority owned businesses</th>\n",
       "      <th>nonminority owned businesses</th>\n",
       "      <th>veteran owned businesses</th>\n",
       "      <th>nonveteran owned businesses</th>\n",
       "      <th>population per square mile</th>\n",
       "      <th>land area in square miles</th>\n",
       "    </tr>\n",
       "  </thead>\n",
       "  <tbody>\n",
       "    <tr>\n",
       "      <td>0</td>\n",
       "      <td>liberal</td>\n",
       "      <td>209880</td>\n",
       "      <td>6.5</td>\n",
       "      <td>20.3</td>\n",
       "      <td>14.2</td>\n",
       "      <td>53.1</td>\n",
       "      <td>25.3</td>\n",
       "      <td>70.5</td>\n",
       "      <td>0.2</td>\n",
       "      <td>0.9</td>\n",
       "      <td>...</td>\n",
       "      <td>27.2</td>\n",
       "      <td>20738</td>\n",
       "      <td>10318</td>\n",
       "      <td>8286</td>\n",
       "      <td>10605</td>\n",
       "      <td>8770</td>\n",
       "      <td>2082</td>\n",
       "      <td>17113</td>\n",
       "      <td>1453.0</td>\n",
       "      <td>146.07</td>\n",
       "    </tr>\n",
       "    <tr>\n",
       "      <td>1</td>\n",
       "      <td>liberal</td>\n",
       "      <td>198218</td>\n",
       "      <td>6.8</td>\n",
       "      <td>24.0</td>\n",
       "      <td>13.7</td>\n",
       "      <td>53.0</td>\n",
       "      <td>33.3</td>\n",
       "      <td>60.6</td>\n",
       "      <td>0.2</td>\n",
       "      <td>2.8</td>\n",
       "      <td>...</td>\n",
       "      <td>21.9</td>\n",
       "      <td>18043</td>\n",
       "      <td>8879</td>\n",
       "      <td>7459</td>\n",
       "      <td>8793</td>\n",
       "      <td>8363</td>\n",
       "      <td>2352</td>\n",
       "      <td>14434</td>\n",
       "      <td>1289.5</td>\n",
       "      <td>159.57</td>\n",
       "    </tr>\n",
       "    <tr>\n",
       "      <td>2</td>\n",
       "      <td>liberal</td>\n",
       "      <td>189572</td>\n",
       "      <td>6.3</td>\n",
       "      <td>21.7</td>\n",
       "      <td>16.0</td>\n",
       "      <td>52.6</td>\n",
       "      <td>44.8</td>\n",
       "      <td>50.6</td>\n",
       "      <td>0.2</td>\n",
       "      <td>1.8</td>\n",
       "      <td>...</td>\n",
       "      <td>22.0</td>\n",
       "      <td>20118</td>\n",
       "      <td>9703</td>\n",
       "      <td>8644</td>\n",
       "      <td>8808</td>\n",
       "      <td>10250</td>\n",
       "      <td>2275</td>\n",
       "      <td>16639</td>\n",
       "      <td>1402.6</td>\n",
       "      <td>139.11</td>\n",
       "    </tr>\n",
       "    <tr>\n",
       "      <td>3</td>\n",
       "      <td>liberal</td>\n",
       "      <td>197318</td>\n",
       "      <td>6.4</td>\n",
       "      <td>21.1</td>\n",
       "      <td>15.7</td>\n",
       "      <td>51.9</td>\n",
       "      <td>61.6</td>\n",
       "      <td>30.6</td>\n",
       "      <td>0.4</td>\n",
       "      <td>2.7</td>\n",
       "      <td>...</td>\n",
       "      <td>17.7</td>\n",
       "      <td>16838</td>\n",
       "      <td>8211</td>\n",
       "      <td>6565</td>\n",
       "      <td>4380</td>\n",
       "      <td>11515</td>\n",
       "      <td>1816</td>\n",
       "      <td>13915</td>\n",
       "      <td>861.5</td>\n",
       "      <td>209.05</td>\n",
       "    </tr>\n",
       "    <tr>\n",
       "      <td>4</td>\n",
       "      <td>liberal</td>\n",
       "      <td>101113</td>\n",
       "      <td>5.9</td>\n",
       "      <td>18.8</td>\n",
       "      <td>11.7</td>\n",
       "      <td>52.4</td>\n",
       "      <td>51.1</td>\n",
       "      <td>44.1</td>\n",
       "      <td>0.3</td>\n",
       "      <td>2.4</td>\n",
       "      <td>...</td>\n",
       "      <td>24.2</td>\n",
       "      <td>6802</td>\n",
       "      <td>3374</td>\n",
       "      <td>2530</td>\n",
       "      <td>1953</td>\n",
       "      <td>4375</td>\n",
       "      <td>670</td>\n",
       "      <td>5438</td>\n",
       "      <td>1501.9</td>\n",
       "      <td>60.23</td>\n",
       "    </tr>\n",
       "  </tbody>\n",
       "</table>\n",
       "<p>5 rows × 45 columns</p>\n",
       "</div>"
      ],
      "text/plain": [
       "  political affiliation  population  people under age 5  people under age 18  \\\n",
       "0               liberal      209880                 6.5                 20.3   \n",
       "1               liberal      198218                 6.8                 24.0   \n",
       "2               liberal      189572                 6.3                 21.7   \n",
       "3               liberal      197318                 6.4                 21.1   \n",
       "4               liberal      101113                 5.9                 18.8   \n",
       "\n",
       "   people 65 and older  female  white  black  \\\n",
       "0                 14.2    53.1   25.3   70.5   \n",
       "1                 13.7    53.0   33.3   60.6   \n",
       "2                 16.0    52.6   44.8   50.6   \n",
       "3                 15.7    51.9   61.6   30.6   \n",
       "4                 11.7    52.4   51.1   44.1   \n",
       "\n",
       "   american indian or alaska native  asian  ...  people in poverty  \\\n",
       "0                               0.2    0.9  ...               27.2   \n",
       "1                               0.2    2.8  ...               21.9   \n",
       "2                               0.2    1.8  ...               22.0   \n",
       "3                               0.4    2.7  ...               17.7   \n",
       "4                               0.3    2.4  ...               24.2   \n",
       "\n",
       "   businesses  men owned businesses  female owned businesses  \\\n",
       "0       20738                 10318                     8286   \n",
       "1       18043                  8879                     7459   \n",
       "2       20118                  9703                     8644   \n",
       "3       16838                  8211                     6565   \n",
       "4        6802                  3374                     2530   \n",
       "\n",
       "   minority owned businesses  nonminority owned businesses  \\\n",
       "0                      10605                          8770   \n",
       "1                       8793                          8363   \n",
       "2                       8808                         10250   \n",
       "3                       4380                         11515   \n",
       "4                       1953                          4375   \n",
       "\n",
       "   veteran owned businesses  nonveteran owned businesses  \\\n",
       "0                      2082                        17113   \n",
       "1                      2352                        14434   \n",
       "2                      2275                        16639   \n",
       "3                      1816                        13915   \n",
       "4                       670                         5438   \n",
       "\n",
       "   population per square mile  land area in square miles  \n",
       "0                      1453.0                     146.07  \n",
       "1                      1289.5                     159.57  \n",
       "2                      1402.6                     139.11  \n",
       "3                       861.5                     209.05  \n",
       "4                      1501.9                      60.23  \n",
       "\n",
       "[5 rows x 45 columns]"
      ]
     },
     "execution_count": 10,
     "metadata": {},
     "output_type": "execute_result"
    }
   ],
   "source": [
    "df.head()\n"
   ]
  },
  {
   "cell_type": "markdown",
   "metadata": {},
   "source": [
    "Currently all of our data types are continuous, many of these we will\n",
    "later bucket and categorize but first we'll take a look at the distributions\n"
   ]
  },
  {
   "cell_type": "code",
   "execution_count": 11,
   "metadata": {},
   "outputs": [
    {
     "name": "stdout",
     "output_type": "stream",
     "text": [
      "<class 'pandas.core.frame.DataFrame'>\n",
      "RangeIndex: 10 entries, 0 to 9\n",
      "Data columns (total 45 columns):\n",
      "political affiliation                                10 non-null object\n",
      "population                                           10 non-null int64\n",
      "people under age 5                                   10 non-null float64\n",
      "people under age 18                                  10 non-null float64\n",
      "people 65 and older                                  10 non-null float64\n",
      "female                                               10 non-null float64\n",
      "white                                                10 non-null float64\n",
      "black                                                10 non-null float64\n",
      "american indian or alaska native                     10 non-null float64\n",
      "asian                                                10 non-null float64\n",
      "native hawaiian and other pacific islander           10 non-null float64\n",
      "2+ races                                             10 non-null float64\n",
      "hispanic                                             10 non-null float64\n",
      "veteran                                              10 non-null int64\n",
      "foreign born                                         10 non-null float64\n",
      "owner occupied houses                                10 non-null float64\n",
      "avg value of owner occupied houses                   10 non-null int64\n",
      "avg rent                                             10 non-null int64\n",
      "households                                           10 non-null int64\n",
      "people per household                                 10 non-null float64\n",
      "living in same house for over a year                 10 non-null float64\n",
      "language other than english spoken at home           10 non-null float64\n",
      "households with computer                             10 non-null float64\n",
      "households with internet                             10 non-null float64\n",
      "high school graduate or higher, 25+                  10 non-null float64\n",
      "bachelor's degree or higher, 25+                     10 non-null float64\n",
      "with disability, under 65                            10 non-null float64\n",
      "without health insurance, under 65                   10 non-null float64\n",
      "total labor force, 16+                               10 non-null float64\n",
      "female labor force, 16+                              10 non-null float64\n",
      "healthcare and social assistance revenue ($1,000)    10 non-null int64\n",
      "manufacturers shipments ($1,000)                     10 non-null int64\n",
      "avg travel time to work (min), 16+                   10 non-null float64\n",
      "avg household income                                 10 non-null int64\n",
      "per capita income in last 12 months                  10 non-null int64\n",
      "people in poverty                                    10 non-null float64\n",
      "businesses                                           10 non-null int64\n",
      "men owned businesses                                 10 non-null int64\n",
      "female owned businesses                              10 non-null int64\n",
      "minority owned businesses                            10 non-null int64\n",
      "nonminority owned businesses                         10 non-null int64\n",
      "veteran owned businesses                             10 non-null int64\n",
      "nonveteran owned businesses                          10 non-null int64\n",
      "population per square mile                           10 non-null float64\n",
      "land area in square miles                            10 non-null float64\n",
      "dtypes: float64(28), int64(16), object(1)\n",
      "memory usage: 3.6+ KB\n"
     ]
    }
   ],
   "source": [
    "# data types\n",
    "df.info()"
   ]
  },
  {
   "cell_type": "markdown",
   "metadata": {},
   "source": [
    "## Outliers\n",
    "Currently all of our features are continuous. We'll start looking at these in detail"
   ]
  },
  {
   "cell_type": "code",
   "execution_count": 12,
   "metadata": {},
   "outputs": [],
   "source": [
    "df.rename(columns={\"bachelor's degree or higher, 25+\": 'bachelors degree or higher, 25+'},inplace=True)"
   ]
  },
  {
   "cell_type": "code",
   "execution_count": 13,
   "metadata": {},
   "outputs": [
    {
     "name": "stdout",
     "output_type": "stream",
     "text": [
      "count        10.000000\n",
      "mean     121989.800000\n",
      "std       67767.524649\n",
      "min       50440.000000\n",
      "25%       66365.250000\n",
      "50%       93110.500000\n",
      "75%      195381.500000\n",
      "max      209880.000000\n",
      "Name: population, dtype: float64\n",
      "\n",
      "\n",
      "count    10.000000\n",
      "mean      6.160000\n",
      "std       0.671979\n",
      "min       4.900000\n",
      "25%       6.000000\n",
      "50%       6.350000\n",
      "75%       6.500000\n",
      "max       6.900000\n",
      "Name: people under age 5, dtype: float64\n",
      "\n",
      "\n",
      "count    10.000000\n",
      "mean     22.070000\n",
      "std       2.421226\n",
      "min      18.300000\n",
      "25%      20.500000\n",
      "50%      22.400000\n",
      "75%      23.900000\n",
      "max      25.400000\n",
      "Name: people under age 18, dtype: float64\n",
      "\n",
      "\n",
      "count    10.000000\n",
      "mean     14.010000\n",
      "std       3.209171\n",
      "min       7.500000\n",
      "25%      12.200000\n",
      "50%      14.900000\n",
      "75%      15.925000\n",
      "max      17.800000\n",
      "Name: people 65 and older, dtype: float64\n",
      "\n",
      "\n",
      "count    10.00000\n",
      "mean     52.20000\n",
      "std       1.00995\n",
      "min      50.20000\n",
      "25%      52.02500\n",
      "50%      52.60000\n",
      "75%      52.80000\n",
      "max      53.10000\n",
      "Name: female, dtype: float64\n",
      "\n",
      "\n",
      "count    10.000000\n",
      "mean     56.600000\n",
      "std      17.351081\n",
      "min      25.300000\n",
      "25%      46.375000\n",
      "50%      61.900000\n",
      "75%      71.525000\n",
      "max      74.100000\n",
      "Name: white, dtype: float64\n",
      "\n",
      "\n",
      "count    10.00000\n",
      "mean     36.25000\n",
      "std      19.52652\n",
      "min      15.00000\n",
      "25%      18.72500\n",
      "50%      32.30000\n",
      "75%      48.97500\n",
      "max      70.50000\n",
      "Name: black, dtype: float64\n",
      "\n",
      "\n",
      "count    10.000000\n",
      "mean      0.290000\n",
      "std       0.166333\n",
      "min       0.100000\n",
      "25%       0.200000\n",
      "50%       0.250000\n",
      "75%       0.300000\n",
      "max       0.700000\n",
      "Name: american indian or alaska native, dtype: float64\n",
      "\n",
      "\n",
      "count    10.000000\n",
      "mean      3.120000\n",
      "std       2.487212\n",
      "min       0.600000\n",
      "25%       1.275000\n",
      "50%       2.550000\n",
      "75%       4.375000\n",
      "max       8.500000\n",
      "Name: asian, dtype: float64\n",
      "\n",
      "\n",
      "count    10.000000\n",
      "mean      0.020000\n",
      "std       0.042164\n",
      "min       0.000000\n",
      "25%       0.000000\n",
      "50%       0.000000\n",
      "75%       0.000000\n",
      "max       0.100000\n",
      "Name: native hawaiian and other pacific islander, dtype: float64\n",
      "\n",
      "\n",
      "count    10.000000\n",
      "mean      2.050000\n",
      "std       0.827647\n",
      "min       1.100000\n",
      "25%       1.625000\n",
      "50%       1.900000\n",
      "75%       2.375000\n",
      "max       3.800000\n",
      "Name: 2+ races, dtype: float64\n",
      "\n",
      "\n",
      "count    10.000000\n",
      "mean      5.150000\n",
      "std       3.142628\n",
      "min       2.600000\n",
      "25%       3.450000\n",
      "50%       4.000000\n",
      "75%       5.800000\n",
      "max      13.400000\n",
      "Name: hispanic, dtype: float64\n",
      "\n",
      "\n",
      "count       10.000000\n",
      "mean      8180.300000\n",
      "std       5366.425172\n",
      "min       2181.000000\n",
      "25%       4628.000000\n",
      "50%       5115.000000\n",
      "75%      12673.750000\n",
      "max      17224.000000\n",
      "Name: veteran, dtype: float64\n",
      "\n",
      "\n",
      "count    10.000000\n",
      "mean      6.060000\n",
      "std       2.663415\n",
      "min       2.600000\n",
      "25%       3.900000\n",
      "50%       5.800000\n",
      "75%       7.775000\n",
      "max      10.400000\n",
      "Name: foreign born, dtype: float64\n",
      "\n",
      "\n",
      "count    10.000000\n",
      "mean     56.500000\n",
      "std       9.108116\n",
      "min      44.100000\n",
      "25%      48.950000\n",
      "50%      56.400000\n",
      "75%      61.825000\n",
      "max      69.900000\n",
      "Name: owner occupied houses, dtype: float64\n",
      "\n",
      "\n",
      "count        10.000000\n",
      "mean     173670.000000\n",
      "std       64636.437092\n",
      "min       89200.000000\n",
      "25%      124525.000000\n",
      "50%      160350.000000\n",
      "75%      227775.000000\n",
      "max      280400.000000\n",
      "Name: avg value of owner occupied houses, dtype: float64\n",
      "\n",
      "\n",
      "count      10.000000\n",
      "mean      838.200000\n",
      "std       117.146442\n",
      "min       645.000000\n",
      "25%       798.750000\n",
      "50%       839.500000\n",
      "75%       867.750000\n",
      "max      1100.000000\n",
      "Name: avg rent, dtype: float64\n",
      "\n",
      "\n",
      "count       10.000000\n",
      "mean     48717.400000\n",
      "std      29589.348715\n",
      "min      18591.000000\n",
      "25%      23637.750000\n",
      "50%      33938.500000\n",
      "75%      78943.000000\n",
      "max      89880.000000\n",
      "Name: households, dtype: float64\n",
      "\n",
      "\n",
      "count    10.000000\n",
      "mean      2.454000\n",
      "std       0.128944\n",
      "min       2.240000\n",
      "25%       2.385000\n",
      "50%       2.485000\n",
      "75%       2.562500\n",
      "max       2.580000\n",
      "Name: people per household, dtype: float64\n",
      "\n",
      "\n",
      "count    10.000000\n",
      "mean     80.400000\n",
      "std       4.934009\n",
      "min      69.700000\n",
      "25%      78.475000\n",
      "50%      81.050000\n",
      "75%      84.475000\n",
      "max      85.500000\n",
      "Name: living in same house for over a year, dtype: float64\n",
      "\n",
      "\n",
      "count    10.000000\n",
      "mean      8.240000\n",
      "std       3.425785\n",
      "min       4.000000\n",
      "25%       5.450000\n",
      "50%       7.250000\n",
      "75%      11.325000\n",
      "max      12.900000\n",
      "Name: language other than english spoken at home, dtype: float64\n",
      "\n",
      "\n",
      "count    10.000\n",
      "mean     87.660\n",
      "std       5.998\n",
      "min      81.500\n",
      "25%      83.175\n",
      "50%      85.100\n",
      "75%      93.850\n",
      "max      96.100\n",
      "Name: households with computer, dtype: float64\n",
      "\n",
      "\n",
      "count    10.0000\n",
      "mean     78.7800\n",
      "std       8.1955\n",
      "min      68.7000\n",
      "25%      72.3500\n",
      "50%      76.6500\n",
      "75%      85.1750\n",
      "max      91.2000\n",
      "Name: households with internet, dtype: float64\n",
      "\n",
      "\n",
      "count    10.000000\n",
      "mean     89.720000\n",
      "std       4.665428\n",
      "min      83.000000\n",
      "25%      86.425000\n",
      "50%      89.000000\n",
      "75%      93.400000\n",
      "max      96.400000\n",
      "Name: high school graduate or higher, 25+, dtype: float64\n",
      "\n",
      "\n",
      "count    10.000000\n",
      "mean     38.680000\n",
      "std      13.976154\n",
      "min      24.500000\n",
      "25%      26.625000\n",
      "50%      34.100000\n",
      "75%      53.250000\n",
      "max      57.500000\n",
      "Name: bachelors degree or higher, 25+, dtype: float64\n",
      "\n",
      "\n",
      "count    10.000000\n",
      "mean      9.480000\n",
      "std       3.016915\n",
      "min       5.400000\n",
      "25%       6.825000\n",
      "50%       9.600000\n",
      "75%      12.075000\n",
      "max      13.900000\n",
      "Name: with disability, under 65, dtype: float64\n",
      "\n",
      "\n",
      "count    10.000000\n",
      "mean     10.570000\n",
      "std       3.651195\n",
      "min       5.500000\n",
      "25%       7.000000\n",
      "50%      12.150000\n",
      "75%      13.375000\n",
      "max      15.100000\n",
      "Name: without health insurance, under 65, dtype: float64\n",
      "\n",
      "\n",
      "count    10.000000\n",
      "mean     60.560000\n",
      "std       4.764965\n",
      "min      56.000000\n",
      "25%      56.875000\n",
      "50%      59.150000\n",
      "75%      61.875000\n",
      "max      69.300000\n",
      "Name: total labor force, 16+, dtype: float64\n",
      "\n",
      "\n",
      "count    10.000000\n",
      "mean     56.000000\n",
      "std       3.588872\n",
      "min      49.500000\n",
      "25%      53.800000\n",
      "50%      56.300000\n",
      "75%      58.350000\n",
      "max      61.600000\n",
      "Name: female labor force, 16+, dtype: float64\n",
      "\n",
      "\n",
      "count    1.000000e+01\n",
      "mean     1.495702e+06\n",
      "std      1.648970e+06\n",
      "min      1.052600e+05\n",
      "25%      3.167258e+05\n",
      "50%      1.086444e+06\n",
      "75%      2.094581e+06\n",
      "max      5.574098e+06\n",
      "Name: healthcare and social assistance revenue ($1,000), dtype: float64\n",
      "\n",
      "\n",
      "count    1.000000e+01\n",
      "mean     3.298222e+06\n",
      "std      3.023560e+06\n",
      "min      0.000000e+00\n",
      "25%      3.585688e+05\n",
      "50%      3.696384e+06\n",
      "75%      4.569372e+06\n",
      "max      9.125080e+06\n",
      "Name: manufacturers shipments ($1,000), dtype: float64\n",
      "\n",
      "\n",
      "count    10.000000\n",
      "mean     20.400000\n",
      "std       1.677299\n",
      "min      19.100000\n",
      "25%      19.325000\n",
      "50%      19.600000\n",
      "75%      21.275000\n",
      "max      23.900000\n",
      "Name: avg travel time to work (min), 16+, dtype: float64\n",
      "\n",
      "\n",
      "count       10.000000\n",
      "mean     52876.200000\n",
      "std      18496.727836\n",
      "min      35346.000000\n",
      "25%      44253.500000\n",
      "50%      45364.500000\n",
      "75%      51860.250000\n",
      "max      89522.000000\n",
      "Name: avg household income, dtype: float64\n",
      "\n",
      "\n",
      "count       10.000000\n",
      "mean     30741.500000\n",
      "std       7903.374192\n",
      "min      22993.000000\n",
      "25%      26176.500000\n",
      "50%      27410.000000\n",
      "75%      32864.500000\n",
      "max      45299.000000\n",
      "Name: per capita income in last 12 months, dtype: float64\n",
      "\n",
      "\n",
      "count    10.000000\n",
      "mean     19.380000\n",
      "std       7.651405\n",
      "min       6.300000\n",
      "25%      18.050000\n",
      "50%      20.750000\n",
      "75%      23.650000\n",
      "max      29.100000\n",
      "Name: people in poverty, dtype: float64\n",
      "\n",
      "\n",
      "count       10.000000\n",
      "mean     11026.000000\n",
      "std       6995.791052\n",
      "min       3511.000000\n",
      "25%       5366.750000\n",
      "50%       7392.000000\n",
      "75%      17741.750000\n",
      "max      20738.000000\n",
      "Name: businesses, dtype: float64\n",
      "\n",
      "\n",
      "count       10.000000\n",
      "mean      5506.200000\n",
      "std       3358.972455\n",
      "min       1658.000000\n",
      "25%       2857.750000\n",
      "50%       3888.000000\n",
      "75%       8712.000000\n",
      "max      10318.000000\n",
      "Name: men owned businesses, dtype: float64\n",
      "\n",
      "\n",
      "count      10.000000\n",
      "mean     4299.600000\n",
      "std      3038.425586\n",
      "min      1332.000000\n",
      "25%      1936.250000\n",
      "50%      2541.000000\n",
      "75%      7235.500000\n",
      "max      8644.000000\n",
      "Name: female owned businesses, dtype: float64\n",
      "\n",
      "\n",
      "count       10.000000\n",
      "mean      4043.600000\n",
      "std       3864.042161\n",
      "min        743.000000\n",
      "25%       1199.250000\n",
      "50%       1830.000000\n",
      "75%       7689.750000\n",
      "max      10605.000000\n",
      "Name: minority owned businesses, dtype: float64\n",
      "\n",
      "\n",
      "count       10.000000\n",
      "mean      6349.900000\n",
      "std       3153.725679\n",
      "min       2617.000000\n",
      "25%       3721.000000\n",
      "50%       5312.500000\n",
      "75%       8668.250000\n",
      "max      11515.000000\n",
      "Name: nonminority owned businesses, dtype: float64\n",
      "\n",
      "\n",
      "count      10.000000\n",
      "mean     1200.600000\n",
      "std       827.877635\n",
      "min       352.000000\n",
      "25%       530.500000\n",
      "50%       808.000000\n",
      "75%      2015.500000\n",
      "max      2352.000000\n",
      "Name: veteran owned businesses, dtype: float64\n",
      "\n",
      "\n",
      "count       10.000000\n",
      "mean      9038.200000\n",
      "std       5738.583852\n",
      "min       2954.000000\n",
      "25%       4357.250000\n",
      "50%       5994.500000\n",
      "75%      14304.250000\n",
      "max      17113.000000\n",
      "Name: nonveteran owned businesses, dtype: float64\n",
      "\n",
      "\n",
      "count      10.000000\n",
      "mean     1237.930000\n",
      "std       328.732617\n",
      "min       732.600000\n",
      "25%       948.825000\n",
      "50%      1346.050000\n",
      "75%      1452.475000\n",
      "max      1730.600000\n",
      "Name: population per square mile, dtype: float64\n",
      "\n",
      "\n",
      "count     10.000000\n",
      "mean      99.192000\n",
      "std       60.031692\n",
      "min       29.590000\n",
      "25%       54.770000\n",
      "50%       74.815000\n",
      "75%      144.330000\n",
      "max      209.050000\n",
      "Name: land area in square miles, dtype: float64\n",
      "\n",
      "\n"
     ]
    }
   ],
   "source": [
    "continuous = ['population',\n",
    "       'people under age 5', 'people under age 18', 'people 65 and older',\n",
    "       'female', 'white', 'black', 'american indian or alaska native', 'asian',\n",
    "       'native hawaiian and other pacific islander', '2+ races', 'hispanic',\n",
    "       'veteran', 'foreign born', 'owner occupied houses',\n",
    "       'avg value of owner occupied houses', 'avg rent', 'households',\n",
    "       'people per household', 'living in same house for over a year',\n",
    "       'language other than english spoken at home',\n",
    "       'households with computer', 'households with internet',\n",
    "       'high school graduate or higher, 25+',\n",
    "       'bachelors degree or higher, 25+', 'with disability, under 65',\n",
    "       'without health insurance, under 65', 'total labor force, 16+',\n",
    "       'female labor force, 16+',\n",
    "       'healthcare and social assistance revenue ($1,000)',\n",
    "       'manufacturers shipments ($1,000)',\n",
    "       'avg travel time to work (min), 16+', 'avg household income',\n",
    "       'per capita income in last 12 months', 'people in poverty',\n",
    "       'businesses', 'men owned businesses', 'female owned businesses',\n",
    "       'minority owned businesses', 'nonminority owned businesses',\n",
    "       'veteran owned businesses', 'nonveteran owned businesses',\n",
    "       'population per square mile','land area in square miles']\n",
    "for column in continuous:\n",
    "    print(df[column].describe())\n",
    "    print('\\n')"
   ]
  },
  {
   "cell_type": "markdown",
   "metadata": {},
   "source": [
    "The percentages are in whole numbers so we're going to turn them into\n",
    "percentages by dividing by 100"
   ]
  },
  {
   "cell_type": "code",
   "execution_count": 14,
   "metadata": {},
   "outputs": [
    {
     "name": "stdout",
     "output_type": "stream",
     "text": [
      "count    10.00000\n",
      "mean      0.06160\n",
      "std       0.00672\n",
      "min       0.04900\n",
      "25%       0.06000\n",
      "50%       0.06350\n",
      "75%       0.06500\n",
      "max       0.06900\n",
      "Name: people under age 5, dtype: float64\n",
      "\n",
      "\n",
      "count    10.000000\n",
      "mean      0.220700\n",
      "std       0.024212\n",
      "min       0.183000\n",
      "25%       0.205000\n",
      "50%       0.224000\n",
      "75%       0.239000\n",
      "max       0.254000\n",
      "Name: people under age 18, dtype: float64\n",
      "\n",
      "\n",
      "count    10.000000\n",
      "mean      0.140100\n",
      "std       0.032092\n",
      "min       0.075000\n",
      "25%       0.122000\n",
      "50%       0.149000\n",
      "75%       0.159250\n",
      "max       0.178000\n",
      "Name: people 65 and older, dtype: float64\n",
      "\n",
      "\n",
      "count    10.00000\n",
      "mean      0.52200\n",
      "std       0.01010\n",
      "min       0.50200\n",
      "25%       0.52025\n",
      "50%       0.52600\n",
      "75%       0.52800\n",
      "max       0.53100\n",
      "Name: female, dtype: float64\n",
      "\n",
      "\n",
      "count    10.000000\n",
      "mean      0.566000\n",
      "std       0.173511\n",
      "min       0.253000\n",
      "25%       0.463750\n",
      "50%       0.619000\n",
      "75%       0.715250\n",
      "max       0.741000\n",
      "Name: white, dtype: float64\n",
      "\n",
      "\n",
      "count    10.000000\n",
      "mean      0.362500\n",
      "std       0.195265\n",
      "min       0.150000\n",
      "25%       0.187250\n",
      "50%       0.323000\n",
      "75%       0.489750\n",
      "max       0.705000\n",
      "Name: black, dtype: float64\n",
      "\n",
      "\n",
      "count    10.000000\n",
      "mean      0.002900\n",
      "std       0.001663\n",
      "min       0.001000\n",
      "25%       0.002000\n",
      "50%       0.002500\n",
      "75%       0.003000\n",
      "max       0.007000\n",
      "Name: american indian or alaska native, dtype: float64\n",
      "\n",
      "\n",
      "count    10.000000\n",
      "mean      0.031200\n",
      "std       0.024872\n",
      "min       0.006000\n",
      "25%       0.012750\n",
      "50%       0.025500\n",
      "75%       0.043750\n",
      "max       0.085000\n",
      "Name: asian, dtype: float64\n",
      "\n",
      "\n",
      "count    10.000000\n",
      "mean      0.000200\n",
      "std       0.000422\n",
      "min       0.000000\n",
      "25%       0.000000\n",
      "50%       0.000000\n",
      "75%       0.000000\n",
      "max       0.001000\n",
      "Name: native hawaiian and other pacific islander, dtype: float64\n",
      "\n",
      "\n",
      "count    10.000000\n",
      "mean      0.020500\n",
      "std       0.008276\n",
      "min       0.011000\n",
      "25%       0.016250\n",
      "50%       0.019000\n",
      "75%       0.023750\n",
      "max       0.038000\n",
      "Name: 2+ races, dtype: float64\n",
      "\n",
      "\n",
      "count    10.000000\n",
      "mean      0.051500\n",
      "std       0.031426\n",
      "min       0.026000\n",
      "25%       0.034500\n",
      "50%       0.040000\n",
      "75%       0.058000\n",
      "max       0.134000\n",
      "Name: hispanic, dtype: float64\n",
      "\n",
      "\n",
      "count    10.000000\n",
      "mean      0.060600\n",
      "std       0.026634\n",
      "min       0.026000\n",
      "25%       0.039000\n",
      "50%       0.058000\n",
      "75%       0.077750\n",
      "max       0.104000\n",
      "Name: foreign born, dtype: float64\n",
      "\n",
      "\n",
      "count    10.000000\n",
      "mean      0.565000\n",
      "std       0.091081\n",
      "min       0.441000\n",
      "25%       0.489500\n",
      "50%       0.564000\n",
      "75%       0.618250\n",
      "max       0.699000\n",
      "Name: owner occupied houses, dtype: float64\n",
      "\n",
      "\n",
      "count    10.00000\n",
      "mean      0.80400\n",
      "std       0.04934\n",
      "min       0.69700\n",
      "25%       0.78475\n",
      "50%       0.81050\n",
      "75%       0.84475\n",
      "max       0.85500\n",
      "Name: living in same house for over a year, dtype: float64\n",
      "\n",
      "\n",
      "count    10.000000\n",
      "mean      0.082400\n",
      "std       0.034258\n",
      "min       0.040000\n",
      "25%       0.054500\n",
      "50%       0.072500\n",
      "75%       0.113250\n",
      "max       0.129000\n",
      "Name: language other than english spoken at home, dtype: float64\n",
      "\n",
      "\n",
      "count    10.00000\n",
      "mean      0.87660\n",
      "std       0.05998\n",
      "min       0.81500\n",
      "25%       0.83175\n",
      "50%       0.85100\n",
      "75%       0.93850\n",
      "max       0.96100\n",
      "Name: households with computer, dtype: float64\n",
      "\n",
      "\n",
      "count    10.000000\n",
      "mean      0.787800\n",
      "std       0.081955\n",
      "min       0.687000\n",
      "25%       0.723500\n",
      "50%       0.766500\n",
      "75%       0.851750\n",
      "max       0.912000\n",
      "Name: households with internet, dtype: float64\n",
      "\n",
      "\n",
      "count    10.000000\n",
      "mean      0.897200\n",
      "std       0.046654\n",
      "min       0.830000\n",
      "25%       0.864250\n",
      "50%       0.890000\n",
      "75%       0.934000\n",
      "max       0.964000\n",
      "Name: high school graduate or higher, 25+, dtype: float64\n",
      "\n",
      "\n",
      "count    10.000000\n",
      "mean      0.386800\n",
      "std       0.139762\n",
      "min       0.245000\n",
      "25%       0.266250\n",
      "50%       0.341000\n",
      "75%       0.532500\n",
      "max       0.575000\n",
      "Name: bachelors degree or higher, 25+, dtype: float64\n",
      "\n",
      "\n",
      "count    10.000000\n",
      "mean      0.094800\n",
      "std       0.030169\n",
      "min       0.054000\n",
      "25%       0.068250\n",
      "50%       0.096000\n",
      "75%       0.120750\n",
      "max       0.139000\n",
      "Name: with disability, under 65, dtype: float64\n",
      "\n",
      "\n",
      "count    10.000000\n",
      "mean      0.105700\n",
      "std       0.036512\n",
      "min       0.055000\n",
      "25%       0.070000\n",
      "50%       0.121500\n",
      "75%       0.133750\n",
      "max       0.151000\n",
      "Name: without health insurance, under 65, dtype: float64\n",
      "\n",
      "\n",
      "count    10.00000\n",
      "mean      0.60560\n",
      "std       0.04765\n",
      "min       0.56000\n",
      "25%       0.56875\n",
      "50%       0.59150\n",
      "75%       0.61875\n",
      "max       0.69300\n",
      "Name: total labor force, 16+, dtype: float64\n",
      "\n",
      "\n",
      "count    10.000000\n",
      "mean      0.560000\n",
      "std       0.035889\n",
      "min       0.495000\n",
      "25%       0.538000\n",
      "50%       0.563000\n",
      "75%       0.583500\n",
      "max       0.616000\n",
      "Name: female labor force, 16+, dtype: float64\n",
      "\n",
      "\n",
      "count    10.000000\n",
      "mean      0.193800\n",
      "std       0.076514\n",
      "min       0.063000\n",
      "25%       0.180500\n",
      "50%       0.207500\n",
      "75%       0.236500\n",
      "max       0.291000\n",
      "Name: people in poverty, dtype: float64\n",
      "\n",
      "\n"
     ]
    }
   ],
   "source": [
    "percentages = ['people under age 5', 'people under age 18', 'people 65 and older',\n",
    "       'female', 'white', 'black', 'american indian or alaska native', 'asian',\n",
    "       'native hawaiian and other pacific islander', '2+ races', 'hispanic',\n",
    "       'foreign born', 'owner occupied houses','living in same house for over a year',\n",
    "       'language other than english spoken at home',\n",
    "       'households with computer', 'households with internet',\n",
    "       'high school graduate or higher, 25+',\n",
    "       'bachelors degree or higher, 25+', 'with disability, under 65',\n",
    "       'without health insurance, under 65', 'total labor force, 16+',\n",
    "       'female labor force, 16+', 'people in poverty']\n",
    "for column in percentages:\n",
    "    df[column]=df[column]/100\n",
    "    print(df[column].describe())\n",
    "    print('\\n')"
   ]
  },
  {
   "cell_type": "markdown",
   "metadata": {},
   "source": [
    "Turning veteran into % of population "
   ]
  },
  {
   "cell_type": "code",
   "execution_count": 15,
   "metadata": {},
   "outputs": [],
   "source": [
    "df['veteran'] = (df['veteran']/df['population'])*100"
   ]
  },
  {
   "cell_type": "code",
   "execution_count": 16,
   "metadata": {},
   "outputs": [
    {
     "name": "stdout",
     "output_type": "stream",
     "text": [
      "With Outliers:\n"
     ]
    },
    {
     "data": {
      "image/png": "[encoded data removed]",
      "text/plain": [
       "<Figure size 432x288 with 1 Axes>"
      ]
     },
     "metadata": {
      "needs_background": "light"
     },
     "output_type": "display_data"
    },
    {
     "data": {
      "image/png": "[encoded data removed]",
      "text/plain": [
       "<Figure size 432x288 with 1 Axes>"
      ]
     },
     "metadata": {
      "needs_background": "light"
     },
     "output_type": "display_data"
    },
    {
     "data": {
      "image/png": "[encoded data removed]",
      "text/plain": [
       "<Figure size 432x288 with 1 Axes>"
      ]
     },
     "metadata": {
      "needs_background": "light"
     },
     "output_type": "display_data"
    },
    {
     "data": {
      "image/png": "[encoded data removed]",
      "text/plain": [
       "<Figure size 432x288 with 1 Axes>"
      ]
     },
     "metadata": {
      "needs_background": "light"
     },
     "output_type": "display_data"
    },
    {
     "data": {
      "image/png": "[encoded data removed]",
      "text/plain": [
       "<Figure size 432x288 with 1 Axes>"
      ]
     },
     "metadata": {
      "needs_background": "light"
     },
     "output_type": "display_data"
    },
    {
     "data": {
      "image/png": "[encoded data removed]",
      "text/plain": [
       "<Figure size 432x288 with 1 Axes>"
      ]
     },
     "metadata": {
      "needs_background": "light"
     },
     "output_type": "display_data"
    },
    {
     "data": {
      "image/png": "[encoded data removed]",
      "text/plain": [
       "<Figure size 432x288 with 1 Axes>"
      ]
     },
     "metadata": {
      "needs_background": "light"
     },
     "output_type": "display_data"
    },
    {
     "data": {
      "image/png": "[encoded data removed]",
      "text/plain": [
       "<Figure size 432x288 with 1 Axes>"
      ]
     },
     "metadata": {
      "needs_background": "light"
     },
     "output_type": "display_data"
    },
    {
     "data": {
      "image/png": "[encoded data removed]",
      "text/plain": [
       "<Figure size 432x288 with 1 Axes>"
      ]
     },
     "metadata": {
      "needs_background": "light"
     },
     "output_type": "display_data"
    },
    {
     "data": {
      "image/png": "[encoded data removed]",
      "text/plain": [
       "<Figure size 432x288 with 1 Axes>"
      ]
     },
     "metadata": {
      "needs_background": "light"
     },
     "output_type": "display_data"
    },
    {
     "data": {
      "image/png": "[encoded data removed]",
      "text/plain": [
       "<Figure size 432x288 with 1 Axes>"
      ]
     },
     "metadata": {
      "needs_background": "light"
     },
     "output_type": "display_data"
    },
    {
     "data": {
      "image/png": "[encoded data removed]",
      "text/plain": [
       "<Figure size 432x288 with 1 Axes>"
      ]
     },
     "metadata": {
      "needs_background": "light"
     },
     "output_type": "display_data"
    },
    {
     "data": {
      "image/png": "[encoded data removed]",
      "text/plain": [
       "<Figure size 432x288 with 1 Axes>"
      ]
     },
     "metadata": {
      "needs_background": "light"
     },
     "output_type": "display_data"
    },
    {
     "data": {
      "image/png": "[encoded data removed]",
      "text/plain": [
       "<Figure size 432x288 with 1 Axes>"
      ]
     },
     "metadata": {
      "needs_background": "light"
     },
     "output_type": "display_data"
    },
    {
     "data": {
      "image/png": "[encoded data removed]",
      "text/plain": [
       "<Figure size 432x288 with 1 Axes>"
      ]
     },
     "metadata": {
      "needs_background": "light"
     },
     "output_type": "display_data"
    },
    {
     "data": {
      "image/png": "[encoded data removed]",
      "text/plain": [
       "<Figure size 432x288 with 1 Axes>"
      ]
     },
     "metadata": {
      "needs_background": "light"
     },
     "output_type": "display_data"
    },
    {
     "data": {
      "image/png": "[encoded data removed]",
      "text/plain": [
       "<Figure size 432x288 with 1 Axes>"
      ]
     },
     "metadata": {
      "needs_background": "light"
     },
     "output_type": "display_data"
    },
    {
     "data": {
      "image/png": "[encoded data removed]",
      "text/plain": [
       "<Figure size 432x288 with 1 Axes>"
      ]
     },
     "metadata": {
      "needs_background": "light"
     },
     "output_type": "display_data"
    },
    {
     "data": {
      "image/png": "[encoded data removed]",
      "text/plain": [
       "<Figure size 432x288 with 1 Axes>"
      ]
     },
     "metadata": {
      "needs_background": "light"
     },
     "output_type": "display_data"
    },
    {
     "data": {
      "image/png": "[encoded data removed]",
      "text/plain": [
       "<Figure size 432x288 with 1 Axes>"
      ]
     },
     "metadata": {
      "needs_background": "light"
     },
     "output_type": "display_data"
    },
    {
     "data": {
      "image/png": "[encoded data removed]",
      "text/plain": [
       "<Figure size 432x288 with 1 Axes>"
      ]
     },
     "metadata": {
      "needs_background": "light"
     },
     "output_type": "display_data"
    },
    {
     "data": {
      "image/png": "[encoded data removed]",
      "text/plain": [
       "<Figure size 432x288 with 1 Axes>"
      ]
     },
     "metadata": {
      "needs_background": "light"
     },
     "output_type": "display_data"
    },
    {
     "data": {
      "image/png": "[encoded data removed]",
      "text/plain": [
       "<Figure size 432x288 with 1 Axes>"
      ]
     },
     "metadata": {
      "needs_background": "light"
     },
     "output_type": "display_data"
    },
    {
     "data": {
      "image/png": "[encoded data removed]",
      "text/plain": [
       "<Figure size 432x288 with 1 Axes>"
      ]
     },
     "metadata": {
      "needs_background": "light"
     },
     "output_type": "display_data"
    },
    {
     "data": {
      "image/png": "[encoded data removed]",
      "text/plain": [
       "<Figure size 432x288 with 1 Axes>"
      ]
     },
     "metadata": {
      "needs_background": "light"
     },
     "output_type": "display_data"
    },
    {
     "data": {
      "image/png": "[encoded data removed]",
      "text/plain": [
       "<Figure size 432x288 with 1 Axes>"
      ]
     },
     "metadata": {
      "needs_background": "light"
     },
     "output_type": "display_data"
    },
    {
     "data": {
      "image/png": "[encoded data removed]",
      "text/plain": [
       "<Figure size 432x288 with 1 Axes>"
      ]
     },
     "metadata": {
      "needs_background": "light"
     },
     "output_type": "display_data"
    },
    {
     "data": {
      "image/png": "[encoded data removed]",
      "text/plain": [
       "<Figure size 432x288 with 1 Axes>"
      ]
     },
     "metadata": {
      "needs_background": "light"
     },
     "output_type": "display_data"
    },
    {
     "data": {
      "image/png": "[encoded data removed]",
      "text/plain": [
       "<Figure size 432x288 with 1 Axes>"
      ]
     },
     "metadata": {
      "needs_background": "light"
     },
     "output_type": "display_data"
    },
    {
     "data": {
      "image/png": "[encoded data removed]",
      "text/plain": [
       "<Figure size 432x288 with 1 Axes>"
      ]
     },
     "metadata": {
      "needs_background": "light"
     },
     "output_type": "display_data"
    },
    {
     "data": {
      "image/png": "[encoded data removed]",
      "text/plain": [
       "<Figure size 432x288 with 1 Axes>"
      ]
     },
     "metadata": {
      "needs_background": "light"
     },
     "output_type": "display_data"
    },
    {
     "data": {
      "image/png": "[encoded data removed]",
      "text/plain": [
       "<Figure size 432x288 with 1 Axes>"
      ]
     },
     "metadata": {
      "needs_background": "light"
     },
     "output_type": "display_data"
    },
    {
     "data": {
      "image/png": "[encoded data removed]",
      "text/plain": [
       "<Figure size 432x288 with 1 Axes>"
      ]
     },
     "metadata": {
      "needs_background": "light"
     },
     "output_type": "display_data"
    },
    {
     "data": {
      "image/png": "[encoded data removed]",
      "text/plain": [
       "<Figure size 432x288 with 1 Axes>"
      ]
     },
     "metadata": {
      "needs_background": "light"
     },
     "output_type": "display_data"
    },
    {
     "data": {
      "image/png": "[encoded data removed]",
      "text/plain": [
       "<Figure size 432x288 with 1 Axes>"
      ]
     },
     "metadata": {
      "needs_background": "light"
     },
     "output_type": "display_data"
    },
    {
     "data": {
      "image/png": "[encoded data removed]",
      "text/plain": [
       "<Figure size 432x288 with 1 Axes>"
      ]
     },
     "metadata": {
      "needs_background": "light"
     },
     "output_type": "display_data"
    },
    {
     "data": {
      "image/png": "[encoded data removed]",
      "text/plain": [
       "<Figure size 432x288 with 1 Axes>"
      ]
     },
     "metadata": {
      "needs_background": "light"
     },
     "output_type": "display_data"
    },
    {
     "data": {
      "image/png": "[encoded data removed]",
      "text/plain": [
       "<Figure size 432x288 with 1 Axes>"
      ]
     },
     "metadata": {
      "needs_background": "light"
     },
     "output_type": "display_data"
    },
    {
     "data": {
      "image/png": "[encoded data removed]",
      "text/plain": [
       "<Figure size 432x288 with 1 Axes>"
      ]
     },
     "metadata": {
      "needs_background": "light"
     },
     "output_type": "display_data"
    },
    {
     "data": {
      "image/png": "[encoded data removed]",
      "text/plain": [
       "<Figure size 432x288 with 1 Axes>"
      ]
     },
     "metadata": {
      "needs_background": "light"
     },
     "output_type": "display_data"
    },
    {
     "data": {
      "image/png": "[encoded data removed]",
      "text/plain": [
       "<Figure size 432x288 with 1 Axes>"
      ]
     },
     "metadata": {
      "needs_background": "light"
     },
     "output_type": "display_data"
    },
    {
     "data": {
      "image/png": "[encoded data removed]",
      "text/plain": [
       "<Figure size 432x288 with 1 Axes>"
      ]
     },
     "metadata": {
      "needs_background": "light"
     },
     "output_type": "display_data"
    },
    {
     "data": {
      "image/png": "[encoded data removed]",
      "text/plain": [
       "<Figure size 432x288 with 1 Axes>"
      ]
     },
     "metadata": {
      "needs_background": "light"
     },
     "output_type": "display_data"
    },
    {
     "data": {
      "image/png": "[encoded data removed]",
      "text/plain": [
       "<Figure size 432x288 with 1 Axes>"
      ]
     },
     "metadata": {
      "needs_background": "light"
     },
     "output_type": "display_data"
    }
   ],
   "source": [
    "print(\"With Outliers:\")\n",
    "for column in continuous:\n",
    "    df.boxplot(column=column)\n",
    "    plt.show()"
   ]
  },
  {
   "cell_type": "code",
   "execution_count": 17,
   "metadata": {},
   "outputs": [],
   "source": [
    "\n",
    "def remove_outliers(continous_columns, dataframe):\n",
    "    \"\"\"Return a dataframe with any values below the lower fence and above the upper fence removed from given columns in the given dataframe.\"\"\"\n",
    "    for column in continous_columns:\n",
    "        # calculate values for lower fence and upper fence\n",
    "        Q1 = dataframe[column].quantile(0.25)\n",
    "        Q3 = dataframe[column].quantile(0.75)\n",
    "        IQR = Q3 - Q1\n",
    "        lower_fence = Q1 - 1.5 * IQR\n",
    "        upper_fence = Q3 + 1.5 * IQR\n",
    "        # remove rows from dataframe which fall out of this range\n",
    "        num_removing = dataframe.shape[0]\n",
    "        new_df = dataframe[dataframe[column] > lower_fence]\n",
    "        new_df = dataframe[dataframe[column] < upper_fence]\n",
    "        num_removing -= new_df.shape[0]\n",
    "        print(f\"{num_removing} rows will be removed from {column}.\")\n",
    "    return new_df"
   ]
  },
  {
   "cell_type": "code",
   "execution_count": 18,
   "metadata": {
    "scrolled": true
   },
   "outputs": [
    {
     "name": "stdout",
     "output_type": "stream",
     "text": [
      "0 rows will be removed from population.\n",
      "0 rows will be removed from people under age 5.\n",
      "0 rows will be removed from people under age 18.\n",
      "0 rows will be removed from people 65 and older.\n",
      "0 rows will be removed from female.\n",
      "0 rows will be removed from white.\n",
      "0 rows will be removed from black.\n",
      "1 rows will be removed from american indian or alaska native.\n",
      "0 rows will be removed from asian.\n",
      "10 rows will be removed from native hawaiian and other pacific islander.\n",
      "1 rows will be removed from 2+ races.\n",
      "1 rows will be removed from hispanic.\n",
      "0 rows will be removed from veteran.\n",
      "0 rows will be removed from foreign born.\n",
      "0 rows will be removed from owner occupied houses.\n",
      "0 rows will be removed from avg value of owner occupied houses.\n",
      "1 rows will be removed from avg rent.\n",
      "0 rows will be removed from households.\n",
      "0 rows will be removed from people per household.\n",
      "0 rows will be removed from living in same house for over a year.\n",
      "0 rows will be removed from language other than english spoken at home.\n",
      "0 rows will be removed from households with computer.\n",
      "0 rows will be removed from households with internet.\n",
      "0 rows will be removed from high school graduate or higher, 25+.\n",
      "0 rows will be removed from bachelors degree or higher, 25+.\n",
      "0 rows will be removed from with disability, under 65.\n",
      "0 rows will be removed from without health insurance, under 65.\n",
      "0 rows will be removed from total labor force, 16+.\n",
      "0 rows will be removed from female labor force, 16+.\n",
      "1 rows will be removed from healthcare and social assistance revenue ($1,000).\n",
      "0 rows will be removed from manufacturers shipments ($1,000).\n",
      "0 rows will be removed from avg travel time to work (min), 16+.\n",
      "2 rows will be removed from avg household income.\n",
      "2 rows will be removed from per capita income in last 12 months.\n",
      "0 rows will be removed from people in poverty.\n",
      "0 rows will be removed from businesses.\n",
      "0 rows will be removed from men owned businesses.\n",
      "0 rows will be removed from female owned businesses.\n",
      "0 rows will be removed from minority owned businesses.\n",
      "0 rows will be removed from nonminority owned businesses.\n",
      "0 rows will be removed from veteran owned businesses.\n",
      "0 rows will be removed from nonveteran owned businesses.\n",
      "0 rows will be removed from population per square mile.\n",
      "0 rows will be removed from land area in square miles.\n"
     ]
    },
    {
     "data": {
      "text/html": [
       "<div>\n",
       "<style scoped>\n",
       "    .dataframe tbody tr th:only-of-type {\n",
       "        vertical-align: middle;\n",
       "    }\n",
       "\n",
       "    .dataframe tbody tr th {\n",
       "        vertical-align: top;\n",
       "    }\n",
       "\n",
       "    .dataframe thead th {\n",
       "        text-align: right;\n",
       "    }\n",
       "</style>\n",
       "<table border=\"1\" class=\"dataframe\">\n",
       "  <thead>\n",
       "    <tr style=\"text-align: right;\">\n",
       "      <th></th>\n",
       "      <th>political affiliation</th>\n",
       "      <th>population</th>\n",
       "      <th>people under age 5</th>\n",
       "      <th>people under age 18</th>\n",
       "      <th>people 65 and older</th>\n",
       "      <th>female</th>\n",
       "      <th>white</th>\n",
       "      <th>black</th>\n",
       "      <th>american indian or alaska native</th>\n",
       "      <th>asian</th>\n",
       "      <th>...</th>\n",
       "      <th>people in poverty</th>\n",
       "      <th>businesses</th>\n",
       "      <th>men owned businesses</th>\n",
       "      <th>female owned businesses</th>\n",
       "      <th>minority owned businesses</th>\n",
       "      <th>nonminority owned businesses</th>\n",
       "      <th>veteran owned businesses</th>\n",
       "      <th>nonveteran owned businesses</th>\n",
       "      <th>population per square mile</th>\n",
       "      <th>land area in square miles</th>\n",
       "    </tr>\n",
       "  </thead>\n",
       "  <tbody>\n",
       "    <tr>\n",
       "      <td>0</td>\n",
       "      <td>liberal</td>\n",
       "      <td>209880</td>\n",
       "      <td>0.065</td>\n",
       "      <td>0.203</td>\n",
       "      <td>0.142</td>\n",
       "      <td>0.531</td>\n",
       "      <td>0.253</td>\n",
       "      <td>0.705</td>\n",
       "      <td>0.002</td>\n",
       "      <td>0.009</td>\n",
       "      <td>...</td>\n",
       "      <td>0.272</td>\n",
       "      <td>20738</td>\n",
       "      <td>10318</td>\n",
       "      <td>8286</td>\n",
       "      <td>10605</td>\n",
       "      <td>8770</td>\n",
       "      <td>2082</td>\n",
       "      <td>17113</td>\n",
       "      <td>1453.0</td>\n",
       "      <td>146.07</td>\n",
       "    </tr>\n",
       "    <tr>\n",
       "      <td>1</td>\n",
       "      <td>liberal</td>\n",
       "      <td>198218</td>\n",
       "      <td>0.068</td>\n",
       "      <td>0.240</td>\n",
       "      <td>0.137</td>\n",
       "      <td>0.530</td>\n",
       "      <td>0.333</td>\n",
       "      <td>0.606</td>\n",
       "      <td>0.002</td>\n",
       "      <td>0.028</td>\n",
       "      <td>...</td>\n",
       "      <td>0.219</td>\n",
       "      <td>18043</td>\n",
       "      <td>8879</td>\n",
       "      <td>7459</td>\n",
       "      <td>8793</td>\n",
       "      <td>8363</td>\n",
       "      <td>2352</td>\n",
       "      <td>14434</td>\n",
       "      <td>1289.5</td>\n",
       "      <td>159.57</td>\n",
       "    </tr>\n",
       "    <tr>\n",
       "      <td>2</td>\n",
       "      <td>liberal</td>\n",
       "      <td>189572</td>\n",
       "      <td>0.063</td>\n",
       "      <td>0.217</td>\n",
       "      <td>0.160</td>\n",
       "      <td>0.526</td>\n",
       "      <td>0.448</td>\n",
       "      <td>0.506</td>\n",
       "      <td>0.002</td>\n",
       "      <td>0.018</td>\n",
       "      <td>...</td>\n",
       "      <td>0.220</td>\n",
       "      <td>20118</td>\n",
       "      <td>9703</td>\n",
       "      <td>8644</td>\n",
       "      <td>8808</td>\n",
       "      <td>10250</td>\n",
       "      <td>2275</td>\n",
       "      <td>16639</td>\n",
       "      <td>1402.6</td>\n",
       "      <td>139.11</td>\n",
       "    </tr>\n",
       "    <tr>\n",
       "      <td>3</td>\n",
       "      <td>liberal</td>\n",
       "      <td>197318</td>\n",
       "      <td>0.064</td>\n",
       "      <td>0.211</td>\n",
       "      <td>0.157</td>\n",
       "      <td>0.519</td>\n",
       "      <td>0.616</td>\n",
       "      <td>0.306</td>\n",
       "      <td>0.004</td>\n",
       "      <td>0.027</td>\n",
       "      <td>...</td>\n",
       "      <td>0.177</td>\n",
       "      <td>16838</td>\n",
       "      <td>8211</td>\n",
       "      <td>6565</td>\n",
       "      <td>4380</td>\n",
       "      <td>11515</td>\n",
       "      <td>1816</td>\n",
       "      <td>13915</td>\n",
       "      <td>861.5</td>\n",
       "      <td>209.05</td>\n",
       "    </tr>\n",
       "    <tr>\n",
       "      <td>4</td>\n",
       "      <td>liberal</td>\n",
       "      <td>101113</td>\n",
       "      <td>0.059</td>\n",
       "      <td>0.188</td>\n",
       "      <td>0.117</td>\n",
       "      <td>0.524</td>\n",
       "      <td>0.511</td>\n",
       "      <td>0.441</td>\n",
       "      <td>0.003</td>\n",
       "      <td>0.024</td>\n",
       "      <td>...</td>\n",
       "      <td>0.242</td>\n",
       "      <td>6802</td>\n",
       "      <td>3374</td>\n",
       "      <td>2530</td>\n",
       "      <td>1953</td>\n",
       "      <td>4375</td>\n",
       "      <td>670</td>\n",
       "      <td>5438</td>\n",
       "      <td>1501.9</td>\n",
       "      <td>60.23</td>\n",
       "    </tr>\n",
       "    <tr>\n",
       "      <td>5</td>\n",
       "      <td>liberal</td>\n",
       "      <td>85108</td>\n",
       "      <td>0.069</td>\n",
       "      <td>0.254</td>\n",
       "      <td>0.156</td>\n",
       "      <td>0.528</td>\n",
       "      <td>0.727</td>\n",
       "      <td>0.174</td>\n",
       "      <td>0.002</td>\n",
       "      <td>0.049</td>\n",
       "      <td>...</td>\n",
       "      <td>0.067</td>\n",
       "      <td>7982</td>\n",
       "      <td>4402</td>\n",
       "      <td>2471</td>\n",
       "      <td>1371</td>\n",
       "      <td>6147</td>\n",
       "      <td>831</td>\n",
       "      <td>6551</td>\n",
       "      <td>1730.6</td>\n",
       "      <td>47.16</td>\n",
       "    </tr>\n",
       "    <tr>\n",
       "      <td>6</td>\n",
       "      <td>conservative</td>\n",
       "      <td>68247</td>\n",
       "      <td>0.065</td>\n",
       "      <td>0.236</td>\n",
       "      <td>0.172</td>\n",
       "      <td>0.528</td>\n",
       "      <td>0.622</td>\n",
       "      <td>0.340</td>\n",
       "      <td>0.003</td>\n",
       "      <td>0.011</td>\n",
       "      <td>...</td>\n",
       "      <td>0.191</td>\n",
       "      <td>6620</td>\n",
       "      <td>3163</td>\n",
       "      <td>2552</td>\n",
       "      <td>1707</td>\n",
       "      <td>4478</td>\n",
       "      <td>785</td>\n",
       "      <td>5294</td>\n",
       "      <td>732.6</td>\n",
       "      <td>89.40</td>\n",
       "    </tr>\n",
       "    <tr>\n",
       "      <td>7</td>\n",
       "      <td>liberal</td>\n",
       "      <td>65738</td>\n",
       "      <td>0.051</td>\n",
       "      <td>0.183</td>\n",
       "      <td>0.075</td>\n",
       "      <td>0.506</td>\n",
       "      <td>0.729</td>\n",
       "      <td>0.170</td>\n",
       "      <td>0.001</td>\n",
       "      <td>0.085</td>\n",
       "      <td>...</td>\n",
       "      <td>0.291</td>\n",
       "      <td>4659</td>\n",
       "      <td>2756</td>\n",
       "      <td>1332</td>\n",
       "      <td>934</td>\n",
       "      <td>3503</td>\n",
       "      <td>359</td>\n",
       "      <td>3999</td>\n",
       "      <td>919.3</td>\n",
       "      <td>58.07</td>\n",
       "    </tr>\n",
       "    <tr>\n",
       "      <td>8</td>\n",
       "      <td>conservative</td>\n",
       "      <td>54264</td>\n",
       "      <td>0.063</td>\n",
       "      <td>0.231</td>\n",
       "      <td>0.178</td>\n",
       "      <td>0.526</td>\n",
       "      <td>0.680</td>\n",
       "      <td>0.227</td>\n",
       "      <td>0.003</td>\n",
       "      <td>0.006</td>\n",
       "      <td>...</td>\n",
       "      <td>0.196</td>\n",
       "      <td>4949</td>\n",
       "      <td>2598</td>\n",
       "      <td>1758</td>\n",
       "      <td>1142</td>\n",
       "      <td>3481</td>\n",
       "      <td>484</td>\n",
       "      <td>4045</td>\n",
       "      <td>1037.4</td>\n",
       "      <td>53.67</td>\n",
       "    </tr>\n",
       "    <tr>\n",
       "      <td>9</td>\n",
       "      <td>conservative</td>\n",
       "      <td>50440</td>\n",
       "      <td>0.049</td>\n",
       "      <td>0.244</td>\n",
       "      <td>0.107</td>\n",
       "      <td>0.502</td>\n",
       "      <td>0.741</td>\n",
       "      <td>0.150</td>\n",
       "      <td>0.007</td>\n",
       "      <td>0.055</td>\n",
       "      <td>...</td>\n",
       "      <td>0.063</td>\n",
       "      <td>3511</td>\n",
       "      <td>1658</td>\n",
       "      <td>1399</td>\n",
       "      <td>743</td>\n",
       "      <td>2617</td>\n",
       "      <td>352</td>\n",
       "      <td>2954</td>\n",
       "      <td>1450.9</td>\n",
       "      <td>29.59</td>\n",
       "    </tr>\n",
       "  </tbody>\n",
       "</table>\n",
       "<p>10 rows × 45 columns</p>\n",
       "</div>"
      ],
      "text/plain": [
       "  political affiliation  population  people under age 5  people under age 18  \\\n",
       "0               liberal      209880               0.065                0.203   \n",
       "1               liberal      198218               0.068                0.240   \n",
       "2               liberal      189572               0.063                0.217   \n",
       "3               liberal      197318               0.064                0.211   \n",
       "4               liberal      101113               0.059                0.188   \n",
       "5               liberal       85108               0.069                0.254   \n",
       "6          conservative       68247               0.065                0.236   \n",
       "7               liberal       65738               0.051                0.183   \n",
       "8          conservative       54264               0.063                0.231   \n",
       "9          conservative       50440               0.049                0.244   \n",
       "\n",
       "   people 65 and older  female  white  black  \\\n",
       "0                0.142   0.531  0.253  0.705   \n",
       "1                0.137   0.530  0.333  0.606   \n",
       "2                0.160   0.526  0.448  0.506   \n",
       "3                0.157   0.519  0.616  0.306   \n",
       "4                0.117   0.524  0.511  0.441   \n",
       "5                0.156   0.528  0.727  0.174   \n",
       "6                0.172   0.528  0.622  0.340   \n",
       "7                0.075   0.506  0.729  0.170   \n",
       "8                0.178   0.526  0.680  0.227   \n",
       "9                0.107   0.502  0.741  0.150   \n",
       "\n",
       "   american indian or alaska native  asian  ...  people in poverty  \\\n",
       "0                             0.002  0.009  ...              0.272   \n",
       "1                             0.002  0.028  ...              0.219   \n",
       "2                             0.002  0.018  ...              0.220   \n",
       "3                             0.004  0.027  ...              0.177   \n",
       "4                             0.003  0.024  ...              0.242   \n",
       "5                             0.002  0.049  ...              0.067   \n",
       "6                             0.003  0.011  ...              0.191   \n",
       "7                             0.001  0.085  ...              0.291   \n",
       "8                             0.003  0.006  ...              0.196   \n",
       "9                             0.007  0.055  ...              0.063   \n",
       "\n",
       "   businesses  men owned businesses  female owned businesses  \\\n",
       "0       20738                 10318                     8286   \n",
       "1       18043                  8879                     7459   \n",
       "2       20118                  9703                     8644   \n",
       "3       16838                  8211                     6565   \n",
       "4        6802                  3374                     2530   \n",
       "5        7982                  4402                     2471   \n",
       "6        6620                  3163                     2552   \n",
       "7        4659                  2756                     1332   \n",
       "8        4949                  2598                     1758   \n",
       "9        3511                  1658                     1399   \n",
       "\n",
       "   minority owned businesses  nonminority owned businesses  \\\n",
       "0                      10605                          8770   \n",
       "1                       8793                          8363   \n",
       "2                       8808                         10250   \n",
       "3                       4380                         11515   \n",
       "4                       1953                          4375   \n",
       "5                       1371                          6147   \n",
       "6                       1707                          4478   \n",
       "7                        934                          3503   \n",
       "8                       1142                          3481   \n",
       "9                        743                          2617   \n",
       "\n",
       "   veteran owned businesses  nonveteran owned businesses  \\\n",
       "0                      2082                        17113   \n",
       "1                      2352                        14434   \n",
       "2                      2275                        16639   \n",
       "3                      1816                        13915   \n",
       "4                       670                         5438   \n",
       "5                       831                         6551   \n",
       "6                       785                         5294   \n",
       "7                       359                         3999   \n",
       "8                       484                         4045   \n",
       "9                       352                         2954   \n",
       "\n",
       "   population per square mile  land area in square miles  \n",
       "0                      1453.0                     146.07  \n",
       "1                      1289.5                     159.57  \n",
       "2                      1402.6                     139.11  \n",
       "3                       861.5                     209.05  \n",
       "4                      1501.9                      60.23  \n",
       "5                      1730.6                      47.16  \n",
       "6                       732.6                      89.40  \n",
       "7                       919.3                      58.07  \n",
       "8                      1037.4                      53.67  \n",
       "9                      1450.9                      29.59  \n",
       "\n",
       "[10 rows x 45 columns]"
      ]
     },
     "execution_count": 18,
     "metadata": {},
     "output_type": "execute_result"
    }
   ],
   "source": [
    "remove_outliers(continuous, df)"
   ]
  },
  {
   "cell_type": "code",
   "execution_count": null,
   "metadata": {},
   "outputs": [],
   "source": []
  },
  {
   "cell_type": "code",
   "execution_count": null,
   "metadata": {},
   "outputs": [],
   "source": []
  },
  {
   "cell_type": "code",
   "execution_count": null,
   "metadata": {},
   "outputs": [],
   "source": []
  },
  {
   "cell_type": "code",
   "execution_count": null,
   "metadata": {},
   "outputs": [],
   "source": []
  }
 ],
 "metadata": {
  "kernelspec": {
   "display_name": "Python 3",
   "language": "python",
   "name": "python3"
  },
  "language_info": {
   "codemirror_mode": {
    "name": "ipython",
    "version": 3
   },
   "file_extension": ".py",
   "mimetype": "text/x-python",
   "name": "python",
   "nbconvert_exporter": "python",
   "pygments_lexer": "ipython3",
   "version": "3.7.4"
  }
 },
 "nbformat": 4,
 "nbformat_minor": 2
}
